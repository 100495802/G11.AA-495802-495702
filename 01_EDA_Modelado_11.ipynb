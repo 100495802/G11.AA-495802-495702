{
  "cells": [
    {
      "cell_type": "markdown",
      "metadata": {
        "colab_type": "text",
        "id": "view-in-github"
      },
      "source": [
        "<a href=\"https://colab.research.google.com/github/100495802/G11.AA-495802-495702/blob/main/P1AA.ipynb\" target=\"_parent\"><img src=\"https://colab.research.google.com/assets/colab-badge.svg\" alt=\"Open In Colab\"/></a>"
      ]
    },
    {
      "cell_type": "markdown",
      "metadata": {
        "id": "5SpM5Zk6CIBr"
      },
      "source": [
        "# __P1-AA: PREDICCIÓN DEL ABANDONO DE EMPLEADOS DE UNA EMPRESA__\n",
        "- Curso de Aprendizaje Automático 2024/25\n",
        "- Grado en Ingeniería Informática - UC3M\n",
        "\n",
        "__Grupo 11 de prácticas__\n",
        "- Alejandro López Sancho: 100495702\n",
        "- Javier Rosales Lozano: 100495802\n",
        "\n",
        "__Repositorio de GitHub__: [G11.AA-495802-195702](https://github.com/100495802/G11.AA-495802-495702.git)"
      ]
    },
    {
      "cell_type": "markdown",
      "metadata": {
        "id": "FioRDksKCIBt"
      },
      "source": [
        "## 1. Introducción y carga de datos"
      ]
    },
    {
      "cell_type": "markdown",
      "metadata": {
        "id": "ajE94grg11p9"
      },
      "source": [
        "### 1.1. Enunciado del proyecto"
      ]
    },
    {
      "cell_type": "markdown",
      "metadata": {
        "id": "isNVNy5ICIBu"
      },
      "source": [
        "El siguiente notebook contiene toda la información y trabajo realizado acerca de la primera parte de la práctica inicial del curso de Aprendizaje Automático 2024/25. El objetivo de esta práctica es realizar la __construcción, medición y evaluación de un modelo que prediga un problema planteado como el número de abandonos dentro de una empresa en función de las características de sus trabajadores__.\n",
        "\n",
        "En este primer archivo de Jupyter Notebook encontraremos todo el proceso de EDA (Exploratory Data Analysis), selección de imputers y scalers, ajuste de hiperparámetros, evaluación de modelos, obtención de la tasa de aprendizaje y resolución de las preguntas establecidas en el enunciado de la práctica."
      ]
    },
    {
      "cell_type": "markdown",
      "metadata": {
        "id": "rAdFsjFhCIBv"
      },
      "source": [
        "### 1.2. Repositorio Github y Dataset Inicial"
      ]
    },
    {
      "cell_type": "markdown",
      "metadata": {
        "id": "s-_Rtj9711p-"
      },
      "source": [
        "El siguiente enlace redirige al [repositorio Github](https://github.com/100495802/G11.AA-495802-495702.git) correspondiente al proyecto; los datos elegidos para la realización del proyecto corresponden con el estándar especificado para la realización del trabajo (suma de los dos últimos dígitos de uno de los NIAs del grupo de prácticas). En este caso, hemos elegido el NIA __100495802__, por lo que nuestro [dataset inicial](attrition_availabledata_02.csv.gz) corresponderá con el número _2_ del conjunto de datasets del Aula Global."
      ]
    },
    {
      "cell_type": "markdown",
      "metadata": {
        "id": "KkvWftzzAVYR"
      },
      "source": [
        "### 1.3. Carga de Datos"
      ]
    },
    {
      "cell_type": "markdown",
      "metadata": {
        "id": "N0cZ6hKT11p-"
      },
      "source": [
        "En caso de que se ejecute este Jupyter Notebook en un entorno de ejecución, se deberán instalar las dependencias dadas en el fichero [requirements.txt](requirements.txt), que se encuentra en la raíz del proyecto. El comando a ejecutar debe ser:\n",
        "\n",
        "```bash\n",
        "pip install -r requirements.txt\n",
        "```\n",
        "\n",
        "A continuación, nos disponemos a la __carga de este conjunto de datos__:"
      ]
    },
    {
      "cell_type": "code",
      "execution_count": 48,
      "metadata": {
        "id": "SWvqYujY3lYu"
      },
      "outputs": [],
      "source": [
        "import pandas as pd\n",
        "datos = pd.read_csv(\"attrition_availabledata_02.csv.gz\", compression=\"gzip\", sep=\",\")"
      ]
    },
    {
      "cell_type": "markdown",
      "metadata": {
        "id": "R-_Nj17I11p_"
      },
      "source": [
        "### 1.4. Conversión de variables categóricas"
      ]
    },
    {
      "cell_type": "markdown",
      "metadata": {
        "id": "sYt9u7pg11qA"
      },
      "source": [
        "Debido a que la variable de salida _Attrition_ es una variable categórica, esto no va a ser funcional cuando realicemos algunas metodologías más adelante (GridSearch en HPO), por lo que convertiremos estas a una codificación binaria."
      ]
    },
    {
      "cell_type": "code",
      "execution_count": 49,
      "metadata": {
        "id": "4DFetUVR11qA"
      },
      "outputs": [],
      "source": [
        "datos['Attrition'] = datos['Attrition'].map({'Yes': 1, 'No': 0})"
      ]
    },
    {
      "cell_type": "markdown",
      "metadata": {
        "id": "0LYoIph_A4hU"
      },
      "source": [
        "# 2. EDA Simplificado"
      ]
    },
    {
      "cell_type": "markdown",
      "metadata": {
        "id": "pUti9QodCIBz"
      },
      "source": [
        "Una vez cargado el dataset, nos disponemos a comentar y describir los distintos datos que existen en el dataset."
      ]
    },
    {
      "cell_type": "markdown",
      "metadata": {
        "id": "43xv2WeM6CnM"
      },
      "source": [
        "### 2.1. Análisis general del dataset"
      ]
    },
    {
      "cell_type": "markdown",
      "metadata": {
        "id": "sJ4Suxes11qA"
      },
      "source": [
        "Vamos a investigar primeramente el tamaño del dataset; esto lo haremos con los atributos de la librería Pandas `.shape` y `.size`."
      ]
    },
    {
      "cell_type": "code",
      "execution_count": 50,
      "metadata": {
        "colab": {
          "base_uri": "https://localhost:8080/"
        },
        "id": "aua0Xb5UCIBz",
        "outputId": "e1d96c8a-e2af-4ec5-9b54-28da5870b897"
      },
      "outputs": [
        {
          "name": "stdout",
          "output_type": "stream",
          "text": [
            "Tamaño del dataset: (2940, 31)\n",
            "Número total de elementos del dataset: 91140\n"
          ]
        }
      ],
      "source": [
        "print(f\"Tamaño del dataset: {datos.shape}\")\n",
        "print(f\"Número total de elementos del dataset: {datos.size}\")"
      ]
    },
    {
      "cell_type": "markdown",
      "metadata": {
        "id": "GKWnqmwlCIB0"
      },
      "source": [
        "Podemos observar que el tamaño del dataset es de __2940 filas (instancias) y 31 columnas (atributos)__. También identificamos el número de elementos del conjunto de datos.\n",
        "\n",
        "Seguidamente, echaremos un vistazo rápido a los atributos que hay en la base de datos; usaremos el método `info()` para identificar las diferentes columnas del dataset, además del tipo de dato y el número de instancias no nulas que contiene."
      ]
    },
    {
      "cell_type": "code",
      "execution_count": 51,
      "metadata": {
        "colab": {
          "base_uri": "https://localhost:8080/"
        },
        "id": "zGsKcVKh78gf",
        "outputId": "f0212c2e-b66d-4964-dce2-f65eaa3fc140"
      },
      "outputs": [
        {
          "name": "stdout",
          "output_type": "stream",
          "text": [
            "<class 'pandas.core.frame.DataFrame'>\n",
            "RangeIndex: 2940 entries, 0 to 2939\n",
            "Data columns (total 31 columns):\n",
            " #   Column                   Non-Null Count  Dtype  \n",
            "---  ------                   --------------  -----  \n",
            " 0   hrs                      2940 non-null   float64\n",
            " 1   absences                 2940 non-null   int64  \n",
            " 2   JobInvolvement           2940 non-null   int64  \n",
            " 3   PerformanceRating        2940 non-null   int64  \n",
            " 4   EnvironmentSatisfaction  2927 non-null   float64\n",
            " 5   JobSatisfaction          2925 non-null   float64\n",
            " 6   WorkLifeBalance          2911 non-null   float64\n",
            " 7   Age                      2940 non-null   int64  \n",
            " 8   BusinessTravel           2940 non-null   object \n",
            " 9   Department               2940 non-null   object \n",
            " 10  DistanceFromHome         2940 non-null   int64  \n",
            " 11  Education                2940 non-null   int64  \n",
            " 12  EducationField           2940 non-null   object \n",
            " 13  EmployeeCount            2940 non-null   int64  \n",
            " 14  EmployeeID               2940 non-null   int64  \n",
            " 15  Gender                   2940 non-null   object \n",
            " 16  JobLevel                 2940 non-null   int64  \n",
            " 17  JobRole                  2940 non-null   object \n",
            " 18  MaritalStatus            2940 non-null   object \n",
            " 19  MonthlyIncome            2940 non-null   int64  \n",
            " 20  NumCompaniesWorked       2926 non-null   float64\n",
            " 21  Over18                   2940 non-null   object \n",
            " 22  PercentSalaryHike        2940 non-null   int64  \n",
            " 23  StandardHours            2940 non-null   int64  \n",
            " 24  StockOptionLevel         2940 non-null   int64  \n",
            " 25  TotalWorkingYears        2935 non-null   float64\n",
            " 26  TrainingTimesLastYear    2940 non-null   int64  \n",
            " 27  YearsAtCompany           2940 non-null   int64  \n",
            " 28  YearsSinceLastPromotion  2940 non-null   int64  \n",
            " 29  YearsWithCurrManager     2940 non-null   int64  \n",
            " 30  Attrition                2940 non-null   int64  \n",
            "dtypes: float64(6), int64(18), object(7)\n",
            "memory usage: 712.2+ KB\n"
          ]
        }
      ],
      "source": [
        "datos.info()"
      ]
    },
    {
      "cell_type": "markdown",
      "metadata": {
        "id": "EtI1k54KCIB0"
      },
      "source": [
        "En la salida podemos observar una tabla donde apreciamos el nombre del atirbuto, el número de instancias no vacías y el tipo de dato de ésta columna. Esto nos servirá para apreciar los tipos de datos que estamos analizando.\n",
        "\n",
        "Podemos observar que algunos de ellos cumplen con todas sus filas con algún valor no nulo (N/A), mientras que __otras columnas no alcanzan el número total de filas obtenido anteriormente (2940)__.\n",
        "\n",
        "Por otro lado, el tipo de datos nos hace preveer cuáles columnas representan __atributos categóricos__ (`object`) y cuáles __atributos numéricos__ (`int64`, `float64`).\n",
        "\n",
        "Para un resumen más detallado, nos serviremos de otro método de Pandas: `.describe()`"
      ]
    },
    {
      "cell_type": "code",
      "execution_count": 52,
      "metadata": {
        "colab": {
          "base_uri": "https://localhost:8080/",
          "height": 349
        },
        "id": "bj5Iv-POWqDw",
        "outputId": "3d66f73c-e9c1-466b-ad02-925b8dba03c6"
      },
      "outputs": [
        {
          "data": {
            "text/html": [
              "<div>\n",
              "<style scoped>\n",
              "    .dataframe tbody tr th:only-of-type {\n",
              "        vertical-align: middle;\n",
              "    }\n",
              "\n",
              "    .dataframe tbody tr th {\n",
              "        vertical-align: top;\n",
              "    }\n",
              "\n",
              "    .dataframe thead th {\n",
              "        text-align: right;\n",
              "    }\n",
              "</style>\n",
              "<table border=\"1\" class=\"dataframe\">\n",
              "  <thead>\n",
              "    <tr style=\"text-align: right;\">\n",
              "      <th></th>\n",
              "      <th>hrs</th>\n",
              "      <th>absences</th>\n",
              "      <th>JobInvolvement</th>\n",
              "      <th>PerformanceRating</th>\n",
              "      <th>EnvironmentSatisfaction</th>\n",
              "      <th>JobSatisfaction</th>\n",
              "      <th>WorkLifeBalance</th>\n",
              "      <th>Age</th>\n",
              "      <th>DistanceFromHome</th>\n",
              "      <th>Education</th>\n",
              "      <th>...</th>\n",
              "      <th>NumCompaniesWorked</th>\n",
              "      <th>PercentSalaryHike</th>\n",
              "      <th>StandardHours</th>\n",
              "      <th>StockOptionLevel</th>\n",
              "      <th>TotalWorkingYears</th>\n",
              "      <th>TrainingTimesLastYear</th>\n",
              "      <th>YearsAtCompany</th>\n",
              "      <th>YearsSinceLastPromotion</th>\n",
              "      <th>YearsWithCurrManager</th>\n",
              "      <th>Attrition</th>\n",
              "    </tr>\n",
              "  </thead>\n",
              "  <tbody>\n",
              "    <tr>\n",
              "      <th>count</th>\n",
              "      <td>2940.000000</td>\n",
              "      <td>2940.000000</td>\n",
              "      <td>2940.000000</td>\n",
              "      <td>2940.000000</td>\n",
              "      <td>2927.000000</td>\n",
              "      <td>2925.000000</td>\n",
              "      <td>2911.000000</td>\n",
              "      <td>2940.000000</td>\n",
              "      <td>2940.000000</td>\n",
              "      <td>2940.000000</td>\n",
              "      <td>...</td>\n",
              "      <td>2926.000000</td>\n",
              "      <td>2940.000000</td>\n",
              "      <td>2940.0</td>\n",
              "      <td>2940.000000</td>\n",
              "      <td>2935.000000</td>\n",
              "      <td>2940.000000</td>\n",
              "      <td>2940.000000</td>\n",
              "      <td>2940.000000</td>\n",
              "      <td>2940.000000</td>\n",
              "      <td>2940.000000</td>\n",
              "    </tr>\n",
              "    <tr>\n",
              "      <th>mean</th>\n",
              "      <td>7.322768</td>\n",
              "      <td>12.706803</td>\n",
              "      <td>2.728571</td>\n",
              "      <td>3.154422</td>\n",
              "      <td>2.723266</td>\n",
              "      <td>2.746325</td>\n",
              "      <td>2.760907</td>\n",
              "      <td>36.861224</td>\n",
              "      <td>9.305102</td>\n",
              "      <td>2.906463</td>\n",
              "      <td>...</td>\n",
              "      <td>2.664388</td>\n",
              "      <td>15.187075</td>\n",
              "      <td>8.0</td>\n",
              "      <td>0.785034</td>\n",
              "      <td>11.363884</td>\n",
              "      <td>2.798639</td>\n",
              "      <td>7.095578</td>\n",
              "      <td>2.227891</td>\n",
              "      <td>4.191156</td>\n",
              "      <td>0.161224</td>\n",
              "    </tr>\n",
              "    <tr>\n",
              "      <th>std</th>\n",
              "      <td>1.335600</td>\n",
              "      <td>5.533199</td>\n",
              "      <td>0.716167</td>\n",
              "      <td>0.361414</td>\n",
              "      <td>1.096170</td>\n",
              "      <td>1.104612</td>\n",
              "      <td>0.713539</td>\n",
              "      <td>9.286733</td>\n",
              "      <td>8.201638</td>\n",
              "      <td>1.023254</td>\n",
              "      <td>...</td>\n",
              "      <td>2.495153</td>\n",
              "      <td>3.661275</td>\n",
              "      <td>0.0</td>\n",
              "      <td>0.851343</td>\n",
              "      <td>7.897032</td>\n",
              "      <td>1.304166</td>\n",
              "      <td>6.161878</td>\n",
              "      <td>3.274101</td>\n",
              "      <td>3.627734</td>\n",
              "      <td>0.367800</td>\n",
              "    </tr>\n",
              "    <tr>\n",
              "      <th>min</th>\n",
              "      <td>5.416880</td>\n",
              "      <td>1.000000</td>\n",
              "      <td>1.000000</td>\n",
              "      <td>3.000000</td>\n",
              "      <td>1.000000</td>\n",
              "      <td>1.000000</td>\n",
              "      <td>1.000000</td>\n",
              "      <td>18.000000</td>\n",
              "      <td>1.000000</td>\n",
              "      <td>1.000000</td>\n",
              "      <td>...</td>\n",
              "      <td>0.000000</td>\n",
              "      <td>11.000000</td>\n",
              "      <td>8.0</td>\n",
              "      <td>0.000000</td>\n",
              "      <td>0.000000</td>\n",
              "      <td>0.000000</td>\n",
              "      <td>0.000000</td>\n",
              "      <td>0.000000</td>\n",
              "      <td>0.000000</td>\n",
              "      <td>0.000000</td>\n",
              "    </tr>\n",
              "    <tr>\n",
              "      <th>25%</th>\n",
              "      <td>6.272786</td>\n",
              "      <td>8.000000</td>\n",
              "      <td>2.000000</td>\n",
              "      <td>3.000000</td>\n",
              "      <td>2.000000</td>\n",
              "      <td>2.000000</td>\n",
              "      <td>2.000000</td>\n",
              "      <td>30.000000</td>\n",
              "      <td>2.000000</td>\n",
              "      <td>2.000000</td>\n",
              "      <td>...</td>\n",
              "      <td>1.000000</td>\n",
              "      <td>12.000000</td>\n",
              "      <td>8.0</td>\n",
              "      <td>0.000000</td>\n",
              "      <td>6.000000</td>\n",
              "      <td>2.000000</td>\n",
              "      <td>3.000000</td>\n",
              "      <td>0.000000</td>\n",
              "      <td>2.000000</td>\n",
              "      <td>0.000000</td>\n",
              "    </tr>\n",
              "    <tr>\n",
              "      <th>50%</th>\n",
              "      <td>7.032627</td>\n",
              "      <td>13.000000</td>\n",
              "      <td>3.000000</td>\n",
              "      <td>3.000000</td>\n",
              "      <td>3.000000</td>\n",
              "      <td>3.000000</td>\n",
              "      <td>3.000000</td>\n",
              "      <td>35.000000</td>\n",
              "      <td>7.000000</td>\n",
              "      <td>3.000000</td>\n",
              "      <td>...</td>\n",
              "      <td>2.000000</td>\n",
              "      <td>14.000000</td>\n",
              "      <td>8.0</td>\n",
              "      <td>1.000000</td>\n",
              "      <td>10.000000</td>\n",
              "      <td>3.000000</td>\n",
              "      <td>5.000000</td>\n",
              "      <td>1.000000</td>\n",
              "      <td>3.000000</td>\n",
              "      <td>0.000000</td>\n",
              "    </tr>\n",
              "    <tr>\n",
              "      <th>75%</th>\n",
              "      <td>7.948416</td>\n",
              "      <td>17.000000</td>\n",
              "      <td>3.000000</td>\n",
              "      <td>3.000000</td>\n",
              "      <td>4.000000</td>\n",
              "      <td>4.000000</td>\n",
              "      <td>3.000000</td>\n",
              "      <td>43.000000</td>\n",
              "      <td>14.000000</td>\n",
              "      <td>4.000000</td>\n",
              "      <td>...</td>\n",
              "      <td>4.000000</td>\n",
              "      <td>18.000000</td>\n",
              "      <td>8.0</td>\n",
              "      <td>1.000000</td>\n",
              "      <td>16.000000</td>\n",
              "      <td>3.000000</td>\n",
              "      <td>10.000000</td>\n",
              "      <td>3.000000</td>\n",
              "      <td>7.000000</td>\n",
              "      <td>0.000000</td>\n",
              "    </tr>\n",
              "    <tr>\n",
              "      <th>max</th>\n",
              "      <td>10.937261</td>\n",
              "      <td>24.000000</td>\n",
              "      <td>4.000000</td>\n",
              "      <td>4.000000</td>\n",
              "      <td>4.000000</td>\n",
              "      <td>4.000000</td>\n",
              "      <td>4.000000</td>\n",
              "      <td>60.000000</td>\n",
              "      <td>29.000000</td>\n",
              "      <td>5.000000</td>\n",
              "      <td>...</td>\n",
              "      <td>9.000000</td>\n",
              "      <td>25.000000</td>\n",
              "      <td>8.0</td>\n",
              "      <td>3.000000</td>\n",
              "      <td>40.000000</td>\n",
              "      <td>6.000000</td>\n",
              "      <td>40.000000</td>\n",
              "      <td>15.000000</td>\n",
              "      <td>17.000000</td>\n",
              "      <td>1.000000</td>\n",
              "    </tr>\n",
              "  </tbody>\n",
              "</table>\n",
              "<p>8 rows × 24 columns</p>\n",
              "</div>"
            ],
            "text/plain": [
              "               hrs     absences  JobInvolvement  PerformanceRating  \\\n",
              "count  2940.000000  2940.000000     2940.000000        2940.000000   \n",
              "mean      7.322768    12.706803        2.728571           3.154422   \n",
              "std       1.335600     5.533199        0.716167           0.361414   \n",
              "min       5.416880     1.000000        1.000000           3.000000   \n",
              "25%       6.272786     8.000000        2.000000           3.000000   \n",
              "50%       7.032627    13.000000        3.000000           3.000000   \n",
              "75%       7.948416    17.000000        3.000000           3.000000   \n",
              "max      10.937261    24.000000        4.000000           4.000000   \n",
              "\n",
              "       EnvironmentSatisfaction  JobSatisfaction  WorkLifeBalance          Age  \\\n",
              "count              2927.000000      2925.000000      2911.000000  2940.000000   \n",
              "mean                  2.723266         2.746325         2.760907    36.861224   \n",
              "std                   1.096170         1.104612         0.713539     9.286733   \n",
              "min                   1.000000         1.000000         1.000000    18.000000   \n",
              "25%                   2.000000         2.000000         2.000000    30.000000   \n",
              "50%                   3.000000         3.000000         3.000000    35.000000   \n",
              "75%                   4.000000         4.000000         3.000000    43.000000   \n",
              "max                   4.000000         4.000000         4.000000    60.000000   \n",
              "\n",
              "       DistanceFromHome    Education  ...  NumCompaniesWorked  \\\n",
              "count       2940.000000  2940.000000  ...         2926.000000   \n",
              "mean           9.305102     2.906463  ...            2.664388   \n",
              "std            8.201638     1.023254  ...            2.495153   \n",
              "min            1.000000     1.000000  ...            0.000000   \n",
              "25%            2.000000     2.000000  ...            1.000000   \n",
              "50%            7.000000     3.000000  ...            2.000000   \n",
              "75%           14.000000     4.000000  ...            4.000000   \n",
              "max           29.000000     5.000000  ...            9.000000   \n",
              "\n",
              "       PercentSalaryHike  StandardHours  StockOptionLevel  TotalWorkingYears  \\\n",
              "count        2940.000000         2940.0       2940.000000        2935.000000   \n",
              "mean           15.187075            8.0          0.785034          11.363884   \n",
              "std             3.661275            0.0          0.851343           7.897032   \n",
              "min            11.000000            8.0          0.000000           0.000000   \n",
              "25%            12.000000            8.0          0.000000           6.000000   \n",
              "50%            14.000000            8.0          1.000000          10.000000   \n",
              "75%            18.000000            8.0          1.000000          16.000000   \n",
              "max            25.000000            8.0          3.000000          40.000000   \n",
              "\n",
              "       TrainingTimesLastYear  YearsAtCompany  YearsSinceLastPromotion  \\\n",
              "count            2940.000000     2940.000000              2940.000000   \n",
              "mean                2.798639        7.095578                 2.227891   \n",
              "std                 1.304166        6.161878                 3.274101   \n",
              "min                 0.000000        0.000000                 0.000000   \n",
              "25%                 2.000000        3.000000                 0.000000   \n",
              "50%                 3.000000        5.000000                 1.000000   \n",
              "75%                 3.000000       10.000000                 3.000000   \n",
              "max                 6.000000       40.000000                15.000000   \n",
              "\n",
              "       YearsWithCurrManager    Attrition  \n",
              "count           2940.000000  2940.000000  \n",
              "mean               4.191156     0.161224  \n",
              "std                3.627734     0.367800  \n",
              "min                0.000000     0.000000  \n",
              "25%                2.000000     0.000000  \n",
              "50%                3.000000     0.000000  \n",
              "75%                7.000000     0.000000  \n",
              "max               17.000000     1.000000  \n",
              "\n",
              "[8 rows x 24 columns]"
            ]
          },
          "execution_count": 52,
          "metadata": {},
          "output_type": "execute_result"
        }
      ],
      "source": [
        "datos.describe()"
      ]
    },
    {
      "cell_type": "markdown",
      "metadata": {
        "id": "bpXAnD26CIB1"
      },
      "source": [
        "Ésta ejecución de código nos permite identificar algunas __métricas estadísticas__ acerca del conjunto de datos que abarcan los distintos atributos (como la media, la mediana, mínimos, máximos y rangos intercuartílicos). Esto de momento no nos servirá, pero quizás más adelante será útil.\n",
        "\n",
        "Con los datos visualizados anteriormente en la ejecución de `.info()`, vamos a observar los valores de las variables más a fondo, haciendo hincapié en las distintas observaciones que se piden en la práctica."
      ]
    },
    {
      "cell_type": "markdown",
      "metadata": {
        "id": "EXx2HR7c11qD"
      },
      "source": [
        "### 2.2. Variables numéricas y categóricas; variables con alta cardinalidad"
      ]
    },
    {
      "cell_type": "markdown",
      "metadata": {
        "id": "40O-bNrXCIB1"
      },
      "source": [
        "Empezamos distinguiendo los atributos que representan __valores categóricos__ de los que representan __valores numéricos__ (descartando la columna de la variable de salida, _Attrition_, la cual sabemos que es categórica):"
      ]
    },
    {
      "cell_type": "code",
      "execution_count": 53,
      "metadata": {
        "colab": {
          "base_uri": "https://localhost:8080/"
        },
        "id": "PNnSTQQQbP0p",
        "outputId": "b66effa0-04cf-47af-d258-5a92b94dcbe0"
      },
      "outputs": [
        {
          "name": "stdout",
          "output_type": "stream",
          "text": [
            "Index(['hrs', 'absences', 'JobInvolvement', 'PerformanceRating',\n",
            "       'EnvironmentSatisfaction', 'JobSatisfaction', 'WorkLifeBalance', 'Age',\n",
            "       'DistanceFromHome', 'Education', 'EmployeeCount', 'EmployeeID',\n",
            "       'JobLevel', 'MonthlyIncome', 'NumCompaniesWorked', 'PercentSalaryHike',\n",
            "       'StandardHours', 'StockOptionLevel', 'TotalWorkingYears',\n",
            "       'TrainingTimesLastYear', 'YearsAtCompany', 'YearsSinceLastPromotion',\n",
            "       'YearsWithCurrManager'],\n",
            "      dtype='object')\n"
          ]
        }
      ],
      "source": [
        "numericas = datos.select_dtypes(include=['int64', 'float64']).columns.drop(['Attrition'])\n",
        "print(numericas)"
      ]
    },
    {
      "cell_type": "code",
      "execution_count": 54,
      "metadata": {
        "colab": {
          "base_uri": "https://localhost:8080/"
        },
        "id": "SEdrwVfGGsWx",
        "outputId": "79c9a9ca-0c68-497c-a8f0-7e84a1b740ec"
      },
      "outputs": [
        {
          "name": "stdout",
          "output_type": "stream",
          "text": [
            "Index(['BusinessTravel', 'Department', 'EducationField', 'Gender', 'JobRole',\n",
            "       'MaritalStatus', 'Over18'],\n",
            "      dtype='object')\n"
          ]
        }
      ],
      "source": [
        "categoricas = datos.select_dtypes(include=[\"object\"]).columns\n",
        "print(categoricas)"
      ]
    },
    {
      "cell_type": "markdown",
      "metadata": {
        "id": "MrB0wuSW6dzQ"
      },
      "source": [
        "A continuación, de las __variables categóricas__, vamos a identificar aquellas variables con una __alta cardinalidad__ en sus valores:"
      ]
    },
    {
      "cell_type": "code",
      "execution_count": 55,
      "metadata": {
        "colab": {
          "base_uri": "https://localhost:8080/"
        },
        "id": "EBkwR4EyZAf3",
        "outputId": "c5486b7d-3396-4c59-ff74-961863b705f6"
      },
      "outputs": [
        {
          "name": "stdout",
          "output_type": "stream",
          "text": [
            "BusinessTravel\n",
            "['Travel_Frequently' 'Non-Travel' 'Travel_Rarely']\n",
            "Department\n",
            "['Research & Development' 'Sales' 'Human Resources']\n",
            "EducationField\n",
            "['Life Sciences' 'Medical' 'Other' 'Technical Degree' 'Marketing'\n",
            " 'Human Resources']\n",
            "Gender\n",
            "['Male' 'Female']\n",
            "JobRole\n",
            "['Laboratory Technician' 'Healthcare Representative' 'Research Scientist'\n",
            " 'Sales Representative' 'Manufacturing Director' 'Sales Executive'\n",
            " 'Research Director' 'Human Resources' 'Manager']\n",
            "MaritalStatus\n",
            "['Married' 'Divorced' 'Single']\n",
            "Over18\n",
            "['Y']\n"
          ]
        }
      ],
      "source": [
        "for columna in datos.select_dtypes(include=[\"object\"]).columns:\n",
        "    print(columna)\n",
        "    print(datos[columna].unique())"
      ]
    },
    {
      "cell_type": "markdown",
      "metadata": {
        "id": "dx3V04UPCIB2"
      },
      "source": [
        "Analizando la salida de esta ejecución, podemos observar qué variables categóricas presentan elevada cardinalidad. __En este proyecto consideraremos con cardinalidad elevada un atributo con rango de posibles opciones mayor de 4__.\n",
        "\n",
        "En este caso, las columnas con alta cardinalidad son _EducationField_ y _JobRole_."
      ]
    },
    {
      "cell_type": "markdown",
      "metadata": {},
      "source": [
        "Por otro lado podríamos considerar los atributos BusinessTravel, Gender y MaritalStatus como ordinales (Frío, Templado, Caliente), aunque para el preprocesado los trataremos igual que las categóricas, por lo que las mantenemos en la misma lista."
      ]
    },
    {
      "cell_type": "markdown",
      "metadata": {
        "id": "zcLr0tyv11qF"
      },
      "source": [
        "### 2.3. Variables nulas"
      ]
    },
    {
      "cell_type": "markdown",
      "metadata": {
        "id": "UnAB60GjZXKI"
      },
      "source": [
        "Para el preprocesado de datos, es importante determinar qué instancias contienen __valores nulos__, y el número de instancias de este tipo en cada columna. Esto lo comprobamos con el método de Pandas `.isnull()`:"
      ]
    },
    {
      "cell_type": "code",
      "execution_count": 56,
      "metadata": {
        "colab": {
          "base_uri": "https://localhost:8080/",
          "height": 241
        },
        "id": "lJo1LEBiHUn8",
        "outputId": "8bfecf96-62e2-43ad-9f1e-5763ad9adba9"
      },
      "outputs": [
        {
          "data": {
            "text/plain": [
              "EnvironmentSatisfaction    13\n",
              "JobSatisfaction            15\n",
              "WorkLifeBalance            29\n",
              "NumCompaniesWorked         14\n",
              "TotalWorkingYears           5\n",
              "dtype: int64"
            ]
          },
          "execution_count": 56,
          "metadata": {},
          "output_type": "execute_result"
        }
      ],
      "source": [
        "nulos = datos.isnull().sum()\n",
        "nulos[nulos > 0]"
      ]
    },
    {
      "cell_type": "markdown",
      "metadata": {
        "id": "bMO0HTDiXN0t"
      },
      "source": [
        "Como podemos observar, en el dataset se aprecian __cinco columnas con valores nulos__ en sus filas: _EnvironmentSatisfaction, JobSatisfaction, WorkLifeBalance, NumCompaniesWorked, TotalWorkingYears_. Teniendo en cuenta que en total hay 2940 filas en la base de datos, se pueden calcular fácilmente la media de datos vacíos por columna.\n",
        "\n",
        "Si recordamos de qué tipo era cada variable, podemos observar que __todas estas columnas corresponden con variables numéricas__, y podemos ir pensando ya en posibilidades para trabajar con estos valores vacíos."
      ]
    },
    {
      "cell_type": "markdown",
      "metadata": {
        "id": "NE4OSD8J11qF"
      },
      "source": [
        "### 2.4. Variables de identificación (ID)"
      ]
    },
    {
      "cell_type": "markdown",
      "metadata": {
        "id": "aGssnEPeCIB2"
      },
      "source": [
        "Una vez analizado todo lo anterior, empezamos a buscar qué posibles columnas actúan como identificadores en la base de datos. A simple vista, una posible opción sería _EmployeeID_, aunque es mejor comprobarlo con la llamada al método `.nunique()`:"
      ]
    },
    {
      "cell_type": "code",
      "execution_count": 57,
      "metadata": {
        "colab": {
          "base_uri": "https://localhost:8080/"
        },
        "id": "tLbSgDVZcUId",
        "outputId": "c2356e2f-af1e-47c0-f8f6-20f4d74bc6ea"
      },
      "outputs": [
        {
          "name": "stdout",
          "output_type": "stream",
          "text": [
            "La columna 'EmployeeID' es un posible identificador único.\n"
          ]
        }
      ],
      "source": [
        "for columna in datos.columns:\n",
        "    if datos[columna].nunique() == len(datos):\n",
        "        print(f\"La columna '{columna}' es un posible identificador único.\")"
      ]
    },
    {
      "cell_type": "code",
      "execution_count": 58,
      "metadata": {
        "colab": {
          "base_uri": "https://localhost:8080/",
          "height": 565
        },
        "id": "DuI1DXLICIB3",
        "outputId": "8486aca6-6d8e-4dc0-993e-56d86c2cdfd6"
      },
      "outputs": [
        {
          "data": {
            "text/html": [
              "<div>\n",
              "<style scoped>\n",
              "    .dataframe tbody tr th:only-of-type {\n",
              "        vertical-align: middle;\n",
              "    }\n",
              "\n",
              "    .dataframe tbody tr th {\n",
              "        vertical-align: top;\n",
              "    }\n",
              "\n",
              "    .dataframe thead th {\n",
              "        text-align: right;\n",
              "    }\n",
              "</style>\n",
              "<table border=\"1\" class=\"dataframe\">\n",
              "  <thead>\n",
              "    <tr style=\"text-align: right;\">\n",
              "      <th></th>\n",
              "      <th>hrs</th>\n",
              "      <th>absences</th>\n",
              "      <th>JobInvolvement</th>\n",
              "      <th>PerformanceRating</th>\n",
              "      <th>EnvironmentSatisfaction</th>\n",
              "      <th>JobSatisfaction</th>\n",
              "      <th>WorkLifeBalance</th>\n",
              "      <th>Age</th>\n",
              "      <th>BusinessTravel</th>\n",
              "      <th>Department</th>\n",
              "      <th>...</th>\n",
              "      <th>Over18</th>\n",
              "      <th>PercentSalaryHike</th>\n",
              "      <th>StandardHours</th>\n",
              "      <th>StockOptionLevel</th>\n",
              "      <th>TotalWorkingYears</th>\n",
              "      <th>TrainingTimesLastYear</th>\n",
              "      <th>YearsAtCompany</th>\n",
              "      <th>YearsSinceLastPromotion</th>\n",
              "      <th>YearsWithCurrManager</th>\n",
              "      <th>Attrition</th>\n",
              "    </tr>\n",
              "  </thead>\n",
              "  <tbody>\n",
              "    <tr>\n",
              "      <th>0</th>\n",
              "      <td>10.060048</td>\n",
              "      <td>6</td>\n",
              "      <td>3</td>\n",
              "      <td>4</td>\n",
              "      <td>2.0</td>\n",
              "      <td>4.0</td>\n",
              "      <td>1.0</td>\n",
              "      <td>31</td>\n",
              "      <td>Travel_Frequently</td>\n",
              "      <td>Research &amp; Development</td>\n",
              "      <td>...</td>\n",
              "      <td>Y</td>\n",
              "      <td>23</td>\n",
              "      <td>8</td>\n",
              "      <td>1</td>\n",
              "      <td>7.0</td>\n",
              "      <td>5</td>\n",
              "      <td>2</td>\n",
              "      <td>2</td>\n",
              "      <td>2</td>\n",
              "      <td>1</td>\n",
              "    </tr>\n",
              "    <tr>\n",
              "      <th>1</th>\n",
              "      <td>9.437671</td>\n",
              "      <td>2</td>\n",
              "      <td>2</td>\n",
              "      <td>3</td>\n",
              "      <td>3.0</td>\n",
              "      <td>4.0</td>\n",
              "      <td>3.0</td>\n",
              "      <td>33</td>\n",
              "      <td>Non-Travel</td>\n",
              "      <td>Research &amp; Development</td>\n",
              "      <td>...</td>\n",
              "      <td>Y</td>\n",
              "      <td>13</td>\n",
              "      <td>8</td>\n",
              "      <td>0</td>\n",
              "      <td>7.0</td>\n",
              "      <td>6</td>\n",
              "      <td>6</td>\n",
              "      <td>1</td>\n",
              "      <td>2</td>\n",
              "      <td>0</td>\n",
              "    </tr>\n",
              "    <tr>\n",
              "      <th>2</th>\n",
              "      <td>7.900932</td>\n",
              "      <td>20</td>\n",
              "      <td>3</td>\n",
              "      <td>4</td>\n",
              "      <td>3.0</td>\n",
              "      <td>4.0</td>\n",
              "      <td>3.0</td>\n",
              "      <td>35</td>\n",
              "      <td>Travel_Rarely</td>\n",
              "      <td>Research &amp; Development</td>\n",
              "      <td>...</td>\n",
              "      <td>Y</td>\n",
              "      <td>22</td>\n",
              "      <td>8</td>\n",
              "      <td>1</td>\n",
              "      <td>10.0</td>\n",
              "      <td>4</td>\n",
              "      <td>10</td>\n",
              "      <td>7</td>\n",
              "      <td>7</td>\n",
              "      <td>1</td>\n",
              "    </tr>\n",
              "    <tr>\n",
              "      <th>3</th>\n",
              "      <td>7.193853</td>\n",
              "      <td>19</td>\n",
              "      <td>4</td>\n",
              "      <td>3</td>\n",
              "      <td>4.0</td>\n",
              "      <td>2.0</td>\n",
              "      <td>3.0</td>\n",
              "      <td>28</td>\n",
              "      <td>Travel_Rarely</td>\n",
              "      <td>Research &amp; Development</td>\n",
              "      <td>...</td>\n",
              "      <td>Y</td>\n",
              "      <td>15</td>\n",
              "      <td>8</td>\n",
              "      <td>0</td>\n",
              "      <td>1.0</td>\n",
              "      <td>1</td>\n",
              "      <td>1</td>\n",
              "      <td>0</td>\n",
              "      <td>0</td>\n",
              "      <td>0</td>\n",
              "    </tr>\n",
              "    <tr>\n",
              "      <th>4</th>\n",
              "      <td>6.979201</td>\n",
              "      <td>8</td>\n",
              "      <td>3</td>\n",
              "      <td>3</td>\n",
              "      <td>2.0</td>\n",
              "      <td>4.0</td>\n",
              "      <td>2.0</td>\n",
              "      <td>31</td>\n",
              "      <td>Travel_Rarely</td>\n",
              "      <td>Research &amp; Development</td>\n",
              "      <td>...</td>\n",
              "      <td>Y</td>\n",
              "      <td>12</td>\n",
              "      <td>8</td>\n",
              "      <td>1</td>\n",
              "      <td>10.0</td>\n",
              "      <td>2</td>\n",
              "      <td>8</td>\n",
              "      <td>7</td>\n",
              "      <td>7</td>\n",
              "      <td>0</td>\n",
              "    </tr>\n",
              "    <tr>\n",
              "      <th>...</th>\n",
              "      <td>...</td>\n",
              "      <td>...</td>\n",
              "      <td>...</td>\n",
              "      <td>...</td>\n",
              "      <td>...</td>\n",
              "      <td>...</td>\n",
              "      <td>...</td>\n",
              "      <td>...</td>\n",
              "      <td>...</td>\n",
              "      <td>...</td>\n",
              "      <td>...</td>\n",
              "      <td>...</td>\n",
              "      <td>...</td>\n",
              "      <td>...</td>\n",
              "      <td>...</td>\n",
              "      <td>...</td>\n",
              "      <td>...</td>\n",
              "      <td>...</td>\n",
              "      <td>...</td>\n",
              "      <td>...</td>\n",
              "      <td>...</td>\n",
              "    </tr>\n",
              "    <tr>\n",
              "      <th>2935</th>\n",
              "      <td>9.400915</td>\n",
              "      <td>3</td>\n",
              "      <td>2</td>\n",
              "      <td>3</td>\n",
              "      <td>4.0</td>\n",
              "      <td>NaN</td>\n",
              "      <td>3.0</td>\n",
              "      <td>42</td>\n",
              "      <td>Travel_Rarely</td>\n",
              "      <td>Sales</td>\n",
              "      <td>...</td>\n",
              "      <td>Y</td>\n",
              "      <td>14</td>\n",
              "      <td>8</td>\n",
              "      <td>1</td>\n",
              "      <td>10.0</td>\n",
              "      <td>2</td>\n",
              "      <td>9</td>\n",
              "      <td>7</td>\n",
              "      <td>8</td>\n",
              "      <td>0</td>\n",
              "    </tr>\n",
              "    <tr>\n",
              "      <th>2936</th>\n",
              "      <td>6.934386</td>\n",
              "      <td>9</td>\n",
              "      <td>2</td>\n",
              "      <td>3</td>\n",
              "      <td>3.0</td>\n",
              "      <td>1.0</td>\n",
              "      <td>2.0</td>\n",
              "      <td>49</td>\n",
              "      <td>Travel_Rarely</td>\n",
              "      <td>Research &amp; Development</td>\n",
              "      <td>...</td>\n",
              "      <td>Y</td>\n",
              "      <td>11</td>\n",
              "      <td>8</td>\n",
              "      <td>1</td>\n",
              "      <td>16.0</td>\n",
              "      <td>3</td>\n",
              "      <td>15</td>\n",
              "      <td>5</td>\n",
              "      <td>11</td>\n",
              "      <td>0</td>\n",
              "    </tr>\n",
              "    <tr>\n",
              "      <th>2937</th>\n",
              "      <td>9.106920</td>\n",
              "      <td>15</td>\n",
              "      <td>3</td>\n",
              "      <td>3</td>\n",
              "      <td>2.0</td>\n",
              "      <td>4.0</td>\n",
              "      <td>2.0</td>\n",
              "      <td>36</td>\n",
              "      <td>Travel_Rarely</td>\n",
              "      <td>Sales</td>\n",
              "      <td>...</td>\n",
              "      <td>Y</td>\n",
              "      <td>13</td>\n",
              "      <td>8</td>\n",
              "      <td>0</td>\n",
              "      <td>18.0</td>\n",
              "      <td>2</td>\n",
              "      <td>18</td>\n",
              "      <td>4</td>\n",
              "      <td>11</td>\n",
              "      <td>0</td>\n",
              "    </tr>\n",
              "    <tr>\n",
              "      <th>2938</th>\n",
              "      <td>6.532645</td>\n",
              "      <td>6</td>\n",
              "      <td>4</td>\n",
              "      <td>3</td>\n",
              "      <td>1.0</td>\n",
              "      <td>3.0</td>\n",
              "      <td>2.0</td>\n",
              "      <td>30</td>\n",
              "      <td>Travel_Rarely</td>\n",
              "      <td>Sales</td>\n",
              "      <td>...</td>\n",
              "      <td>Y</td>\n",
              "      <td>16</td>\n",
              "      <td>8</td>\n",
              "      <td>1</td>\n",
              "      <td>5.0</td>\n",
              "      <td>2</td>\n",
              "      <td>5</td>\n",
              "      <td>0</td>\n",
              "      <td>4</td>\n",
              "      <td>0</td>\n",
              "    </tr>\n",
              "    <tr>\n",
              "      <th>2939</th>\n",
              "      <td>6.542739</td>\n",
              "      <td>6</td>\n",
              "      <td>3</td>\n",
              "      <td>3</td>\n",
              "      <td>3.0</td>\n",
              "      <td>4.0</td>\n",
              "      <td>4.0</td>\n",
              "      <td>37</td>\n",
              "      <td>Travel_Rarely</td>\n",
              "      <td>Research &amp; Development</td>\n",
              "      <td>...</td>\n",
              "      <td>Y</td>\n",
              "      <td>11</td>\n",
              "      <td>8</td>\n",
              "      <td>0</td>\n",
              "      <td>7.0</td>\n",
              "      <td>2</td>\n",
              "      <td>5</td>\n",
              "      <td>0</td>\n",
              "      <td>1</td>\n",
              "      <td>0</td>\n",
              "    </tr>\n",
              "  </tbody>\n",
              "</table>\n",
              "<p>2940 rows × 30 columns</p>\n",
              "</div>"
            ],
            "text/plain": [
              "            hrs  absences  JobInvolvement  PerformanceRating  \\\n",
              "0     10.060048         6               3                  4   \n",
              "1      9.437671         2               2                  3   \n",
              "2      7.900932        20               3                  4   \n",
              "3      7.193853        19               4                  3   \n",
              "4      6.979201         8               3                  3   \n",
              "...         ...       ...             ...                ...   \n",
              "2935   9.400915         3               2                  3   \n",
              "2936   6.934386         9               2                  3   \n",
              "2937   9.106920        15               3                  3   \n",
              "2938   6.532645         6               4                  3   \n",
              "2939   6.542739         6               3                  3   \n",
              "\n",
              "      EnvironmentSatisfaction  JobSatisfaction  WorkLifeBalance  Age  \\\n",
              "0                         2.0              4.0              1.0   31   \n",
              "1                         3.0              4.0              3.0   33   \n",
              "2                         3.0              4.0              3.0   35   \n",
              "3                         4.0              2.0              3.0   28   \n",
              "4                         2.0              4.0              2.0   31   \n",
              "...                       ...              ...              ...  ...   \n",
              "2935                      4.0              NaN              3.0   42   \n",
              "2936                      3.0              1.0              2.0   49   \n",
              "2937                      2.0              4.0              2.0   36   \n",
              "2938                      1.0              3.0              2.0   30   \n",
              "2939                      3.0              4.0              4.0   37   \n",
              "\n",
              "         BusinessTravel              Department  ...  Over18  \\\n",
              "0     Travel_Frequently  Research & Development  ...       Y   \n",
              "1            Non-Travel  Research & Development  ...       Y   \n",
              "2         Travel_Rarely  Research & Development  ...       Y   \n",
              "3         Travel_Rarely  Research & Development  ...       Y   \n",
              "4         Travel_Rarely  Research & Development  ...       Y   \n",
              "...                 ...                     ...  ...     ...   \n",
              "2935      Travel_Rarely                   Sales  ...       Y   \n",
              "2936      Travel_Rarely  Research & Development  ...       Y   \n",
              "2937      Travel_Rarely                   Sales  ...       Y   \n",
              "2938      Travel_Rarely                   Sales  ...       Y   \n",
              "2939      Travel_Rarely  Research & Development  ...       Y   \n",
              "\n",
              "      PercentSalaryHike StandardHours  StockOptionLevel TotalWorkingYears  \\\n",
              "0                    23             8                 1               7.0   \n",
              "1                    13             8                 0               7.0   \n",
              "2                    22             8                 1              10.0   \n",
              "3                    15             8                 0               1.0   \n",
              "4                    12             8                 1              10.0   \n",
              "...                 ...           ...               ...               ...   \n",
              "2935                 14             8                 1              10.0   \n",
              "2936                 11             8                 1              16.0   \n",
              "2937                 13             8                 0              18.0   \n",
              "2938                 16             8                 1               5.0   \n",
              "2939                 11             8                 0               7.0   \n",
              "\n",
              "      TrainingTimesLastYear YearsAtCompany YearsSinceLastPromotion  \\\n",
              "0                         5              2                       2   \n",
              "1                         6              6                       1   \n",
              "2                         4             10                       7   \n",
              "3                         1              1                       0   \n",
              "4                         2              8                       7   \n",
              "...                     ...            ...                     ...   \n",
              "2935                      2              9                       7   \n",
              "2936                      3             15                       5   \n",
              "2937                      2             18                       4   \n",
              "2938                      2              5                       0   \n",
              "2939                      2              5                       0   \n",
              "\n",
              "      YearsWithCurrManager  Attrition  \n",
              "0                        2          1  \n",
              "1                        2          0  \n",
              "2                        7          1  \n",
              "3                        0          0  \n",
              "4                        7          0  \n",
              "...                    ...        ...  \n",
              "2935                     8          0  \n",
              "2936                    11          0  \n",
              "2937                    11          0  \n",
              "2938                     4          0  \n",
              "2939                     1          0  \n",
              "\n",
              "[2940 rows x 30 columns]"
            ]
          },
          "execution_count": 58,
          "metadata": {},
          "output_type": "execute_result"
        }
      ],
      "source": [
        "datos.drop(columns=\"EmployeeID\")"
      ]
    },
    {
      "cell_type": "markdown",
      "metadata": {
        "id": "wQZuc7xPCIB3"
      },
      "source": [
        "Nuestras sospechas han resultado ser ciertas, y es que es el único atributo cuyos valores son únicos, y no coinciden dos o más instancias con el mismo valor en esta columna. Más adelante decidiremos qué hacer con esta columna."
      ]
    },
    {
      "cell_type": "markdown",
      "metadata": {
        "id": "c05TfTyP11qG"
      },
      "source": [
        "### 2.5. ¿Problema desbalanceado?"
      ]
    },
    {
      "cell_type": "markdown",
      "metadata": {
        "id": "YRq368dLCIB3"
      },
      "source": [
        "Con el planteamiento completo del enunciado se puede intuir que estamos ante un __problema de clasificación__. Además, la variable _Attrition_ es la que determinará si un empleado es propenso a abandonar la empresa en función del resto de columnas.\n",
        "\n",
        "Sin embargo, todavía __no podemos comprobar si se trata de un problema de clasificación desbalanceado__, ya que no hemos hecho un conteo de los valores de dicha columna. Este paso es importante, ya que marcará la manera en la que realizaremos las particiones para entrenar, validar y evaluar el modelo.\n",
        "\n",
        "Para averiguarlo, usaremos el método `.value_counts()`:"
      ]
    },
    {
      "cell_type": "code",
      "execution_count": 59,
      "metadata": {
        "colab": {
          "base_uri": "https://localhost:8080/",
          "height": 178
        },
        "id": "_Q-zUraNevYv",
        "outputId": "77a7c5f4-8361-4882-df5b-405a43e589bf"
      },
      "outputs": [
        {
          "data": {
            "text/plain": [
              "Attrition\n",
              "0    2466\n",
              "1     474\n",
              "Name: count, dtype: int64"
            ]
          },
          "execution_count": 59,
          "metadata": {},
          "output_type": "execute_result"
        }
      ],
      "source": [
        "datos[\"Attrition\"].value_counts()"
      ]
    },
    {
      "cell_type": "markdown",
      "metadata": {
        "id": "Wzo6vjRvCIB3"
      },
      "source": [
        "La salida de la ejecución nos muestra el conteo de datos de dicha columna, lo que demuestra que __se trata de un problema desbalanceado__ hacia el valor \"no\", siendo más del 80% de las clasificaciones de este tipo.\n",
        "\n",
        "Esto va a influir en la manera en la que creamos los modelos de aprendizaje, ya que deberemos establecer los pesos balanceados con `class_weight=balanced`; de esta manera, se dará prioridad a las instancias de la clase minoritaria."
      ]
    },
    {
      "cell_type": "markdown",
      "metadata": {
        "id": "PM_aqdJECIB3"
      },
      "source": [
        "## 3. Metodología de trabajo: Decidir cómo se va a realizar la evaluación"
      ]
    },
    {
      "cell_type": "markdown",
      "metadata": {
        "id": "iTaYmNfae8R8"
      },
      "source": [
        "Una vez terminada la parte de análisis del conjunto de datos, podemos concluir en dos cosas:\n",
        "\n",
        "1. El problema es de clasificación, desbalanceado, con variables categóricas y numéricas, y algunas instancias contienen datos vacíos.\n",
        "\n",
        "2. Siendo el 80% de la muestra la que decide no abandonar, por el momento, la empresa puede estar tranquila.\n",
        "\n",
        "Con los datos ya analizados, procedemos a especificar la realización de la práctica. En este apartado vamos a comentar __cómo vamos a evaluar nuestro modelo__."
      ]
    },
    {
      "cell_type": "markdown",
      "metadata": {
        "id": "A-Y59Isg11qV"
      },
      "source": [
        "### 3.1. Planificación del entrenamiento"
      ]
    },
    {
      "cell_type": "markdown",
      "metadata": {
        "id": "akCIMtyuDCPx"
      },
      "source": [
        "- __División de los datos:__\n",
        "\n",
        "  Para realizar la evaluación de nuestro modelo, lo primero que tenemos que hacer es dividir el conjunto de datos en dos particiones de train y test. Usaremos __Holdout__ para invertir 2/3 de los datos para la parte de entrenamiento del modelo y el resto para evaluar el modelo final del entrenamiento.\n",
        "\n",
        "- __Preprocesado de datos:__\n",
        "\n",
        "  Para empezar con la fase de entrenamiento, primero deberemos ajustar unas métricas relacionadas con el dataset. Deberemos medir qué método de __imputación__ y __escalado__ de atributos genera un mejor rendimiento de los datos. Para esta medición, usaremos KNN con los hiperparámetros por defecto, y modificaremos el escalado usando varios formatos (_Standard, MinMax, Robust_) y también el tratado de datos vacios o imputación de datos, usando otras métricas (_Media, Mediana_, al tratarse de atributos numéricos). Por último, en todos los casos usaremos la metodología de evaluación de modelos __3-Fold con crossvalidation__. Con todo esto buscamos obtener el Escaler-Imputer que de el mejor rendimiento de la partición de entrenamiento.\n",
        "\n",
        "- __Creación de Modelos y Ajuste de hyperparametro HPO:__\n",
        "\n",
        "  Una vez hecho lo anterior, comenzamos la búsqueda del mejor modelo; se construirán una serie de modelos basandonos en las metodologías aprendidas en clase (KNN, Árboles de Decisión, Modelos Lineales y SVMs) mientras realizamos el __ajuste de hiperparámetros__ (HPO), y elegiremos el modelo que mejor se ajuste a los datos, procurando evitar cualquier data-leakage y overfitting/underfitting.\n",
        "\n",
        "- __Evaluación del modelo final de entrenamiento:__\n",
        "\n",
        "  Cuando hayamos encontrado la mejor alternativa usaremos el conjunto de test anteriormente apartado para obtener una __estimación y rendimiento a futuro del modelo__. Esto es lo que se conoce como la evaluación del modelo\n",
        "\n",
        "  Además de esto, mediremos otras métricas de precisión y accuracy del modelo de entrenamiento usando la partición de test: TPR, TNR y precisión de las clases positivas y negativas. Para ello, usaremos una __matriz de confusión__."
      ]
    },
    {
      "cell_type": "markdown",
      "metadata": {
        "id": "Fx4uLJyt11qV"
      },
      "source": [
        "### 3.2. Entrenamiento y evaluación del modelo final"
      ]
    },
    {
      "cell_type": "markdown",
      "metadata": {
        "id": "E2Zt93s-ERjL"
      },
      "source": [
        "Los pasos anteriores en conjunto nos dirigen al entrenamiento del modelo final, el cual se entrena con el dataset completo (entrenamiento + test) y evaluaremos realizando predicciones con un conjunto de datos de competición aparte.\n",
        "\n",
        "Toda esta implementación se realiza en el [segundo Jupyter Notebook](02_Prediccion_11.ipynb) a entregar con la práctica."
      ]
    },
    {
      "cell_type": "markdown",
      "metadata": {
        "id": "QkRHkombEjzd"
      },
      "source": [
        "## 4. Métodos Básicos: KNN y TREES; imputación, escalado y ajuste de hiperparámetros"
      ]
    },
    {
      "cell_type": "markdown",
      "metadata": {
        "id": "R5UuMqsDCIB4"
      },
      "source": [
        "Como hemos establecido anteriormente, el primer paso es realizar el escalado/imputación de los datos, de manera que sea el modelo el que se ajuste a éstos. Para ello, es necesario la importación de las siguientes librerías de SkLearn:"
      ]
    },
    {
      "cell_type": "code",
      "execution_count": 60,
      "metadata": {
        "id": "9nLBgZ27RFQP"
      },
      "outputs": [],
      "source": [
        "from sklearn.compose import ColumnTransformer\n",
        "from sklearn.impute import SimpleImputer\n",
        "from sklearn.pipeline import Pipeline\n",
        "from sklearn.neighbors import KNeighborsClassifier\n",
        "from sklearn.tree import DecisionTreeClassifier\n",
        "from sklearn.dummy import DummyClassifier\n",
        "from sklearn.model_selection import cross_val_score, train_test_split, GridSearchCV\n",
        "from sklearn.preprocessing import MinMaxScaler, OneHotEncoder, RobustScaler, StandardScaler\n",
        "import time"
      ]
    },
    {
      "cell_type": "markdown",
      "metadata": {
        "id": "kMOEO3ga11qW"
      },
      "source": [
        "### 4.1. División de los datos: particiones de entrenamiento y test"
      ]
    },
    {
      "cell_type": "markdown",
      "metadata": {
        "id": "eM2JYZHfCIB4"
      },
      "source": [
        "Para establecer la división de los datos haremos uso de la función `train_test_split()`,  en la que especificaremos la metodología __Holdout__ que divide las particiones de entrenamiento y test en una proporción (2/3, 1/3).\n",
        "\n",
        "También inicializaremos el atributo _random_state_ con un valor predefinido, ya que esto garantiza que se mantenga el mismo conjunto de datos de partición de entrenamiento y de test en todas las ejecuciones. En el caso de inicializarlo a ` None`, estaríamos dejando al azar el entrenamiento del modelo, ya que hay algunas métricas como en KNN que no se basan en estadísticas globales de los datos, y esto puede variar el resultado cada vez que ejecutemos el código.\n",
        "\n",
        "El valor elegido será `random_state=100495702` (número aleatorio).\n",
        "\n",
        "Una vez especificado esto, se procede a la partición de los datos."
      ]
    },
    {
      "cell_type": "code",
      "execution_count": 61,
      "metadata": {
        "id": "e0jHHodYKV6h"
      },
      "outputs": [],
      "source": [
        "X = datos.drop(\"Attrition\", axis=1)\n",
        "y = datos[\"Attrition\"]\n",
        "X_train, X_test, y_train, y_test = train_test_split(X, y, test_size=1/3, random_state=100495702)"
      ]
    },
    {
      "cell_type": "markdown",
      "metadata": {
        "id": "5tLIB6UM11qW"
      },
      "source": [
        "### 4.2. Escalado e imputación de la partición de entrenamiento; creación del preprocesador"
      ]
    },
    {
      "cell_type": "markdown",
      "metadata": {
        "id": "Tzbu8uVQRQn3"
      },
      "source": [
        "Una vez divididos los datos, buscaremos el modelo que mejor se adapte a la partición de entrenamiento según el tipo de imputación y escalado de datos. Para los escaladores usaremos los tres escaladores estudiados en clase para KNN: __MinMax (to 0-1 range), Estandarización y RobustScaler__; mientras que para los imputadores usaremos los especificados en el enunciado: __la media y la mediana__ de las variables de la misma instancia (imputación univariante).\n",
        "\n",
        "También usaremos como clasificador KNN y como métrica para la puntuación de cada imputer/scaler __balanced accuracy__:"
      ]
    },
    {
      "cell_type": "code",
      "execution_count": 62,
      "metadata": {
        "colab": {
          "base_uri": "https://localhost:8080/"
        },
        "id": "jo8pt_MWFQuR",
        "outputId": "49c84efd-3d45-44b7-f9f3-d99c986691e2"
      },
      "outputs": [
        {
          "name": "stdout",
          "output_type": "stream",
          "text": [
            "Scaler: StandardScaler(), Imputer: SimpleImputer(), Score: 0.5815283777377639\n",
            "Scaler: StandardScaler(), Imputer: SimpleImputer(strategy='median'), Score: 0.5784622167293647\n",
            "Scaler: MinMaxScaler(), Imputer: SimpleImputer(), Score: 0.5922876108796686\n",
            "Scaler: MinMaxScaler(), Imputer: SimpleImputer(strategy='median'), Score: 0.590604109196167\n",
            "Scaler: RobustScaler(), Imputer: SimpleImputer(), Score: 0.6069585667058591\n",
            "Scaler: RobustScaler(), Imputer: SimpleImputer(strategy='median'), Score: 0.6089429107479649\n",
            "\n",
            "Mejor Scaler: RobustScaler(), Mejor Imputer: SimpleImputer(strategy='median'), Mejor Score: 0.6089429107479649\n"
          ]
        }
      ],
      "source": [
        "# Lista de escaladores e imputadores\n",
        "Scalers = [StandardScaler(), MinMaxScaler(), RobustScaler()]\n",
        "Imputers = [SimpleImputer(strategy=\"mean\"), SimpleImputer(strategy=\"median\")]\n",
        "\n",
        "# Variables para almacenar el mejor modelo y su puntuación\n",
        "mejor_scaler = None\n",
        "mejor_imputer = None\n",
        "mejor_score = 0\n",
        "\n",
        "# Defiinimos el transformer para columnas categóricas\n",
        "categorical_transformer = Pipeline(steps=[\n",
        "  (\"encoder\", OneHotEncoder(handle_unknown=\"ignore\"))\n",
        "  ])\n",
        "\n",
        "# Iteramos sobre los escaladores\n",
        "for scaler in Scalers:\n",
        "\n",
        "  # Iteramos sobre los imputadores\n",
        "  for imputer in Imputers:\n",
        "\n",
        "    # Pipeline para las columnas numéricas\n",
        "    numerical_transformer = Pipeline(steps=[\n",
        "      (\"imputer\", imputer), (\"scaler\", scaler)\n",
        "      ])\n",
        "\n",
        "    # Preprocesador combinado\n",
        "    preprocessor = ColumnTransformer(transformers=[\n",
        "      (\"num\", numerical_transformer, numericas),\n",
        "      (\"cat\", categorical_transformer, categoricas)\n",
        "      ])\n",
        "\n",
        "    # Pipeline completo con clasificador (se utiliza KNN para clasificar)\n",
        "    pipeline = Pipeline(steps=[\n",
        "      (\"preprocessor\", preprocessor),\n",
        "      (\"classifier\", KNeighborsClassifier())\n",
        "      ])\n",
        "\n",
        "    # Evaluación del modelo con 3-fold cross-validation (se utiliza balanced_accuracy como métrica)\n",
        "    score = cross_val_score(pipeline, X_train, y_train,\n",
        "                            cv=3, scoring=\"balanced_accuracy\").mean()\n",
        "\n",
        "    # Comparamos con el mejor modelo\n",
        "    if score > mejor_score:\n",
        "      mejor_score = score\n",
        "      mejor_scaler = scaler\n",
        "      mejor_imputer = imputer\n",
        "\n",
        "    # Imprimimos los resultados de cada combinación\n",
        "    print(f\"Scaler: {scaler}, Imputer: {imputer}, Score: {score}\")\n",
        "\n",
        "# Obtenemos el mejor scaler/imputer y su score\n",
        "print(f\"\\nMejor Scaler: {mejor_scaler}, Mejor Imputer: {mejor_imputer}, Mejor Score: {mejor_score}\")"
      ]
    },
    {
      "cell_type": "markdown",
      "metadata": {
        "id": "xvPTlpAsQhw9"
      },
      "source": [
        "Observando los datos podemos concluir que el mejor método de escalado es `RobustScaler()`, el cual es particularmente útil cuando existen valores atípicos en los datos, ya que transforma los atributos usando la mediana y el rango intercuartílico; mientras que el mejor método de imputación (univariante) es `SimpleImputer(strategy=\"mean\")`, el cual reemplaza los valores faltantes con la media de cada atributo. Esta estrategia es muy común y sobretodo adecuada cuando los datos son aproximadamente simétricos.\n",
        "\n",
        "Estos valores quedan reservados en las variables locales `mejor_scaler` y `mejor_imputer`\n",
        "\n",
        "A continuación, definiremos un __preprocesador__, que usaremos en los distintos modelos a lo largo del cuaderno, con los valores obtenidos:"
      ]
    },
    {
      "cell_type": "code",
      "execution_count": 63,
      "metadata": {
        "id": "87g3I13R11qX"
      },
      "outputs": [],
      "source": [
        "# Definimos el codificador de variables categóricas\n",
        "categorical_transformer = Pipeline(steps=[\n",
        "       (\"encoder\", OneHotEncoder(handle_unknown=\"ignore\"))\n",
        "       ])\n",
        "\n",
        "# Definimos el mejor escalador e imputador obtenidos anteriormente\n",
        "numerical_transformer = Pipeline(steps=[\n",
        "       (\"imputer\", mejor_imputer),\n",
        "       (\"scaler\", mejor_scaler)\n",
        "       ])\n",
        "\n",
        "# Preprocesador combinado para columnas numéricas y categóricas\n",
        "preprocesador = ColumnTransformer(transformers=[\n",
        "       (\"num\", numerical_transformer, numericas),\n",
        "       (\"cat\", categorical_transformer, categoricas)\n",
        "       ])"
      ]
    },
    {
      "cell_type": "markdown",
      "metadata": {
        "id": "hz5yNYwd11qX"
      },
      "source": [
        "Este preprocesador queda almacenado en la variable `preprocesador`.\n",
        "\n",
        "Finalmente, utilizaremos un diccionario que almacenará el modelo de clasificación junto con los resultados obtenidos en puntuación y tiempo de ejecución. Este diccionario se declarará en la variable `resultados`:"
      ]
    },
    {
      "cell_type": "code",
      "execution_count": 64,
      "metadata": {
        "id": "qX6tDS_g11qX"
      },
      "outputs": [],
      "source": [
        "# Creamos un diccionario para almacenar los resultados de los modelos\n",
        "resultados = {}"
      ]
    },
    {
      "cell_type": "markdown",
      "metadata": {
        "id": "CMZ9E4gy11qX"
      },
      "source": [
        "### 4.3. Modelos iniciales con hiperparámetros por defecto"
      ]
    },
    {
      "cell_type": "markdown",
      "metadata": {
        "id": "gXom8EsI11qX"
      },
      "source": [
        "Una vez tenemos los métodos de escalado y de imputación seleccionados, junto con el preprocesador de los datos preparado, podemos pasar a la siguiente fase. Antes de realizar el ajuste de hiperparámetros, primeramente buscaremos los modelos de KNN y Árboles de Decisión con los hiperparámetros por defecto:"
      ]
    },
    {
      "cell_type": "code",
      "execution_count": 65,
      "metadata": {
        "colab": {
          "base_uri": "https://localhost:8080/"
        },
        "id": "YKWVKWvkCIB9",
        "outputId": "a360fb57-d0b3-417b-be61-25a1a56da40b"
      },
      "outputs": [
        {
          "name": "stdout",
          "output_type": "stream",
          "text": [
            "Modelo KNeighborsClassifier\n",
            "Puntuación de validación cruzada: 0.6089429107479649\n",
            "Tiempo de ejecución: 0.28842997550964355 segundos\n",
            "\n",
            "Modelo DecisionTreeClassifier\n",
            "Puntuación de validación cruzada: 0.7513219652208821\n",
            "Tiempo de ejecución: 0.29679346084594727 segundos\n",
            "\n"
          ]
        }
      ],
      "source": [
        "# Definimos los clasificadores KNN y DecisionTreeClassifier\n",
        "clasificadores = [KNeighborsClassifier(), DecisionTreeClassifier(random_state=100495702)]\n",
        "\n",
        "# Iteramos sobre los clasificadores\n",
        "for clasificador in clasificadores:\n",
        "\n",
        "    # Configuramos el clasificador para que use pesos balanceados si es un árbol de decisión\n",
        "    if isinstance(clasificador, DecisionTreeClassifier):\n",
        "           clasificador.set_params(class_weight=\"balanced\")\n",
        "\n",
        "    # Pipeline completo con clasificador\n",
        "    pipeline = Pipeline(steps=[\n",
        "           (\"preprocessor\", preprocesador),\n",
        "           (\"classifier\", clasificador)\n",
        "           ])\n",
        "\n",
        "    # Medimos el tiempo de entrenamiento del modelo\n",
        "    start_time = time.time()\n",
        "    scores = cross_val_score(pipeline, X_train, y_train, cv=3, scoring='balanced_accuracy')\n",
        "    end_time = time.time()\n",
        "\n",
        "    # Imprimimos los resultados\n",
        "    print(\"Modelo\", clasificador.__class__.__name__)\n",
        "    print(\"Puntuación de validación cruzada:\", scores.mean())\n",
        "    print(\"Tiempo de ejecución:\", end_time - start_time, \"segundos\\n\")\n",
        "\n",
        "    # Almacenamos los resultados en el diccionario\n",
        "    resultados[clasificador.__class__.__name__] = {\n",
        "       \"modelo\": clasificador,\n",
        "       \"puntuacion\": scores.mean(),\n",
        "       \"tiempo_ejecucion\": end_time - start_time,\n",
        "       \"hiperparametros\": None\n",
        "       }\n"
      ]
    },
    {
      "cell_type": "markdown",
      "metadata": {
        "id": "eD2OjRT111qY"
      },
      "source": [
        "A priori, el modelo KNN es considerablemente menos eficiente que los árboles de decisión; y la diferencia de coste computacional no es muy grande, por lo que no es realmente útil comparar por esta métrica todavía."
      ]
    },
    {
      "cell_type": "markdown",
      "metadata": {
        "id": "pBEzPBbV11qY"
      },
      "source": [
        "### 4.4. Ajuste de hiperparámetros (HPO)"
      ]
    },
    {
      "cell_type": "markdown",
      "metadata": {
        "id": "QG4X3Ezf11qY"
      },
      "source": [
        "A continuación, usaremos la metodología `GridSearch()` para encontrar el mejor ajuste de hiperparámetros para cada uno de los dos métodos.\n",
        "\n",
        "Consideraremos los siguientes hiperparámetros para el modelo __KNN__:\n",
        "- __Grado de clasificación (_k_)__: representa el número de datos de entrenamiento más cercanos a la instancia a evaluar que se consideran para determinar la predicción del modelo\n",
        "- __Métricas de distancia entre instancias vecinas__: distancia euclídea, distancia de Manhattan y distancia de Minkowski\n",
        "\n",
        "Por otro lado, los hiperparámetros a medir para los __arboles de decisión__ son los siguientes:\n",
        "- __Profundidad máxima del árbol (_max_depth_)__: es el máximo de profundidad que se permite para la creación del árbol. Esto influye en las instancias agrupadas en cada nodo hoja.\n",
        "- __Número mínimo de instancias (_min_samples_split_)__: se condiciona el número mínimo de instancias para poder realizar una patición de un nodo intermedio.\n",
        "- __Criterio de impureza__: se varía el cálculo para determinar qué atributos influyen más en la clasificación (_entropía_ e _impureza de Gini_).\n",
        "\n",
        "Podríamos añadir muchos más hiperparámetros que harían este proceso mucho más efectivo, pero también buscamos reducir el tiempo de ejecución. Por lo tanto, nos serviremos de los hiperparámetros fundamentales que estimen un modelo con un mayor rendimiento.\n",
        "\n",
        "Además, para evitar que se ejecute durante más tiempo, repartiremos el trabajo entre todos los kernels de la máquina con `n_jobs=-1`."
      ]
    },
    {
      "cell_type": "code",
      "execution_count": 66,
      "metadata": {
        "colab": {
          "base_uri": "https://localhost:8080/"
        },
        "id": "57Bqmm-NWzKQ",
        "outputId": "5e363d65-1057-4eef-ff72-4b77068e1600"
      },
      "outputs": [
        {
          "name": "stdout",
          "output_type": "stream",
          "text": [
            "Modelo KNeighborsClassifier con HPO\n",
            "Mejores parámetros: {'classifier__metric': 'manhattan', 'classifier__n_neighbors': 3}\n",
            "Mejor puntuación: 0.6636557299012172\n",
            "Tiempo de ejecución: 1.9588546752929688 segundos\n",
            "\n",
            "Modelo DecisionTreeClassifier con HPO\n",
            "Mejores parámetros: {'classifier__criterion': 'entropy', 'classifier__max_depth': 10, 'classifier__min_samples_split': 10}\n",
            "Mejor puntuación: 0.7970763510474702\n",
            "Tiempo de ejecución: 2.8194353580474854 segundos\n",
            "\n"
          ]
        }
      ],
      "source": [
        "# Iteramos sobre los clasificadores\n",
        "for clasificador in clasificadores:\n",
        "\n",
        "    # Definimos una pipeline con el preprocesador y el clasificador\n",
        "    pipeline = Pipeline(steps=[\n",
        "           (\"preprocessor\", preprocesador),\n",
        "           (\"classifier\", clasificador)\n",
        "           ])\n",
        "\n",
        "    # Definimos la rejilla de hiperparámetros para cada clasificador\n",
        "    if isinstance(clasificador, KNeighborsClassifier):\n",
        "            param_grid = {\n",
        "                'classifier__n_neighbors': [3, 5, 7, 9, 11],\n",
        "                'classifier__metric': ['euclidean', 'manhattan', 'minkowski']\n",
        "            }\n",
        "    elif isinstance(clasificador, DecisionTreeClassifier):\n",
        "            # Configuramos el clasificador para que use pesos balanceados si es un árbol de decisión\n",
        "            clasificador.set_params(class_weight=\"balanced\")\n",
        "            param_grid = {\n",
        "                'classifier__max_depth': [5, 10, 15, None],\n",
        "                'classifier__min_samples_split': [2, 5, 10],\n",
        "                'classifier__criterion': ['gini', 'entropy'],\n",
        "            }\n",
        "\n",
        "    # Entrenamos el modelo con GridSearchCV para encontrar los mejores hiperparámetros\n",
        "    grid_search = GridSearchCV(pipeline, param_grid, cv=3, n_jobs=-1, scoring='balanced_accuracy')\n",
        "\n",
        "    # Medimos el tiempo del entrenamiento del modelo\n",
        "    start_time = time.time()\n",
        "    grid_search.fit(X_train, y_train)\n",
        "    end_time = time.time()\n",
        "\n",
        "    # Mostrar los mejores hiperparámetros\n",
        "    print(\"Modelo\", clasificador.__class__.__name__, \"con HPO\")\n",
        "    print(\"Mejores parámetros:\", grid_search.best_params_)\n",
        "    print(\"Mejor puntuación:\", grid_search.best_score_)\n",
        "    print(\"Tiempo de ejecución:\", end_time - start_time, \"segundos\\n\")\n",
        "\n",
        "    # Guardamos el mejor modelo en la instancia del diccionario con HPO\n",
        "    resultados[clasificador.__class__.__name__+\"_HPO\"] = {\n",
        "        \"modelo\": clasificador,\n",
        "        \"puntuacion\": grid_search.best_score_,\n",
        "        \"tiempo_ejecucion\": end_time - start_time,\n",
        "        \"hiperparametros\": grid_search.best_params_\n",
        "    }"
      ]
    },
    {
      "cell_type": "markdown",
      "metadata": {
        "id": "AlY6NWuO11qZ"
      },
      "source": [
        "Podemos observar las dos mejores combinaciones de hiperparámetros respecto a cada modelo:\n",
        "\n",
        "- En KNN, elegir las tres instancias más cercanas según la distancia euclídea resulta ser más efectivo que cualquier otra combinación; sin embargo, el tiempo de ejecución relativamente alto. Esto puede deberse a datos ruidosos, y a que la fase clave del procedimiento viene en la predicción (ya que en KNN, el entrenamiento son los propios datos del modelo, por eso es un algoritmo \"perezoso\").\n",
        "- Por otro lado, para árboles de decisión, medir la pureza de un nodo con la impureza de Gini parece ser más efectivo que el cálculo de la entropía; se establece a 15 la profundidad máxima del árbol (lo que significa que existen muchas particiones/ramas), y a 5 el número mínimo de instancias de un nodo hoja.\n",
        "\n",
        "En cualquier circunstancia, se ve claro que __el clasificador de árboles de regresión es más efectivo y más eficiente que el clasificador KNN__."
      ]
    },
    {
      "cell_type": "markdown",
      "metadata": {
        "id": "n_YsiwJi11qZ"
      },
      "source": [
        "### 4.5. Modelo Dummy"
      ]
    },
    {
      "cell_type": "markdown",
      "metadata": {
        "id": "FSjLo59iopY6"
      },
      "source": [
        "El __modelo Dummy__ es el modelo que clasifica todas las instancias a la clase mayoritaria, lo cual es inefectivo para nuestro problema, ya que causará un modelo con muy baja tasa de acierto.\n",
        "\n",
        "Sin embargo, saber las métricas de este modelo puede ayudarnos a comprobar que los modelos creados anteriormente sean efectivos. Los modelos obtenidos anteriormente se considerarán como válidos si superan la tasa de acierto de este modelo.\n",
        "\n",
        "En este caso, no se realiza ajuste de hiperparámetros, ya que la creación de este modelo es meramente orientativa:"
      ]
    },
    {
      "cell_type": "code",
      "execution_count": 67,
      "metadata": {
        "colab": {
          "base_uri": "https://localhost:8080/"
        },
        "id": "1jovm0KWqL8K",
        "outputId": "8926a576-ff19-4603-ede8-f5b6fcc002a8"
      },
      "outputs": [
        {
          "name": "stdout",
          "output_type": "stream",
          "text": [
            "Modelo DummyClassifier\n",
            "Mejor puntuación: 0.5\n",
            "Tiempo de ejecución: 0.04213142395019531 segundos\n",
            "\n"
          ]
        }
      ],
      "source": [
        "# Definimos el clasificador DummyClassifier\n",
        "dummy_clf = DummyClassifier(strategy='most_frequent')\n",
        "\n",
        "# Medimos el tiempo del entrenamiento del modelo\n",
        "start_time = time.time()\n",
        "score = cross_val_score(dummy_clf, X_train, y_train, cv=3, scoring='balanced_accuracy').mean()\n",
        "end_time = time.time()\n",
        "\n",
        "# Mostramos los resultadosd\n",
        "print(\"Modelo DummyClassifier\")\n",
        "print(\"Mejor puntuación:\", score)\n",
        "print(\"Tiempo de ejecución:\", end_time - start_time, \"segundos\\n\")\n",
        "\n",
        "# Guardamos el modelo en el diccionario\n",
        "resultados[dummy_clf.__class__.__name__] = {\n",
        "    \"modelo\": dummy_clf,\n",
        "    \"puntuacion\": score,\n",
        "    \"tiempo_ejecucion\": end_time - start_time,\n",
        "    \"hiperparametros\": None\n",
        "}"
      ]
    },
    {
      "cell_type": "markdown",
      "metadata": {
        "id": "sifCvdIu11qa"
      },
      "source": [
        "Como es obvio, el modelo Dummy obtendrá una __tasa de aciertos del 50%__, lo cual es inferior a la puntuación obtenida en los modelos anteriores. Esto nos confirma que los modelos son correctos."
      ]
    },
    {
      "cell_type": "markdown",
      "metadata": {
        "id": "QjgivKD211qa"
      },
      "source": [
        "\n",
        "### 4.6. Comparativa de modelos"
      ]
    },
    {
      "cell_type": "markdown",
      "metadata": {},
      "source": [
        "Para comparar las distintas combinaciones de hiperparámetros, crearemos los modelos simples de cada tipo con dichas combinaciones, y luego usaremos gráficos para comprobar que los resultados anteriores son correctos.\n",
        "\n",
        "Para la creación de gráficos, importaremos la librería `matplotlib`:"
      ]
    },
    {
      "cell_type": "code",
      "execution_count": 68,
      "metadata": {},
      "outputs": [],
      "source": [
        "import matplotlib.pyplot as plt"
      ]
    },
    {
      "cell_type": "markdown",
      "metadata": {},
      "source": [
        "A continuación, se comparan las diferentes combinaciones de hiperparámetros para los modelos KNN:"
      ]
    },
    {
      "cell_type": "code",
      "execution_count": 69,
      "metadata": {},
      "outputs": [],
      "source": [
        "# Almacenamiento de los resultados\n",
        "resultados_knn = {}\n",
        "\n",
        "# Definimos los hiperparámetros para el clasificador KNeighborsClassifier\n",
        "n_vecinos = [3, 5, 7, 9, 11]\n",
        "metricas = ['euclidean', 'manhattan', 'minkowski']\n",
        "\n",
        "# Creamos los modelos\n",
        "for n in n_vecinos:\n",
        "    for m in metricas:\n",
        "        # Definimos el clasificador KNeighborsClassifier con los hiperparámetros\n",
        "        knn = KNeighborsClassifier(n_neighbors=n, metric=m)\n",
        "        # Definimos la pipeline con el preprocesador y el clasificador\n",
        "        pipeline = Pipeline(steps=[\n",
        "           (\"preprocessor\", preprocesador),\n",
        "           (\"classifier\", knn)\n",
        "           ])\n",
        "        # Medimos el tiempo del entrenamiento del modelo\n",
        "        start_time = time.time()\n",
        "        scores = cross_val_score(pipeline, X_train, y_train, cv=3, scoring='balanced_accuracy')\n",
        "        end_time = time.time()\n",
        "        # Almacenamos los resultados en el diccionario\t\n",
        "        resultados_knn[knn.__class__.__name__+f\"_{n}_{m}\"] = {\n",
        "            \"modelo\": knn,\n",
        "            \"puntuacion\": scores.mean(),\n",
        "            \"tiempo_ejecucion\": end_time - start_time,\n",
        "            \"hiperparametros\": {\"n_neighbors\": n, \"metric\": m}\n",
        "        }\n",
        "        # Imprimimos los resultados\n",
        "        # print(f\"Modelo KNeighborsClassifier (n_neighbors={n}, metric={m})\")\n",
        "        # print(\"Puntuación de validación cruzada:\", scores.mean())\n",
        "        # print(\"Tiempo de ejecución:\", end_time - start_time, \"segundos\\n\")"
      ]
    },
    {
      "cell_type": "markdown",
      "metadata": {},
      "source": [
        "El siguiente plot muestra los resultados de los modelos KNN creados:"
      ]
    },
    {
      "cell_type": "code",
      "execution_count": 70,
      "metadata": {},
      "outputs": [
        {
          "data": {
            "image/png": "[encoded data removed]",
            "text/plain": [
              "<Figure size 800x500 with 1 Axes>"
            ]
          },
          "metadata": {},
          "output_type": "display_data"
        }
      ],
      "source": [
        "# Listamos los modelos y sus puntuaciones\n",
        "modelos = list(resultados_knn.keys())\n",
        "accuracies = [resultados_knn[modelo][\"puntuacion\"] for modelo in modelos]\n",
        "\n",
        "# Creamos el gráfico\n",
        "plt.figure(figsize=(8, 5))\n",
        "plt.plot(modelos, accuracies, marker='o', linestyle='-', color='gold')\n",
        "plt.title('Accuracy por modelo')\n",
        "plt.ylabel('Accuracy')\n",
        "plt.xticks(rotation=45, ha='right')\n",
        "\n",
        "# Ajustamos la escala para notar las diferencias\n",
        "plt.ylim(0.5, 0.7)\n",
        "\n",
        "# Escribimos el valor encima de cada punto\n",
        "for i, acc in enumerate(accuracies):\n",
        "    plt.text(i, acc + 0.001, f\"{acc:.3f}\", ha='center', fontsize=8)\n",
        "\n",
        "# Mostramos el gráfico\n",
        "plt.tight_layout()\n",
        "plt.show()"
      ]
    },
    {
      "cell_type": "markdown",
      "metadata": {},
      "source": [
        "Podemos comprobar que el ajuste de hiperparámetros elegido por la metodología GridSearch ha sido correcta, ya que en términos de tasa de aciertos, la combinación obtenida coincide en ambos casos.\n",
        "\n",
        "También podemos extraer la conclusión de que __cuantas más instancias vecinas se estudian para una nueva instancia, más sobreajuste se produce__; y por tanto peores resultados se obtienen.\n",
        "\n",
        "A continuación, vamos a hacer lo mismo, pero para los hiperparametros de los árboles de decisión:"
      ]
    },
    {
      "cell_type": "code",
      "execution_count": 71,
      "metadata": {},
      "outputs": [],
      "source": [
        "# Almacenamiento de los resultados\n",
        "resultados_dec_tree = {}\n",
        "\n",
        "# Definimos los hiperparámetros para el clasificador DecisionTreeClassifier\n",
        "max_depths = [5, 10, 15, None]\n",
        "min_samples_splits = [2, 5, 10]\n",
        "criterions = ['gini', 'entropy']\n",
        "\n",
        "# Creamos los modelos\n",
        "for depth in max_depths:\n",
        "    for min_samples in min_samples_splits:\n",
        "        for criterion in criterions:\n",
        "            # Definimos el clasificador DecisionTreeClassifier con los hiperparámetros\n",
        "            d_tree = DecisionTreeClassifier(max_depth=depth, min_samples_split=min_samples, criterion=criterion, random_state=100495702, class_weight=\"balanced\")\n",
        "            # Definimos la pipeline con el preprocesador y el clasificador\n",
        "            pipeline = Pipeline(steps=[\n",
        "               (\"preprocessor\", preprocesador),\n",
        "               (\"classifier\", d_tree)\n",
        "               ])\n",
        "            # Medimos el tiempo del entrenamiento del modelo\n",
        "            start_time = time.time()\n",
        "            scores = cross_val_score(pipeline, X_train, y_train, cv=3, scoring='balanced_accuracy')\n",
        "            end_time = time.time()\n",
        "            # Almacenamos los resultados en el diccionario\t\n",
        "            resultados_dec_tree[d_tree.__class__.__name__+f\"_{depth}_{min_samples}_\"+criterion] = {\n",
        "                \"modelo\": d_tree,\n",
        "                \"puntuacion\": scores.mean(),\n",
        "                \"tiempo_ejecucion\": end_time - start_time,\n",
        "                \"hiperparametros\": {\"max_depth\": depth, \"min_samples_split\": min_samples, \"criterion\": criterion}\n",
        "            }\n",
        "            # Imprimimos los resultados\n",
        "            # print(f\"Modelo DecisionTreeClassifier (max_depth={depth}, min_samples_split={min_samples}, criterion={criterion})\")\n",
        "            # print(\"Puntuación de validación cruzada:\", scores.mean())\n",
        "            # print(\"Tiempo de ejecución:\", end_time - start_time, \"segundos\\n\")"
      ]
    },
    {
      "cell_type": "markdown",
      "metadata": {},
      "source": [
        "El siguiente gráfico mostrará los resultados obtenidos:"
      ]
    },
    {
      "cell_type": "code",
      "execution_count": 72,
      "metadata": {},
      "outputs": [
        {
          "data": {
            "image/png": "[encoded data removed]",
            "text/plain": [
              "<Figure size 800x500 with 1 Axes>"
            ]
          },
          "metadata": {},
          "output_type": "display_data"
        }
      ],
      "source": [
        "# Listamos los modelos y sus puntuaciones\n",
        "modelos = list(resultados_dec_tree.keys())\n",
        "accuracies = [resultados_dec_tree[modelo][\"puntuacion\"] for modelo in modelos]\n",
        "\n",
        "# Creamos el gráfico\n",
        "plt.figure(figsize=(8, 5))\n",
        "plt.plot(modelos, accuracies, marker='o', linestyle='-', color='royalblue')\n",
        "plt.title('Accuracy por modelo')\n",
        "plt.ylabel('Accuracy')\n",
        "plt.xticks(rotation=45, ha='right')\n",
        "\n",
        "# Escribimos el valor encima de cada punto\n",
        "for i, acc in enumerate(accuracies):\n",
        "    plt.text(i, acc + 0.001, f\"{acc:.3f}\", ha='center', fontsize=8)\n",
        "\n",
        "# Mostramos el gráfico\n",
        "plt.tight_layout()\n",
        "plt.show()"
      ]
    },
    {
      "cell_type": "markdown",
      "metadata": {},
      "source": [
        "De la misma manera que anteriormente, los resultados obtenidos coinciden. Observando la gráfica podemos concluir que __las profundidades máximas altas producen mejores resultados que las bajas__, debido a que las ramas del árbol se diferencian mejor (una profundidad pequeña puede producir el subajuste de los datos).\n",
        "\n",
        "A continuación, mostramos el siguiente balance de resultados entre los mejores modelos de éste apartado:"
      ]
    },
    {
      "cell_type": "code",
      "execution_count": 73,
      "metadata": {
        "colab": {
          "base_uri": "https://localhost:8080/",
          "height": 479
        },
        "id": "dAcgAQvt11qa",
        "outputId": "2f38b5e5-32b3-4264-8cab-8dc875edd783"
      },
      "outputs": [
        {
          "data": {
            "image/png": "[encoded data removed]",
            "text/plain": [
              "<Figure size 1200x500 with 2 Axes>"
            ]
          },
          "metadata": {},
          "output_type": "display_data"
        }
      ],
      "source": [
        "# Listamos los modelos creados\n",
        "modelos = list(resultados.keys())\n",
        "\n",
        "# Extraemos las puntuaciones y tiempos de ejecución de cada modelo\n",
        "accuracies = [resultados[modelo][\"puntuacion\"] for modelo in modelos]\n",
        "tiempos = [resultados[modelo][\"tiempo_ejecucion\"] for modelo in modelos]\n",
        "\n",
        "# Creamos dos plots: uno para la accuracy y otro para el tiempo de ejecución\n",
        "fig, axes = plt.subplots(1, 2, figsize=(12, 5))\n",
        "\n",
        "# Plot de scores (accuracies)\n",
        "axes[0].bar(modelos, accuracies, color='skyblue')\n",
        "axes[0].set_title('Accuracy por modelo')\n",
        "axes[0].set_ylabel('Accuracy')\n",
        "axes[0].set_ylim(0, 1)\n",
        "\n",
        "# Plot de tiempo de ejecución\n",
        "axes[1].bar(modelos, tiempos, color='salmon')\n",
        "axes[1].set_title('Tiempo de ejecución por modelo')\n",
        "axes[1].set_ylabel('Tiempo (segundos)')\n",
        "\n",
        "# Ajustamos las etiquetas de los modelos\n",
        "for ax in axes:\n",
        "    ax.set_xticks(range(len(modelos)))\n",
        "    ax.set_xticklabels(ax.get_xticklabels(), rotation=45, ha='right')\n",
        "\n",
        "# Mostramos los plots\n",
        "plt.tight_layout()\n",
        "plt.show()"
      ]
    },
    {
      "cell_type": "markdown",
      "metadata": {},
      "source": [
        "Podemos observar mediante los gráficos que los clasificadores KNN tienen menor _accuracy_ en comparación con los clasificadores de árboles de decisión; además, éstos últimos resultan ser más eficientes en términos de tiempo de ejecución y rendimiento computacional.\n",
        "\n",
        "Si nos fijamos en los modelos de clasificación de árboles de decisión, la _accuracy_ mejora con el ajuste de hiperparámetros (HPO), pero esto provoca un aumento del tiempo de ejecución y del coste computacional (esto es debido a la búsqueda por rejilla). Resaltamos también el elevado coste computacional provocado por el ajuste de hiperparámetros para el modelo clasificador KNN, debido a las múltiples combinaciones que generan los hiperparámetros que estamos midiendo."
      ]
    },
    {
      "cell_type": "markdown",
      "metadata": {
        "id": "wUfX_kb9WGRB"
      },
      "source": [
        "## 5. Avanzados: Modelos lineales y SVMs"
      ]
    },
    {
      "cell_type": "markdown",
      "metadata": {
        "id": "PDwqZPNr11qb"
      },
      "source": [
        "A continuación, una vez evaluados los modelos simples (KNN y árboles), podemos pasar a la siguiente parte del entrenamiento. Avanzamos a modelos más complejos para nuestro dataset: __modelos lineales de regresión y máquinas de vectores de soporte (SVMs)__.\n",
        "\n",
        "Continuaremos con nuestra metodología de creación de modelos con los parámetros por omisión antes de pasar al ajuste de hiperparámetros, usando los valores de escalado e imputación obtenidos en el apartado anterior (y, por supuesto, midiendo el tiempo de ejeución y su puntuación obtenida).\n",
        "\n",
        "A continuación, establecemos todas las librerías que se van a utilizar en este apartado:"
      ]
    },
    {
      "cell_type": "code",
      "execution_count": 74,
      "metadata": {
        "id": "rx5ae4SP11qb"
      },
      "outputs": [],
      "source": [
        "from sklearn.linear_model import LogisticRegression\n",
        "from sklearn.svm import SVC"
      ]
    },
    {
      "cell_type": "markdown",
      "metadata": {
        "id": "JVJ7iNL611qb"
      },
      "source": [
        "### 5.1. Modelos lineales de clasificación (Regresión Logística) y HPO"
      ]
    },
    {
      "cell_type": "markdown",
      "metadata": {
        "id": "d5wTJCWP11qb"
      },
      "source": [
        "Para empezar, mediremos nuestro modelo usando un modelo de regresión logística, el cual es un modelo lineal adaptado a problemas de clasificación. Para ello, usaremos el modelo `LogisticRegression()`"
      ]
    },
    {
      "cell_type": "code",
      "execution_count": 75,
      "metadata": {
        "colab": {
          "base_uri": "https://localhost:8080/"
        },
        "id": "n_JiKvs911qb",
        "outputId": "2afe4ac8-2661-458b-fa54-4b529c3a6e53"
      },
      "outputs": [
        {
          "name": "stdout",
          "output_type": "stream",
          "text": [
            "Modelo LogisticRegression\n",
            "Mejor puntuación: 0.7354956696111931\n",
            "Tiempo de ejecución: 0.24277019500732422 segundos\n",
            "\n"
          ]
        }
      ],
      "source": [
        "# Definimos el clasificador LogisticRegression\n",
        "logistic_clf = LogisticRegression(random_state=100495702)\n",
        "\n",
        "# Balanceamos los pesos\n",
        "logistic_clf.set_params(class_weight=\"balanced\")\n",
        "\n",
        "# Definimos la pipeline con el preprocesador y el clasificador\n",
        "pipeline = Pipeline(steps=[\n",
        "           (\"preprocessor\", preprocesador),\n",
        "           (\"classifier\", logistic_clf)\n",
        "           ])\n",
        "\n",
        "# Medimos el tiempo del entrenamiento del modelo\n",
        "start_time = time.time()\n",
        "score = cross_val_score(pipeline, X_train, y_train, cv=3, scoring='balanced_accuracy').mean()\n",
        "end_time = time.time()\n",
        "\n",
        "# Mostramos los resultados\n",
        "print(\"Modelo LogisticRegression\")\n",
        "print(\"Mejor puntuación:\", score)\n",
        "print(\"Tiempo de ejecución:\", end_time - start_time, \"segundos\\n\")\n",
        "\n",
        "# Guardamos el modelo en el diccionario\n",
        "resultados[logistic_clf.__class__.__name__] = {\n",
        "    \"modelo\": logistic_clf,\n",
        "    \"puntuacion\": score,\n",
        "    \"tiempo_ejecucion\": end_time - start_time,\n",
        "    \"hiperparametros\": None\n",
        "}"
      ]
    },
    {
      "cell_type": "markdown",
      "metadata": {
        "id": "i_KmUfU011qc"
      },
      "source": [
        "A continuación, mostramos el mismo tipo de modelo aplicando la __regularización Lasso (L1)__, la cual utiliza una función de penalización en valor absoluto de los valores absolutos de los coeficientes, lo que puede provocar que algunos se vean reducidos exactamente a cero. Si se da el caso, significará que algunas variables no contribuyen a la predicción.\n",
        "\n",
        "Para ello, usaremos el mismo objeto `LogisticRegression()`, añadiendo como atributos la penalización Lasso `penalty='l1'`, y el solver `'liblinear'`."
      ]
    },
    {
      "cell_type": "code",
      "execution_count": 76,
      "metadata": {
        "colab": {
          "base_uri": "https://localhost:8080/"
        },
        "id": "SGG4NBqA11qc",
        "outputId": "b9c5eec6-0044-4578-8bf5-c1661d66989d"
      },
      "outputs": [
        {
          "name": "stdout",
          "output_type": "stream",
          "text": [
            "Modelo LogisticRegression con reg. Lasso\n",
            "Mejor puntuación: 0.7365780286357904\n",
            "Tiempo de ejecución: 0.18940424919128418 segundos\n"
          ]
        }
      ],
      "source": [
        "# Definimos el clasificador LogisticRegression con regularización Lasso (L1)\n",
        "# Usamos el solver 'liblinear' para la penalización L1\n",
        "logistic_Lasso_clf = LogisticRegression(random_state=100495702, penalty='l1', solver='liblinear')\n",
        "\n",
        "# Balanceamos los pesos\n",
        "logistic_Lasso_clf.set_params(class_weight=\"balanced\")\n",
        "\n",
        "# Definimos el pipeline con el preprocesador y el clasificador\n",
        "pipeline = Pipeline(steps=[\n",
        "           (\"preprocessor\", preprocesador),\n",
        "           (\"classifier\", logistic_Lasso_clf)\n",
        "           ])\n",
        "\n",
        "# Medimos el tiempo del entrenamiento del modelo\n",
        "start_time = time.time()\n",
        "score = cross_val_score(pipeline, X_train, y_train, cv=3, scoring='balanced_accuracy').mean()\n",
        "end_time = time.time()\n",
        "\n",
        "# Mostramos los resultados\n",
        "print(\"Modelo LogisticRegression con reg. Lasso\")\n",
        "print(\"Mejor puntuación:\", score)\n",
        "print(\"Tiempo de ejecución:\", end_time - start_time, \"segundos\")\n",
        "\n",
        "# Guardamos el modelo en el diccionario\n",
        "resultados[logistic_Lasso_clf.__class__.__name__+\"_Lasso\"] = {\n",
        "    \"modelo\": logistic_Lasso_clf,\n",
        "    \"puntuacion\": score,\n",
        "    \"tiempo_ejecucion\": end_time - start_time,\n",
        "    \"hiperparametros\": None\n",
        "}"
      ]
    },
    {
      "cell_type": "markdown",
      "metadata": {
        "id": "WoRwLnH911qd"
      },
      "source": [
        "Podemos apreciar que el modelo lineal se ve afectado negativamente con la regularización implicada. Esto puede deberse a que se realiza una __regularización excesiva de los datos__, convirtiendo el modelo a una versión más simplista que no utiliza información relevante que el modelo anterior sí usa. Es decir, el modelo de clasificación lineal realiza un mejor desempeño sin regularización Lasso que con ella.\n",
        "\n",
        "Seguidamente, nos disponemos a realiza el __ajuste de hiperparámetros__ de los dos modelos creados anteriormente (modelos lineales con y sin regularización Lasso). Ajustaremos los siguientes __hiperparámetros__:\n",
        "\n",
        "- __Función de coste (_C_)__: controla la regularización aplicada al modelo, y su principal objetivo es prevenir el sobreajuste de los datos de entrenamiento.\n",
        "- __Número máximo de iteraciones__: controla el número máximo de iteraciones que el algoritmo de optimización (__descenso de gradiente__) realizará para encontrar los coeficientes óptimos del modelo."
      ]
    },
    {
      "cell_type": "code",
      "execution_count": 77,
      "metadata": {
        "colab": {
          "base_uri": "https://localhost:8080/"
        },
        "id": "brCnkho111qd",
        "outputId": "6330459f-4564-4455-eb74-495592783de1"
      },
      "outputs": [
        {
          "name": "stdout",
          "output_type": "stream",
          "text": [
            "Modelo LogisticRegression con HPO\n",
            "Mejor puntuación: 0.7400676685875242\n",
            "Mejores parámetros: {'classifier__C': 0.1, 'classifier__max_iter': 100}\n",
            "Tiempo de ejecución: 0.9250760078430176 segundos\n",
            "\n"
          ]
        }
      ],
      "source": [
        "# Definimos el clasificador LogisticRegression\n",
        "logistic_clf = LogisticRegression(random_state=100495702)\n",
        "\n",
        "# Balanceamos los pesos\n",
        "logistic_clf.set_params(class_weight=\"balanced\")\n",
        "\n",
        "# Definimos el pipeline con el preprocesador y el clasificador\n",
        "pipeline = Pipeline(steps=[\n",
        "           (\"preprocessor\", preprocesador),\n",
        "           (\"classifier\", logistic_clf)\n",
        "           ])\n",
        "\n",
        "param_grid = {\n",
        "    'classifier__C': [0.01, 0.1, 1, 10, 100],\n",
        "    'classifier__max_iter': [100, 200, 300]\n",
        "}\n",
        "\n",
        "# Hacemos búsqueda con rejilla para buscar los mejores hiperparámetros\n",
        "grid_search = GridSearchCV(pipeline, param_grid, cv=3, n_jobs=-1, scoring='balanced_accuracy')\n",
        "\n",
        "# Medimos el tiempo del entrenamiento del modelo\n",
        "start_time = time.time()\n",
        "grid_search.fit(X_train, y_train)\n",
        "end_time = time.time()\n",
        "\n",
        "# Mostramos los resultados\n",
        "print(\"Modelo LogisticRegression con HPO\")\n",
        "print(\"Mejor puntuación:\", grid_search.best_score_)\n",
        "print(\"Mejores parámetros:\", grid_search.best_params_)\n",
        "print(\"Tiempo de ejecución:\", end_time - start_time, \"segundos\\n\")\n",
        "\n",
        "# Guardamos el modelo en el diccionario\n",
        "resultados[logistic_clf.__class__.__name__+\"_HPO\"] = {\n",
        "    \"modelo\": grid_search.best_estimator_,\n",
        "    \"puntuacion\": grid_search.best_score_,\n",
        "    \"tiempo_ejecucion\": end_time - start_time,\n",
        "    \"hiperparametros\": grid_search.best_params_\n",
        "}"
      ]
    },
    {
      "cell_type": "markdown",
      "metadata": {
        "id": "zHBI4otj11qe"
      },
      "source": [
        "El valor del hiperparámetro _C_ (grande) implica que se realice menos regularización, lo que significa que el modelo se ajusta más a los datos para evitar el sobreajuste. Por otro lado, el número máximo de iteraciones para que el algoritmo de optimización converja es suficiente para que se considere una solución óptima.\n",
        "\n",
        "Continuamos con el ajuste de hiperparámetros del modelo aplicando regularización L1:"
      ]
    },
    {
      "cell_type": "code",
      "execution_count": 78,
      "metadata": {
        "colab": {
          "base_uri": "https://localhost:8080/"
        },
        "id": "UkhpHdU011qe",
        "outputId": "5a583b34-b2f1-4e05-d96d-67a859740fa9"
      },
      "outputs": [
        {
          "name": "stdout",
          "output_type": "stream",
          "text": [
            "Modelo LogisticRegression con reg. Lasso y HPO\n",
            "Mejor puntuación: 0.7380816983705071\n",
            "Mejores parámetros: {'classifier__C': 10, 'classifier__max_iter': 100}\n",
            "Tiempo de ejecución: 3.1955206394195557 segundos\n",
            "\n"
          ]
        }
      ],
      "source": [
        "# Definimos el clasificador LogisticRegression\n",
        "logistic_Lasso_clf = LogisticRegression(random_state=100495702, penalty='l1', solver='liblinear')\n",
        "\n",
        "# Balanceamos los pesos\n",
        "logistic_Lasso_clf.set_params(class_weight=\"balanced\")\n",
        "\n",
        "pipeline = Pipeline(steps=[\n",
        "           (\"preprocessor\", preprocesador),\n",
        "           (\"classifier\", logistic_Lasso_clf)\n",
        "           ])\n",
        "\n",
        "param_grid = {\n",
        "    'classifier__C': [0.01, 0.1, 1, 10, 100],\n",
        "    'classifier__max_iter': [100, 200, 300]\n",
        "}\n",
        "\n",
        "grid_search = GridSearchCV(pipeline, param_grid, cv=3, n_jobs=-1, scoring='balanced_accuracy')\n",
        "\n",
        "# Medimos el tiempo del entrenamiento del modelo\n",
        "start_time = time.time()\n",
        "grid_search.fit(X_train, y_train)\n",
        "end_time = time.time()\n",
        "\n",
        "# Mostramos los resultados\n",
        "print(\"Modelo LogisticRegression con reg. Lasso y HPO\")\n",
        "print(\"Mejor puntuación:\", grid_search.best_score_)\n",
        "print(\"Mejores parámetros:\", grid_search.best_params_)\n",
        "print(\"Tiempo de ejecución:\", end_time - start_time, \"segundos\\n\")\n",
        "\n",
        "# Guardamos el modelo en el diccionario\n",
        "resultados[logistic_Lasso_clf.__class__.__name__+\"_Lasso_HPO\"] = {\n",
        "    \"modelo\": grid_search.best_estimator_,\n",
        "    \"puntuacion\": grid_search.best_score_,\n",
        "    \"tiempo_ejecucion\": end_time - start_time,\n",
        "    \"hiperparametros\": grid_search.best_params_\n",
        "}"
      ]
    },
    {
      "cell_type": "markdown",
      "metadata": {
        "id": "x24W974C11qf"
      },
      "source": [
        "El ajuste de hiperparámetros con y sin regularización Lasso resulta ser idéntico en ambos casos, lo cual tiene sentido ya que se trata del mismo clasificador. Sin embargo, este último modelo es más efectivo.\n",
        "\n",
        "A diferencia de lo obtenido anteriormente, esta vez la regularización Lasso ha resultado ser eficiente; se ha obtenido una puntuación mayor en el modelo lineal cuando se le aplica la regularización. Esto puede deberse a que, con los hiperparámetros obtenidos, sin dicha regularización, el modelo tiende al __sobreajuste de datos__ (overfitting); la regularización se encarga de reducirlo, lo que causa una mejor generalización del modelo."
      ]
    },
    {
      "cell_type": "markdown",
      "metadata": {
        "id": "ciWYyBzP11qf"
      },
      "source": [
        "### 5.2. Máquinas de Vectores de Soporte (SVMs)"
      ]
    },
    {
      "cell_type": "markdown",
      "metadata": {
        "id": "AWSm82ka11qf"
      },
      "source": [
        "Las máquinas de vectores de soporte son un tipo de modelos basados en funciones matemáticas utilizadas tanto para clasificación como para regresión; y establecen fronteras entre las distintas clases en el espacio de instancias.\n",
        "\n",
        "Para crear un modelo de esta tipología adaptado a nuestro problema, usaremos el objeto `SVC()` de la librería `sklearn.svm`:"
      ]
    },
    {
      "cell_type": "code",
      "execution_count": 79,
      "metadata": {
        "colab": {
          "base_uri": "https://localhost:8080/"
        },
        "id": "YFSwQ1dR11qf",
        "outputId": "60e04e58-eccc-4798-b6ce-b8a5dd76a10b"
      },
      "outputs": [
        {
          "name": "stdout",
          "output_type": "stream",
          "text": [
            "Modelo SVM\n",
            "Mejor puntuación: 0.8108993798524485\n",
            "Tiempo de ejecución: 0.6062092781066895 segundos\n",
            "\n"
          ]
        }
      ],
      "source": [
        "# Definimos el clasificador SVM\n",
        "svm_clf = SVC(random_state=100495702)\n",
        "\n",
        "# Balanceamos los pesos\n",
        "svm_clf.set_params(class_weight=\"balanced\")\n",
        "\n",
        "# Definimos el pipeline con el preprocesador y el clasificador\n",
        "pipeline = Pipeline(steps=[\n",
        "           (\"preprocessor\", preprocesador),\n",
        "           (\"classifier\", svm_clf)\n",
        "           ])\n",
        "\n",
        "# Medimos el tiempo del entrenamiento del modelo\n",
        "start_time = time.time()\n",
        "score = cross_val_score(pipeline, X_train, y_train, cv=3, scoring='balanced_accuracy').mean()\n",
        "end_time = time.time()\n",
        "\n",
        "# Mostramos los resultados\n",
        "print(\"Modelo SVM\")\n",
        "print(\"Mejor puntuación:\", score)\n",
        "print(\"Tiempo de ejecución:\", end_time - start_time, \"segundos\\n\")\n",
        "\n",
        "# Guardamos el modelo en el diccionario\n",
        "resultados[svm_clf.__class__.__name__] = {\n",
        "    \"modelo\": svm_clf,\n",
        "    \"puntuacion\": score,\n",
        "    \"tiempo_ejecucion\": end_time - start_time,\n",
        "    \"hiperparametros\": None\n",
        "}"
      ]
    },
    {
      "cell_type": "markdown",
      "metadata": {
        "id": "cG-6oPh311qg"
      },
      "source": [
        "A continuación, realizaremos el __ajuste de hiperparámetros__ del modelo basado en SVMs. Se ajustarán los siguientes hiperparámetros:\n",
        "\n",
        "- __Coste (_C_)__: controla el peso que se le da a la correcta clasificación de los datos de entrenamiento versus la maximización del margen; también permite controlar el sobreaprendizaje. Un valor alto de _C_ enfoca el modelo a la minimización de variables de holgura, mientras que un valor bajo hace que se le de relevancia al vector de pesos.\n",
        "- __Kernel__: es una función de similitud que permite determinar cuánto se parecen entre sí el vector de soporte con la instancia a clasificar. También define fronteras de decisión no lineales sin realizar explícitamente la transformación a un espacio de mayor dimensión."
      ]
    },
    {
      "cell_type": "code",
      "execution_count": 80,
      "metadata": {
        "colab": {
          "base_uri": "https://localhost:8080/"
        },
        "id": "L4LzmUDl11qg",
        "outputId": "093e1ea9-6443-4755-8d3b-fafc16d2ffcf"
      },
      "outputs": [
        {
          "name": "stdout",
          "output_type": "stream",
          "text": [
            "Modelo SVM con HPO\n",
            "Mejores parámetros: {'classifier__C': 10, 'classifier__kernel': 'rbf'}\n",
            "Mejor puntuación: 0.8257544219638082\n",
            "Tiempo de ejecución: 2.0541648864746094 segundos\n",
            "\n"
          ]
        }
      ],
      "source": [
        "# Definimos el clasificador SVM\n",
        "svm_clf = SVC(random_state=100495702)\n",
        "\n",
        "# Balanceamos los pesos\n",
        "svm_clf.set_params(class_weight=\"balanced\")\n",
        "\n",
        "# Definimos el pipeline con el preprocesador y el clasificador\n",
        "pipeline = Pipeline(steps=[\n",
        "           (\"preprocessor\", preprocesador),\n",
        "           (\"classifier\", svm_clf)\n",
        "           ])\n",
        "\n",
        "# Definimos la rejilla de hiperparámetros para el clasificador SVM\n",
        "param_grid = {\n",
        "    'classifier__C': [0.01, 0.1, 1, 10],\n",
        "    'classifier__kernel': ['rbf', 'poly']\n",
        "}\n",
        "\n",
        "# Hacemos búsqueda con rejilla para buscar los mejores hiperparámetros\n",
        "grid_search = GridSearchCV(pipeline, param_grid, cv=3, n_jobs=-1, scoring='balanced_accuracy')\n",
        "\n",
        "# Medimos el tiempo del entrenamiento del modelo\n",
        "start_time = time.time()\n",
        "grid_search.fit(X_train, y_train)\n",
        "end_time = time.time()\n",
        "\n",
        "# Mostramos los resultados\n",
        "print(\"Modelo SVM con HPO\")\n",
        "print(\"Mejores parámetros:\", grid_search.best_params_)\n",
        "print(\"Mejor puntuación:\", grid_search.best_score_)\n",
        "print(\"Tiempo de ejecución:\", end_time - start_time, \"segundos\\n\")\n",
        "\n",
        "# Guardamos el modelo en el diccionario\n",
        "resultados[svm_clf.__class__.__name__+\"_HPO\"] = {\n",
        "    \"modelo\": grid_search.best_estimator_,\n",
        "    \"puntuacion\": grid_search.best_score_,\n",
        "    \"tiempo_ejecucion\": end_time - start_time,\n",
        "    \"hiperparametros\": grid_search.best_params_\n",
        "}"
      ]
    },
    {
      "cell_type": "markdown",
      "metadata": {
        "id": "LlaF29xh11qg"
      },
      "source": [
        "En este modelo se establece el hiperparámetro _C_, que controla el balance entre el margen ancho y errores de clasificación, con un valor grande; lo que quiere decir que el modelo intenta clasificar todo bien, permitiendo menos errores en el entrenamiento (es decir, se le da más importancia a minimizar las variables de holgura). A su vez, el la función de _kernel_ utilizada para medir la similitud entre instancia y vector de soporte es el _kernel gaussiano_ (RBF), el cual se basa en la distancia euclídea entre ellos, usando una función exponencial con un parámetro que controla el radio de influencia."
      ]
    },
    {
      "cell_type": "markdown",
      "metadata": {
        "id": "ARyjn6Vn11qg"
      },
      "source": [
        "### 5.3. ¿Es posible extraer de alguna técnica qué atributos son más relevantes? ¿Cuáles son?"
      ]
    },
    {
      "cell_type": "markdown",
      "metadata": {},
      "source": [
        "La siguiente pregunta planteada en el enunciado de la práctica la comprobaremos gracias al modelo lineal que usa la regularización Lasso, con la que podemos controlar los parametros más importantes para el entrenamiento del modelo. Esto es porque, __usando un modelo lineal con regularización Lasso, los coeficientes que equivalgan a cero son indicativos de que las variables a las que se refieren sean irrelevantes__:"
      ]
    },
    {
      "cell_type": "code",
      "execution_count": 81,
      "metadata": {},
      "outputs": [
        {
          "data": {
            "text/html": [
              "<div>\n",
              "<style scoped>\n",
              "    .dataframe tbody tr th:only-of-type {\n",
              "        vertical-align: middle;\n",
              "    }\n",
              "\n",
              "    .dataframe tbody tr th {\n",
              "        vertical-align: top;\n",
              "    }\n",
              "\n",
              "    .dataframe thead th {\n",
              "        text-align: right;\n",
              "    }\n",
              "</style>\n",
              "<table border=\"1\" class=\"dataframe\">\n",
              "  <thead>\n",
              "    <tr style=\"text-align: right;\">\n",
              "      <th></th>\n",
              "      <th>Variable</th>\n",
              "      <th>Coeficiente</th>\n",
              "      <th>Relevante</th>\n",
              "    </tr>\n",
              "  </thead>\n",
              "  <tbody>\n",
              "    <tr>\n",
              "      <th>0</th>\n",
              "      <td>num__hrs</td>\n",
              "      <td>0.841339</td>\n",
              "      <td>True</td>\n",
              "    </tr>\n",
              "    <tr>\n",
              "      <th>1</th>\n",
              "      <td>num__absences</td>\n",
              "      <td>0.111071</td>\n",
              "      <td>True</td>\n",
              "    </tr>\n",
              "    <tr>\n",
              "      <th>2</th>\n",
              "      <td>num__JobInvolvement</td>\n",
              "      <td>-0.033013</td>\n",
              "      <td>True</td>\n",
              "    </tr>\n",
              "    <tr>\n",
              "      <th>3</th>\n",
              "      <td>num__PerformanceRating</td>\n",
              "      <td>0.103410</td>\n",
              "      <td>True</td>\n",
              "    </tr>\n",
              "    <tr>\n",
              "      <th>4</th>\n",
              "      <td>num__EnvironmentSatisfaction</td>\n",
              "      <td>-0.863338</td>\n",
              "      <td>True</td>\n",
              "    </tr>\n",
              "    <tr>\n",
              "      <th>5</th>\n",
              "      <td>num__JobSatisfaction</td>\n",
              "      <td>-0.698373</td>\n",
              "      <td>True</td>\n",
              "    </tr>\n",
              "    <tr>\n",
              "      <th>6</th>\n",
              "      <td>num__WorkLifeBalance</td>\n",
              "      <td>-0.254668</td>\n",
              "      <td>True</td>\n",
              "    </tr>\n",
              "    <tr>\n",
              "      <th>7</th>\n",
              "      <td>num__Age</td>\n",
              "      <td>-0.650514</td>\n",
              "      <td>True</td>\n",
              "    </tr>\n",
              "    <tr>\n",
              "      <th>8</th>\n",
              "      <td>num__DistanceFromHome</td>\n",
              "      <td>-0.348377</td>\n",
              "      <td>True</td>\n",
              "    </tr>\n",
              "    <tr>\n",
              "      <th>9</th>\n",
              "      <td>num__Education</td>\n",
              "      <td>0.006957</td>\n",
              "      <td>True</td>\n",
              "    </tr>\n",
              "    <tr>\n",
              "      <th>10</th>\n",
              "      <td>num__EmployeeCount</td>\n",
              "      <td>0.000000</td>\n",
              "      <td>False</td>\n",
              "    </tr>\n",
              "    <tr>\n",
              "      <th>11</th>\n",
              "      <td>num__EmployeeID</td>\n",
              "      <td>0.035785</td>\n",
              "      <td>True</td>\n",
              "    </tr>\n",
              "    <tr>\n",
              "      <th>12</th>\n",
              "      <td>num__JobLevel</td>\n",
              "      <td>-0.331611</td>\n",
              "      <td>True</td>\n",
              "    </tr>\n",
              "    <tr>\n",
              "      <th>13</th>\n",
              "      <td>num__MonthlyIncome</td>\n",
              "      <td>-0.202015</td>\n",
              "      <td>True</td>\n",
              "    </tr>\n",
              "    <tr>\n",
              "      <th>14</th>\n",
              "      <td>num__NumCompaniesWorked</td>\n",
              "      <td>0.531132</td>\n",
              "      <td>True</td>\n",
              "    </tr>\n",
              "    <tr>\n",
              "      <th>15</th>\n",
              "      <td>num__PercentSalaryHike</td>\n",
              "      <td>0.071645</td>\n",
              "      <td>True</td>\n",
              "    </tr>\n",
              "    <tr>\n",
              "      <th>16</th>\n",
              "      <td>num__StandardHours</td>\n",
              "      <td>0.000000</td>\n",
              "      <td>False</td>\n",
              "    </tr>\n",
              "    <tr>\n",
              "      <th>17</th>\n",
              "      <td>num__StockOptionLevel</td>\n",
              "      <td>0.044119</td>\n",
              "      <td>True</td>\n",
              "    </tr>\n",
              "    <tr>\n",
              "      <th>18</th>\n",
              "      <td>num__TotalWorkingYears</td>\n",
              "      <td>-0.772501</td>\n",
              "      <td>True</td>\n",
              "    </tr>\n",
              "    <tr>\n",
              "      <th>19</th>\n",
              "      <td>num__TrainingTimesLastYear</td>\n",
              "      <td>-0.224756</td>\n",
              "      <td>True</td>\n",
              "    </tr>\n",
              "    <tr>\n",
              "      <th>20</th>\n",
              "      <td>num__YearsAtCompany</td>\n",
              "      <td>0.363693</td>\n",
              "      <td>True</td>\n",
              "    </tr>\n",
              "    <tr>\n",
              "      <th>21</th>\n",
              "      <td>num__YearsSinceLastPromotion</td>\n",
              "      <td>0.350394</td>\n",
              "      <td>True</td>\n",
              "    </tr>\n",
              "    <tr>\n",
              "      <th>22</th>\n",
              "      <td>num__YearsWithCurrManager</td>\n",
              "      <td>-0.859044</td>\n",
              "      <td>True</td>\n",
              "    </tr>\n",
              "    <tr>\n",
              "      <th>23</th>\n",
              "      <td>cat__BusinessTravel_Non-Travel</td>\n",
              "      <td>-1.191536</td>\n",
              "      <td>True</td>\n",
              "    </tr>\n",
              "    <tr>\n",
              "      <th>24</th>\n",
              "      <td>cat__BusinessTravel_Travel_Frequently</td>\n",
              "      <td>0.493024</td>\n",
              "      <td>True</td>\n",
              "    </tr>\n",
              "    <tr>\n",
              "      <th>25</th>\n",
              "      <td>cat__BusinessTravel_Travel_Rarely</td>\n",
              "      <td>-0.335772</td>\n",
              "      <td>True</td>\n",
              "    </tr>\n",
              "    <tr>\n",
              "      <th>26</th>\n",
              "      <td>cat__Department_Human Resources</td>\n",
              "      <td>0.000000</td>\n",
              "      <td>False</td>\n",
              "    </tr>\n",
              "    <tr>\n",
              "      <th>27</th>\n",
              "      <td>cat__Department_Research &amp; Development</td>\n",
              "      <td>-0.055105</td>\n",
              "      <td>True</td>\n",
              "    </tr>\n",
              "    <tr>\n",
              "      <th>28</th>\n",
              "      <td>cat__Department_Sales</td>\n",
              "      <td>0.000000</td>\n",
              "      <td>False</td>\n",
              "    </tr>\n",
              "    <tr>\n",
              "      <th>29</th>\n",
              "      <td>cat__EducationField_Human Resources</td>\n",
              "      <td>1.319090</td>\n",
              "      <td>True</td>\n",
              "    </tr>\n",
              "    <tr>\n",
              "      <th>30</th>\n",
              "      <td>cat__EducationField_Life Sciences</td>\n",
              "      <td>0.054992</td>\n",
              "      <td>True</td>\n",
              "    </tr>\n",
              "    <tr>\n",
              "      <th>31</th>\n",
              "      <td>cat__EducationField_Marketing</td>\n",
              "      <td>-0.249952</td>\n",
              "      <td>True</td>\n",
              "    </tr>\n",
              "    <tr>\n",
              "      <th>32</th>\n",
              "      <td>cat__EducationField_Medical</td>\n",
              "      <td>0.000000</td>\n",
              "      <td>False</td>\n",
              "    </tr>\n",
              "    <tr>\n",
              "      <th>33</th>\n",
              "      <td>cat__EducationField_Other</td>\n",
              "      <td>-0.666522</td>\n",
              "      <td>True</td>\n",
              "    </tr>\n",
              "    <tr>\n",
              "      <th>34</th>\n",
              "      <td>cat__EducationField_Technical Degree</td>\n",
              "      <td>-0.379751</td>\n",
              "      <td>True</td>\n",
              "    </tr>\n",
              "    <tr>\n",
              "      <th>35</th>\n",
              "      <td>cat__Gender_Female</td>\n",
              "      <td>-0.008142</td>\n",
              "      <td>True</td>\n",
              "    </tr>\n",
              "    <tr>\n",
              "      <th>36</th>\n",
              "      <td>cat__Gender_Male</td>\n",
              "      <td>0.000000</td>\n",
              "      <td>False</td>\n",
              "    </tr>\n",
              "    <tr>\n",
              "      <th>37</th>\n",
              "      <td>cat__JobRole_Healthcare Representative</td>\n",
              "      <td>0.001421</td>\n",
              "      <td>True</td>\n",
              "    </tr>\n",
              "    <tr>\n",
              "      <th>38</th>\n",
              "      <td>cat__JobRole_Human Resources</td>\n",
              "      <td>-0.326150</td>\n",
              "      <td>True</td>\n",
              "    </tr>\n",
              "    <tr>\n",
              "      <th>39</th>\n",
              "      <td>cat__JobRole_Laboratory Technician</td>\n",
              "      <td>0.000000</td>\n",
              "      <td>False</td>\n",
              "    </tr>\n",
              "    <tr>\n",
              "      <th>40</th>\n",
              "      <td>cat__JobRole_Manager</td>\n",
              "      <td>-0.079773</td>\n",
              "      <td>True</td>\n",
              "    </tr>\n",
              "    <tr>\n",
              "      <th>41</th>\n",
              "      <td>cat__JobRole_Manufacturing Director</td>\n",
              "      <td>-0.605051</td>\n",
              "      <td>True</td>\n",
              "    </tr>\n",
              "    <tr>\n",
              "      <th>42</th>\n",
              "      <td>cat__JobRole_Research Director</td>\n",
              "      <td>0.601601</td>\n",
              "      <td>True</td>\n",
              "    </tr>\n",
              "    <tr>\n",
              "      <th>43</th>\n",
              "      <td>cat__JobRole_Research Scientist</td>\n",
              "      <td>-0.066212</td>\n",
              "      <td>True</td>\n",
              "    </tr>\n",
              "    <tr>\n",
              "      <th>44</th>\n",
              "      <td>cat__JobRole_Sales Executive</td>\n",
              "      <td>0.061963</td>\n",
              "      <td>True</td>\n",
              "    </tr>\n",
              "    <tr>\n",
              "      <th>45</th>\n",
              "      <td>cat__JobRole_Sales Representative</td>\n",
              "      <td>-0.121716</td>\n",
              "      <td>True</td>\n",
              "    </tr>\n",
              "    <tr>\n",
              "      <th>46</th>\n",
              "      <td>cat__MaritalStatus_Divorced</td>\n",
              "      <td>-0.869745</td>\n",
              "      <td>True</td>\n",
              "    </tr>\n",
              "    <tr>\n",
              "      <th>47</th>\n",
              "      <td>cat__MaritalStatus_Married</td>\n",
              "      <td>-0.450423</td>\n",
              "      <td>True</td>\n",
              "    </tr>\n",
              "    <tr>\n",
              "      <th>48</th>\n",
              "      <td>cat__MaritalStatus_Single</td>\n",
              "      <td>0.202873</td>\n",
              "      <td>True</td>\n",
              "    </tr>\n",
              "    <tr>\n",
              "      <th>49</th>\n",
              "      <td>cat__Over18_Y</td>\n",
              "      <td>-0.130276</td>\n",
              "      <td>True</td>\n",
              "    </tr>\n",
              "  </tbody>\n",
              "</table>\n",
              "</div>"
            ],
            "text/plain": [
              "                                  Variable  Coeficiente  Relevante\n",
              "0                                 num__hrs     0.841339       True\n",
              "1                            num__absences     0.111071       True\n",
              "2                      num__JobInvolvement    -0.033013       True\n",
              "3                   num__PerformanceRating     0.103410       True\n",
              "4             num__EnvironmentSatisfaction    -0.863338       True\n",
              "5                     num__JobSatisfaction    -0.698373       True\n",
              "6                     num__WorkLifeBalance    -0.254668       True\n",
              "7                                 num__Age    -0.650514       True\n",
              "8                    num__DistanceFromHome    -0.348377       True\n",
              "9                           num__Education     0.006957       True\n",
              "10                      num__EmployeeCount     0.000000      False\n",
              "11                         num__EmployeeID     0.035785       True\n",
              "12                           num__JobLevel    -0.331611       True\n",
              "13                      num__MonthlyIncome    -0.202015       True\n",
              "14                 num__NumCompaniesWorked     0.531132       True\n",
              "15                  num__PercentSalaryHike     0.071645       True\n",
              "16                      num__StandardHours     0.000000      False\n",
              "17                   num__StockOptionLevel     0.044119       True\n",
              "18                  num__TotalWorkingYears    -0.772501       True\n",
              "19              num__TrainingTimesLastYear    -0.224756       True\n",
              "20                     num__YearsAtCompany     0.363693       True\n",
              "21            num__YearsSinceLastPromotion     0.350394       True\n",
              "22               num__YearsWithCurrManager    -0.859044       True\n",
              "23          cat__BusinessTravel_Non-Travel    -1.191536       True\n",
              "24   cat__BusinessTravel_Travel_Frequently     0.493024       True\n",
              "25       cat__BusinessTravel_Travel_Rarely    -0.335772       True\n",
              "26         cat__Department_Human Resources     0.000000      False\n",
              "27  cat__Department_Research & Development    -0.055105       True\n",
              "28                   cat__Department_Sales     0.000000      False\n",
              "29     cat__EducationField_Human Resources     1.319090       True\n",
              "30       cat__EducationField_Life Sciences     0.054992       True\n",
              "31           cat__EducationField_Marketing    -0.249952       True\n",
              "32             cat__EducationField_Medical     0.000000      False\n",
              "33               cat__EducationField_Other    -0.666522       True\n",
              "34    cat__EducationField_Technical Degree    -0.379751       True\n",
              "35                      cat__Gender_Female    -0.008142       True\n",
              "36                        cat__Gender_Male     0.000000      False\n",
              "37  cat__JobRole_Healthcare Representative     0.001421       True\n",
              "38            cat__JobRole_Human Resources    -0.326150       True\n",
              "39      cat__JobRole_Laboratory Technician     0.000000      False\n",
              "40                    cat__JobRole_Manager    -0.079773       True\n",
              "41     cat__JobRole_Manufacturing Director    -0.605051       True\n",
              "42          cat__JobRole_Research Director     0.601601       True\n",
              "43         cat__JobRole_Research Scientist    -0.066212       True\n",
              "44            cat__JobRole_Sales Executive     0.061963       True\n",
              "45       cat__JobRole_Sales Representative    -0.121716       True\n",
              "46             cat__MaritalStatus_Divorced    -0.869745       True\n",
              "47              cat__MaritalStatus_Married    -0.450423       True\n",
              "48               cat__MaritalStatus_Single     0.202873       True\n",
              "49                           cat__Over18_Y    -0.130276       True"
            ]
          },
          "metadata": {},
          "output_type": "display_data"
        }
      ],
      "source": [
        "# Creamos el modelo Lasso\n",
        "modelo_lasso = LogisticRegression(random_state=100495702, penalty='l1', solver='liblinear')\n",
        "modelo_lasso.set_params(class_weight=\"balanced\", C=10, max_iter=100)\n",
        "\n",
        "# Creamos el pipeline\n",
        "pipeline = Pipeline(steps=[\n",
        "    (\"preprocessor\", preprocesador),\n",
        "    (\"classifier\", modelo_lasso)\n",
        "])\n",
        "\n",
        "# Entrenamos el modelo\n",
        "pipeline.fit(X_train, y_train)\n",
        "\n",
        "# Obtenemos el modelo entrenado\n",
        "modelo_entrenado = pipeline.named_steps[\"classifier\"]\n",
        "\n",
        "# Obtenemos los nombres de las features procesadas\n",
        "nombres_features = pipeline.named_steps[\"preprocessor\"].get_feature_names_out()\n",
        "\n",
        "# Obtenemos los coeficientes\n",
        "coeficientes = modelo_entrenado.coef_[0]\n",
        "\n",
        "# Creamos el DataFrame\n",
        "df_resultado = pd.DataFrame({\n",
        "    'Variable': nombres_features,\n",
        "    'Coeficiente': coeficientes\n",
        "})\n",
        "df_resultado['Relevante'] = df_resultado['Coeficiente'] != 0\n",
        "\n",
        "display(df_resultado)\n"
      ]
    },
    {
      "cell_type": "markdown",
      "metadata": {},
      "source": [
        "En la anterior salida podemos apreciar aquellas variables que resultan relevantes del dataset, simplemente con fijarnos en la última columna de todas que marcará mediante un booleano si la variable influye o no en el modelo lineal de clasificación.\n",
        "\n",
        "Sin embargo, sería mucho más útil obtener aquellas variables que son las más relevantes. En el siguiente gráfico mostraremos aquellas variables que se consideren relevantes y superen un coeficiente mínimo marcado en _0.5_:"
      ]
    },
    {
      "cell_type": "code",
      "execution_count": 82,
      "metadata": {},
      "outputs": [
        {
          "data": {
            "image/png": "[encoded data removed]",
            "text/plain": [
              "<Figure size 1000x600 with 1 Axes>"
            ]
          },
          "metadata": {},
          "output_type": "display_data"
        }
      ],
      "source": [
        "# Ordenamos el DataFrame por el coeficiente\n",
        "df_resultado = df_resultado.sort_values(by='Coeficiente', ascending=False)\n",
        "\n",
        "# Quitamos las variables irrelevantes\n",
        "df_resultado_relevante = df_resultado[df_resultado['Relevante'] == True]\n",
        "\n",
        "# Mostramos solo las variables relevantes mayores que 0,5 y menores que -0,5\n",
        "df_resultado_relevante = df_resultado_relevante[(df_resultado_relevante['Coeficiente'] > 0.5) | (df_resultado_relevante['Coeficiente'] < -0.5)]\n",
        "\n",
        "# Creamos el gráfico\n",
        "plt.figure(figsize=(10, 6))\n",
        "plt.barh(df_resultado_relevante['Variable'], df_resultado_relevante['Coeficiente'], color='steelblue')\n",
        "plt.xlabel('Coeficiente', labelpad=50)\n",
        "plt.title('Coeficientes de las variables relevantes')\n",
        "plt.axvline(0, color='red', linestyle='--')\n",
        "plt.grid(axis='x', linestyle='--', alpha=0.7)\n",
        "plt.tight_layout()\n",
        "plt.show()\n"
      ]
    },
    {
      "cell_type": "markdown",
      "metadata": {},
      "source": [
        "Gracias a este estudio podemos comprobar qué variables del dataset influyen más."
      ]
    },
    {
      "cell_type": "markdown",
      "metadata": {
        "id": "FTUKJ-eQ11qg"
      },
      "source": [
        "## 6. Comparación de resultados y evaluación del modelo de entrenamiento"
      ]
    },
    {
      "cell_type": "markdown",
      "metadata": {
        "id": "syloLZLq11qg"
      },
      "source": [
        "Una vez hemos probado todos los modelos vamos a ponerlos en conjunto, comparar sus resultados y vamos a sacar conclusiones sobre cuál es el mejor clasificador e hiperparámetros a utilizar. Posteriormente, con los mejores resultados obtenidos, crearemos el modelo a partir de la partición de entrenamiento, y mediante _cross validation_ __obtendremos una estimación pesimista del rendimiento a futuro del modelo usando la partición del test__. Por último, entrenaremos el modelo con todo el dataset completo (entrenamiento + test) y lo usaremos para obtener predicciones de un conjunto de datos de competición en el siguiente Jupyter Notebook."
      ]
    },
    {
      "cell_type": "markdown",
      "metadata": {
        "id": "L2S2uXqK11qg"
      },
      "source": [
        "### 6.1. Comparación de resultados"
      ]
    },
    {
      "cell_type": "markdown",
      "metadata": {
        "id": "ttc7q5Le11qh"
      },
      "source": [
        "A continuación, añadimos un fragmento de código que imprime lo que se ha ido almacenando en el diccionario de resultados conforme añadíamos los modelos creados y evaluados para obtener el clasificador y combinación de hiperparámetros que mejor generalizaba la partición de entrenamiento."
      ]
    },
    {
      "cell_type": "code",
      "execution_count": 83,
      "metadata": {
        "colab": {
          "base_uri": "https://localhost:8080/"
        },
        "id": "MRgeFwCJ11qh",
        "outputId": "f8735d6e-1e21-408d-dc36-26b2d827c893"
      },
      "outputs": [
        {
          "name": "stdout",
          "output_type": "stream",
          "text": [
            "Resultados de los modelos:\n",
            "\n",
            "Modelo: KNeighborsClassifier\n",
            "Puntuación: 0.6089429107479649\n",
            "Tiempo de ejecución: 0.28842997550964355 segundos\n",
            "\n",
            "Modelo: DecisionTreeClassifier\n",
            "Puntuación: 0.7513219652208821\n",
            "Tiempo de ejecución: 0.29679346084594727 segundos\n",
            "\n",
            "Modelo: KNeighborsClassifier_HPO\n",
            "Puntuación: 0.6636557299012172\n",
            "Tiempo de ejecución: 1.9588546752929688 segundos\n",
            "Hiperparámetros: {'classifier__metric': 'manhattan', 'classifier__n_neighbors': 3}\n",
            "\n",
            "Modelo: DecisionTreeClassifier_HPO\n",
            "Puntuación: 0.7970763510474702\n",
            "Tiempo de ejecución: 2.8194353580474854 segundos\n",
            "Hiperparámetros: {'classifier__criterion': 'entropy', 'classifier__max_depth': 10, 'classifier__min_samples_split': 10}\n",
            "\n",
            "Modelo: DummyClassifier\n",
            "Puntuación: 0.5\n",
            "Tiempo de ejecución: 0.04213142395019531 segundos\n",
            "\n",
            "Modelo: LogisticRegression\n",
            "Puntuación: 0.7354956696111931\n",
            "Tiempo de ejecución: 0.24277019500732422 segundos\n",
            "\n",
            "Modelo: LogisticRegression_Lasso\n",
            "Puntuación: 0.7365780286357904\n",
            "Tiempo de ejecución: 0.18940424919128418 segundos\n",
            "\n",
            "Modelo: LogisticRegression_HPO\n",
            "Puntuación: 0.7400676685875242\n",
            "Tiempo de ejecución: 0.9250760078430176 segundos\n",
            "Hiperparámetros: {'classifier__C': 0.1, 'classifier__max_iter': 100}\n",
            "\n",
            "Modelo: LogisticRegression_Lasso_HPO\n",
            "Puntuación: 0.7380816983705071\n",
            "Tiempo de ejecución: 3.1955206394195557 segundos\n",
            "Hiperparámetros: {'classifier__C': 10, 'classifier__max_iter': 100}\n",
            "\n",
            "Modelo: SVC\n",
            "Puntuación: 0.8108993798524485\n",
            "Tiempo de ejecución: 0.6062092781066895 segundos\n",
            "\n",
            "Modelo: SVC_HPO\n",
            "Puntuación: 0.8257544219638082\n",
            "Tiempo de ejecución: 2.0541648864746094 segundos\n",
            "Hiperparámetros: {'classifier__C': 10, 'classifier__kernel': 'rbf'}\n",
            "\n"
          ]
        }
      ],
      "source": [
        "print(\"Resultados de los modelos:\\n\")\n",
        "for nombre, resultado in resultados.items():\n",
        "    print(f\"Modelo: {nombre}\")\n",
        "    print(f\"Puntuación: {resultado['puntuacion']}\")\n",
        "    print(f\"Tiempo de ejecución: {resultado['tiempo_ejecucion']} segundos\")\n",
        "    if resultado['hiperparametros']:\n",
        "        print(f\"Hiperparámetros: {resultado['hiperparametros']}\")\n",
        "    print()"
      ]
    },
    {
      "cell_type": "markdown",
      "metadata": {
        "id": "Idmk4X9Z11qh"
      },
      "source": [
        "Para ver esto mejor, usaremos un `DataFrame()` de la librería Pandas:"
      ]
    },
    {
      "cell_type": "code",
      "execution_count": 84,
      "metadata": {
        "colab": {
          "base_uri": "https://localhost:8080/",
          "height": 394
        },
        "id": "MZqjJ8My11qh",
        "outputId": "60ae8719-dda4-4982-ae64-aa54926ae3db"
      },
      "outputs": [
        {
          "data": {
            "text/html": [
              "<div>\n",
              "<style scoped>\n",
              "    .dataframe tbody tr th:only-of-type {\n",
              "        vertical-align: middle;\n",
              "    }\n",
              "\n",
              "    .dataframe tbody tr th {\n",
              "        vertical-align: top;\n",
              "    }\n",
              "\n",
              "    .dataframe thead th {\n",
              "        text-align: right;\n",
              "    }\n",
              "</style>\n",
              "<table border=\"1\" class=\"dataframe\">\n",
              "  <thead>\n",
              "    <tr style=\"text-align: right;\">\n",
              "      <th></th>\n",
              "      <th>puntuacion</th>\n",
              "      <th>tiempo_ejecucion</th>\n",
              "      <th>hiperparametros</th>\n",
              "    </tr>\n",
              "  </thead>\n",
              "  <tbody>\n",
              "    <tr>\n",
              "      <th>DummyClassifier</th>\n",
              "      <td>0.5</td>\n",
              "      <td>0.042131</td>\n",
              "      <td>None</td>\n",
              "    </tr>\n",
              "    <tr>\n",
              "      <th>KNeighborsClassifier</th>\n",
              "      <td>0.608943</td>\n",
              "      <td>0.28843</td>\n",
              "      <td>None</td>\n",
              "    </tr>\n",
              "    <tr>\n",
              "      <th>KNeighborsClassifier_HPO</th>\n",
              "      <td>0.663656</td>\n",
              "      <td>1.958855</td>\n",
              "      <td>{'classifier__metric': 'manhattan', 'classifier__n_neighbors': 3}</td>\n",
              "    </tr>\n",
              "    <tr>\n",
              "      <th>LogisticRegression</th>\n",
              "      <td>0.735496</td>\n",
              "      <td>0.24277</td>\n",
              "      <td>None</td>\n",
              "    </tr>\n",
              "    <tr>\n",
              "      <th>LogisticRegression_Lasso</th>\n",
              "      <td>0.736578</td>\n",
              "      <td>0.189404</td>\n",
              "      <td>None</td>\n",
              "    </tr>\n",
              "    <tr>\n",
              "      <th>LogisticRegression_Lasso_HPO</th>\n",
              "      <td>0.738082</td>\n",
              "      <td>3.195521</td>\n",
              "      <td>{'classifier__C': 10, 'classifier__max_iter': 100}</td>\n",
              "    </tr>\n",
              "    <tr>\n",
              "      <th>LogisticRegression_HPO</th>\n",
              "      <td>0.740068</td>\n",
              "      <td>0.925076</td>\n",
              "      <td>{'classifier__C': 0.1, 'classifier__max_iter': 100}</td>\n",
              "    </tr>\n",
              "    <tr>\n",
              "      <th>DecisionTreeClassifier</th>\n",
              "      <td>0.751322</td>\n",
              "      <td>0.296793</td>\n",
              "      <td>None</td>\n",
              "    </tr>\n",
              "    <tr>\n",
              "      <th>DecisionTreeClassifier_HPO</th>\n",
              "      <td>0.797076</td>\n",
              "      <td>2.819435</td>\n",
              "      <td>{'classifier__criterion': 'entropy', 'classifier__max_depth': 10, 'classifier__min_samples_split': 10}</td>\n",
              "    </tr>\n",
              "    <tr>\n",
              "      <th>SVC</th>\n",
              "      <td>0.810899</td>\n",
              "      <td>0.606209</td>\n",
              "      <td>None</td>\n",
              "    </tr>\n",
              "    <tr>\n",
              "      <th>SVC_HPO</th>\n",
              "      <td>0.825754</td>\n",
              "      <td>2.054165</td>\n",
              "      <td>{'classifier__C': 10, 'classifier__kernel': 'rbf'}</td>\n",
              "    </tr>\n",
              "  </tbody>\n",
              "</table>\n",
              "</div>"
            ],
            "text/plain": [
              "                             puntuacion tiempo_ejecucion  \\\n",
              "DummyClassifier                     0.5         0.042131   \n",
              "KNeighborsClassifier           0.608943          0.28843   \n",
              "KNeighborsClassifier_HPO       0.663656         1.958855   \n",
              "LogisticRegression             0.735496          0.24277   \n",
              "LogisticRegression_Lasso       0.736578         0.189404   \n",
              "LogisticRegression_Lasso_HPO   0.738082         3.195521   \n",
              "LogisticRegression_HPO         0.740068         0.925076   \n",
              "DecisionTreeClassifier         0.751322         0.296793   \n",
              "DecisionTreeClassifier_HPO     0.797076         2.819435   \n",
              "SVC                            0.810899         0.606209   \n",
              "SVC_HPO                        0.825754         2.054165   \n",
              "\n",
              "                                                                                                                     hiperparametros  \n",
              "DummyClassifier                                                                                                                 None  \n",
              "KNeighborsClassifier                                                                                                            None  \n",
              "KNeighborsClassifier_HPO                                           {'classifier__metric': 'manhattan', 'classifier__n_neighbors': 3}  \n",
              "LogisticRegression                                                                                                              None  \n",
              "LogisticRegression_Lasso                                                                                                        None  \n",
              "LogisticRegression_Lasso_HPO                                                      {'classifier__C': 10, 'classifier__max_iter': 100}  \n",
              "LogisticRegression_HPO                                                           {'classifier__C': 0.1, 'classifier__max_iter': 100}  \n",
              "DecisionTreeClassifier                                                                                                          None  \n",
              "DecisionTreeClassifier_HPO    {'classifier__criterion': 'entropy', 'classifier__max_depth': 10, 'classifier__min_samples_split': 10}  \n",
              "SVC                                                                                                                             None  \n",
              "SVC_HPO                                                                           {'classifier__C': 10, 'classifier__kernel': 'rbf'}  "
            ]
          },
          "metadata": {},
          "output_type": "display_data"
        }
      ],
      "source": [
        "from IPython.display import display\n",
        "\n",
        "# Configuramos pandas para mostrar todas las columnas\n",
        "pd.set_option('display.max_colwidth', None)\n",
        "\n",
        "# Convertimos el diccionario en un DataFrame\n",
        "results_df = pd.DataFrame(resultados)\n",
        "\n",
        "# Trasponemos el DataFrame para una mejor visualización, eliminamos la instancia del modelo\n",
        "results_df = results_df.T.drop(columns=[\"modelo\"])\n",
        "\n",
        "results_df = results_df.sort_values(by=\"puntuacion\", ascending=True)\n",
        "\n",
        "# Mostramos la tabla\n",
        "display(results_df)"
      ]
    },
    {
      "cell_type": "markdown",
      "metadata": {
        "id": "eTG_cOl711qh"
      },
      "source": [
        "Además, mostraremos un gráfico de dispersión (_scatter plot_) donde se mide el `score` y el tiempo de ejecución en cada modelo de una manera mucho más visual. Usaremos la librería `matplotlib` de nuevo:"
      ]
    },
    {
      "cell_type": "code",
      "execution_count": 85,
      "metadata": {
        "colab": {
          "base_uri": "https://localhost:8080/",
          "height": 565
        },
        "id": "J1Orz48e11qi",
        "outputId": "2b317396-5399-472d-ec5e-2b0ea08e83a7"
      },
      "outputs": [
        {
          "data": {
            "image/png": "[encoded data removed]",
            "text/plain": [
              "<Figure size 800x600 with 1 Axes>"
            ]
          },
          "metadata": {},
          "output_type": "display_data"
        }
      ],
      "source": [
        "# Listamos los modelos de clasificación\n",
        "modelos = list(resultados.keys())\n",
        "\n",
        "# Extraemos puntuaciones y tiempos de ejecución para cada modelo\n",
        "accuracies = [resultados[modelo][\"puntuacion\"] for modelo in modelos]\n",
        "tiempos = [resultados[modelo][\"tiempo_ejecucion\"] for modelo in modelos]\n",
        "\n",
        "# Creamos el gráfico de dispersión\n",
        "plt.figure(figsize=(8, 6))\n",
        "plt.scatter(tiempos, accuracies, color='springgreen', alpha=0.7)\n",
        "plt.title('Puntuación vs Tiempo de Ejecución')\n",
        "plt.xlabel('Tiempo de Ejecución (segundos)')\n",
        "plt.ylabel('Puntuación (Accuracy)')\n",
        "plt.grid(True)\n",
        "\n",
        "# Ajustamos la posición de las etiquetas de los puntos\n",
        "for i, modelo in enumerate(modelos):\n",
        "    plt.text(tiempos[i], accuracies[i], modelo, fontsize=9, ha='center', va='bottom')\n",
        "\n",
        "# Mostramos el gráfico\n",
        "plt.show()"
      ]
    },
    {
      "cell_type": "markdown",
      "metadata": {
        "id": "rJwJ1WPY11qi"
      },
      "source": [
        "Como podemos comprobar, el mejor clasificador obtenido es __SVM con ajuste de hiperparámetros__:"
      ]
    },
    {
      "cell_type": "code",
      "execution_count": 86,
      "metadata": {
        "colab": {
          "base_uri": "https://localhost:8080/"
        },
        "id": "JNPVcrWe11qi",
        "outputId": "c2e3ab56-07b2-4d3d-83ee-d1f65fec0a11"
      },
      "outputs": [
        {
          "name": "stdout",
          "output_type": "stream",
          "text": [
            "El mejor modelo es: SVC_HPO con una puntuación de 0.8257544219638082 y tiempo de ejecución 2.0541648864746094.\n"
          ]
        }
      ],
      "source": [
        "mejor_puntuacion = 0\n",
        "mejor_modelo = None\n",
        "tiempo_ejecucion = None\n",
        "# Iteramos sobre los resultados para encontrar el mejor modelo\n",
        "for nombre, resultado in resultados.items():\n",
        "    if resultado['puntuacion'] > mejor_puntuacion:\n",
        "        mejor_puntuacion = resultado['puntuacion']\n",
        "        mejor_modelo = nombre\n",
        "        tiempo_ejecucion = resultado['tiempo_ejecucion']\n",
        "\n",
        "print(f\"El mejor modelo es: {mejor_modelo} con una puntuación de {mejor_puntuacion} y tiempo de ejecución {tiempo_ejecucion}.\")"
      ]
    },
    {
      "cell_type": "markdown",
      "metadata": {
        "id": "NxjRxlWo11qj"
      },
      "source": [
        "### 6.2. Estimación del rendimiento a futuro del modelo final"
      ]
    },
    {
      "cell_type": "markdown",
      "metadata": {
        "id": "C-F0kbbk11qj"
      },
      "source": [
        "A continuación, nos disponemos a realizar la evaluación _outer_ del modelo de clasificación elegido anteriormente. Para ello, llamaremos a la función `predict()` para evaluar el modelo con la partición de test.\n",
        "\n",
        "También mediremos los __valores de TPR y TNR__ del modelo en las predicciones, para así especificar qué precisión tiene el modelo sobre cada clase. Para ello, llamaremos a la función `confusion_matrix()`, con la que mediremos estas métricas y realizaremos cálculos sencillos para obtener estos resultados:"
      ]
    },
    {
      "cell_type": "code",
      "execution_count": 87,
      "metadata": {
        "colab": {
          "base_uri": "https://localhost:8080/"
        },
        "id": "JaRDDWN111qj",
        "outputId": "0ea627d6-4f11-413e-e216-daa49c58d678"
      },
      "outputs": [
        {
          "name": "stdout",
          "output_type": "stream",
          "text": [
            "Score de la evaluación outer (conjunto de test): 0.9204081632653062\n",
            "TPR (Recall): 0.7062146892655368\n",
            "TNR: 0.9676214196762142\n",
            "Precision Positiva: 0.8278145695364238\n",
            "Precision Negativa: 0.9372738238841978\n"
          ]
        }
      ],
      "source": [
        "from sklearn.metrics import accuracy_score\n",
        "from sklearn.metrics import confusion_matrix\n",
        "\n",
        "# Importamos el mejor clasificador\n",
        "mejor_clasificador = SVC(random_state=100495702)\n",
        "\n",
        "# Balanceamos los pesos\n",
        "mejor_clasificador.set_params(class_weight=\"balanced\")\n",
        "\n",
        "# Establecemos los hiperparámetros óptimos del clasificador SVM\n",
        "mejor_clasificador.set_params(C=10, kernel='rbf')\n",
        "\n",
        "# Creamos la pipeline con el preprocesador y el clasificador\n",
        "pipeline = Pipeline(steps=[\n",
        "           (\"preprocessor\", preprocesador),\n",
        "           (\"classifier\", mejor_clasificador)\n",
        "           ])\n",
        "\n",
        "# Entrenamos el modelo con el conjunto de entrenamiento\n",
        "pipeline.fit(X_train, y_train)\n",
        "\n",
        "# Realizamos la predicción en el conjunto de test\n",
        "score_test = pipeline.predict(X_test)\n",
        "print(f\"Score de la evaluación outer (conjunto de test): {accuracy_score(y_test, score_test)}\")\n",
        "\n",
        "# Calculamos la matriz de confusión y algunas métricas\n",
        "tn, fp, fn, tp = confusion_matrix(y_test, score_test).ravel()\n",
        "tpr = tp / (tp + fn)\n",
        "tnr = tn / (tn + fp)\n",
        "precision_pos = tp / (tp + fp)\n",
        "precision_neg = tn / (tn + fn)\n",
        "print(\"TPR (Recall):\", tpr)\n",
        "print(\"TNR:\", tnr)\n",
        "print(\"Precision Positiva:\", precision_pos)\n",
        "print(\"Precision Negativa:\", precision_neg)"
      ]
    },
    {
      "cell_type": "markdown",
      "metadata": {},
      "source": [
        "El resultado de la tasa de aciertos obtenida con el conjunto de evaluación es del __92,0481632653062%__. Esto nos hace ver que el modelo obtenido es eficiente, y rinde bastante bien.\n",
        "\n",
        "Por otro lado, obtenemos los siguientes resultados a partir de la matriz de confusión:\n",
        "\n",
        "- El __70,62%__ de las verdaderas clases positivas fueron correctamente identificadas (recall).\n",
        "- El __96,76%__ de las verdaderas clases negativas fueron correcyamente identificadas. Esto quiere decir que el modelo casi nunca confunde una instancia negativa con una positiva.\n",
        "\n",
        "En otras palabras, __el modelo es muy bueno identificando valores negativos, pero es menos sensible a los valores positivos__.\n",
        "\n",
        "Finalmente, obtenemos los valores de precisión del modelo para las diferentes clases:\n",
        "\n",
        "- El __82,78%__ de los valores que se clasificaron como positivos realmente lo son.\n",
        "- El __93,72%__ de los valores que se clasificaron como negativos realmente lo son.\n",
        "\n",
        "Esto nos da una estimación del rendimiento a futuro del modelo, y podemos concluir lo mismo que antes; el modelo se centra más en clasificar correctamente las instancias de la clase negativa."
      ]
    },
    {
      "cell_type": "markdown",
      "metadata": {
        "id": "LW8jVtIC11qj"
      },
      "source": [
        "### 6.3. Entrenamiento del modelo final"
      ]
    },
    {
      "cell_type": "markdown",
      "metadata": {
        "id": "Gv4l8NK611qj"
      },
      "source": [
        "Finalmente, se entrena el modelo final con el dataset completo (train + test), y se extrae al fichero [modelo_final_11.pkl](modelo_final_11.pkl) para su importación en el siguiente Jupyter Notebook."
      ]
    },
    {
      "cell_type": "code",
      "execution_count": 88,
      "metadata": {
        "colab": {
          "base_uri": "https://localhost:8080/"
        },
        "id": "ZaatyfNZ11qj",
        "outputId": "f5917a3b-4cbe-4253-c701-9223eb7bb917"
      },
      "outputs": [
        {
          "name": "stdout",
          "output_type": "stream",
          "text": [
            "Modelo final entrenado con todos los datos.\n"
          ]
        }
      ],
      "source": [
        "import joblib\n",
        "X_final = pd.concat([X_train, X_test])\n",
        "y_final = pd.concat([y_train, y_test])\n",
        "\n",
        "\n",
        "pipeline.fit(X_final, y_final)\n",
        "joblib.dump(pipeline, \"modelo_final_11.pkl\")\n",
        "\n",
        "print(\"Modelo final entrenado con todos los datos.\")"
      ]
    },
    {
      "cell_type": "markdown",
      "metadata": {
        "id": "QtQBYRFI11qk"
      },
      "source": [
        "### 6.4. Obtención de predicciones (Notebook 2)"
      ]
    },
    {
      "cell_type": "markdown",
      "metadata": {
        "id": "2CCJAVRl11qk"
      },
      "source": [
        "Este apartado es el que realizaremos en el segundo notebook de la práctica, llamado [02_Prediccion_11.ipynb](02_Prediccion_11.ipynb)."
      ]
    },
    {
      "cell_type": "markdown",
      "metadata": {
        "id": "d4FBvtRP11qk"
      },
      "source": [
        "## 7. Tarea de elección abierta"
      ]
    },
    {
      "cell_type": "markdown",
      "metadata": {
        "id": "RyQK6n6D11qk"
      },
      "source": [
        "Como tarea de elección abierta, propuesto en el enunciado de la práctica, hemos decidido la evaluación de un modelo de __clasificación RandomForest__ de la misma manera que se han hecho los anteriores. Elegimos este clasificador con el objetivo de tener un modelo más con el que comparar los árboles y knn, y buscando aprender un poco más de su funcionamiento."
      ]
    },
    {
      "cell_type": "markdown",
      "metadata": {
        "id": "imbSOw2z11qk"
      },
      "source": [
        "### 7.1. Uso de RandomForest como clasificador"
      ]
    },
    {
      "cell_type": "markdown",
      "metadata": {
        "id": "h50OgGsg11qk"
      },
      "source": [
        "Para la creación de esta tarea, debemos importar la librería `RandomForestClassifier`:"
      ]
    },
    {
      "cell_type": "code",
      "execution_count": 89,
      "metadata": {
        "id": "qqrZP_V811qk"
      },
      "outputs": [],
      "source": [
        "from sklearn.ensemble import RandomForestClassifier"
      ]
    },
    {
      "cell_type": "markdown",
      "metadata": {},
      "source": [
        "Almacenaremos los resultados de los modelos a comparar en el siguiente diccionario:"
      ]
    },
    {
      "cell_type": "code",
      "execution_count": 90,
      "metadata": {
        "id": "72dctwAT11qk"
      },
      "outputs": [],
      "source": [
        "# Creamos un diccionario para almacenar los resultados de los modelos\n",
        "resultados_extra = {}"
      ]
    },
    {
      "cell_type": "markdown",
      "metadata": {
        "id": "ahAW7cA711ql"
      },
      "source": [
        "Una vez hecho esto, la tarea se centrará en la comparación de los tiempos de ejecución y scores obtenidos de los modelos simples (KNN y Árboles de Decisión) con éste:"
      ]
    },
    {
      "cell_type": "code",
      "execution_count": 91,
      "metadata": {
        "colab": {
          "base_uri": "https://localhost:8080/"
        },
        "id": "esjVJhVd11ql",
        "outputId": "847779c8-fec2-42d3-8c0b-ba99ca131f80"
      },
      "outputs": [
        {
          "name": "stdout",
          "output_type": "stream",
          "text": [
            "Modelo KNeighborsClassifier\n",
            "Puntuación de validación cruzada: 0.6089429107479649\n",
            "Tiempo de ejecución: 0.19483304023742676 segundos\n",
            "\n",
            "Modelo DecisionTreeClassifier\n",
            "Puntuación de validación cruzada: 0.7513219652208821\n",
            "Tiempo de ejecución: 0.35257697105407715 segundos\n",
            "\n",
            "Modelo RandomForestClassifier\n",
            "Puntuación de validación cruzada: 0.7323232323232324\n",
            "Tiempo de ejecución: 1.773733139038086 segundos\n",
            "\n"
          ]
        }
      ],
      "source": [
        "# Definimos los clasificadores\n",
        "clasificadores_extra = [KNeighborsClassifier(), DecisionTreeClassifier(random_state=100495702), RandomForestClassifier(random_state=100495702)]\n",
        "\n",
        "# Iteramos sobre los clasificadores\n",
        "for clasificador in clasificadores_extra:\n",
        "\n",
        "    # Configuramos el clasificador para que use pesos balanceados cuando pueda\n",
        "    if isinstance(clasificador, DecisionTreeClassifier):\n",
        "           clasificador.set_params(class_weight=\"balanced\")\n",
        "    elif isinstance(clasificador, RandomForestClassifier):\n",
        "           clasificador.set_params(class_weight=\"balanced\")\n",
        "\n",
        "    # Pipeline completo con clasificador\n",
        "    pipeline = Pipeline(steps=[\n",
        "           (\"preprocessor\", preprocesador),\n",
        "           (\"classifier\", clasificador)\n",
        "           ])\n",
        "\n",
        "    # Medimos el tiempo de entrenamiento del modelo\n",
        "    start_time = time.time()\n",
        "    scores = cross_val_score(pipeline, X_train, y_train, cv=3, scoring='balanced_accuracy')\n",
        "    end_time = time.time()\n",
        "\n",
        "    # Imprimimos los resultados\n",
        "    print(\"Modelo\", clasificador.__class__.__name__)\n",
        "    print(\"Puntuación de validación cruzada:\", scores.mean())\n",
        "    print(\"Tiempo de ejecución:\", end_time - start_time, \"segundos\\n\")\n",
        "\n",
        "    # Almacenamos los resultados en el diccionario\n",
        "    resultados_extra[clasificador.__class__.__name__] = {\n",
        "       \"modelo\": clasificador,\n",
        "       \"puntuacion\": scores.mean(),\n",
        "       \"tiempo_ejecucion\": end_time - start_time,\n",
        "       \"hiperparametros\": None\n",
        "       }\n"
      ]
    },
    {
      "cell_type": "markdown",
      "metadata": {
        "id": "UqakFnA511ql"
      },
      "source": [
        "De la misma manera, realizamos el proceso con el ajuste de hiperparámetros (HPO) para cada modelo:"
      ]
    },
    {
      "cell_type": "code",
      "execution_count": 92,
      "metadata": {
        "colab": {
          "base_uri": "https://localhost:8080/"
        },
        "id": "0Jfx_Z2z11ql",
        "outputId": "cd74041e-230b-46d7-d86d-ec40402bc153"
      },
      "outputs": [
        {
          "name": "stdout",
          "output_type": "stream",
          "text": [
            "Modelo KNeighborsClassifier con HPO\n",
            "Mejores parámetros: {'classifier__metric': 'manhattan', 'classifier__n_neighbors': 3}\n",
            "Mejor puntuación: 0.6636557299012172\n",
            "Tiempo de ejecución: 1.3632574081420898 segundos\n",
            "\n",
            "Modelo DecisionTreeClassifier con HPO\n",
            "Mejores parámetros: {'classifier__criterion': 'entropy', 'classifier__max_depth': 10, 'classifier__min_samples_split': 10}\n",
            "Mejor puntuación: 0.7970763510474702\n",
            "Tiempo de ejecución: 1.9752020835876465 segundos\n",
            "\n",
            "Modelo RandomForestClassifier con HPO\n",
            "Mejores parámetros: {'classifier__criterion': 'entropy', 'classifier__max_depth': 5, 'classifier__min_samples_split': 5}\n",
            "Mejor puntuación: 0.7771722658004245\n",
            "Tiempo de ejecución: 15.748819351196289 segundos\n",
            "\n"
          ]
        }
      ],
      "source": [
        "for clasificador in clasificadores_extra:\n",
        "\n",
        "    # Definimos una pipeline con el preprocesador y el clasificador\n",
        "    pipeline = Pipeline(steps=[\n",
        "           (\"preprocessor\", preprocesador),\n",
        "           (\"classifier\", clasificador)\n",
        "           ])\n",
        "\n",
        "    # Definimos la rejilla de hiperparámetros para cada clasificador\n",
        "    if isinstance(clasificador, KNeighborsClassifier):\n",
        "            param_grid = {\n",
        "                'classifier__n_neighbors': [3, 5, 7, 9, 11],\n",
        "                'classifier__metric': ['euclidean', 'manhattan', 'minkowski']\n",
        "            }\n",
        "    elif isinstance(clasificador, DecisionTreeClassifier):\n",
        "            # Configuramos el clasificador para que use pesos balanceados si es un árbol de decisión\n",
        "            clasificador.set_params(class_weight=\"balanced\")\n",
        "            param_grid = {\n",
        "                'classifier__max_depth': [5, 10, 15, None],\n",
        "                'classifier__min_samples_split': [2, 5, 10],\n",
        "                'classifier__criterion': ['gini', 'entropy'],\n",
        "            }\n",
        "    elif isinstance(clasificador, RandomForestClassifier):\n",
        "            # Configuramos el clasificador para que use pesos balanceados si es un RandomForestClassifier\n",
        "            clasificador.set_params(class_weight=\"balanced\")\n",
        "            param_grid = {\n",
        "                'classifier__max_depth': [5, 10, 15, None],\n",
        "                'classifier__min_samples_split': [2, 5, 10],\n",
        "                'classifier__criterion': ['gini', 'entropy'],\n",
        "            }\n",
        "\n",
        "    # Entrenamos el modelo con GridSearchCV para encontrar los mejores hiperparámetros\n",
        "    grid_search = GridSearchCV(pipeline, param_grid, cv=3, n_jobs=-1, scoring='balanced_accuracy')\n",
        "\n",
        "    # Medimos el tiempo del entrenamiento del modelo\n",
        "    start_time = time.time()\n",
        "    grid_search.fit(X_train, y_train)\n",
        "    end_time = time.time()\n",
        "\n",
        "    # Mostrar los mejores hiperparámetros\n",
        "    print(\"Modelo\", clasificador.__class__.__name__, \"con HPO\")\n",
        "    print(\"Mejores parámetros:\", grid_search.best_params_)\n",
        "    print(\"Mejor puntuación:\", grid_search.best_score_)\n",
        "    print(\"Tiempo de ejecución:\", end_time - start_time, \"segundos\\n\")\n",
        "\n",
        "    # Guardamos el mejor modelo en la instancia del diccionario con HPO\n",
        "    resultados_extra[clasificador.__class__.__name__+\"_HPO\"] = {\n",
        "        \"modelo\": clasificador,\n",
        "        \"puntuacion\": grid_search.best_score_,\n",
        "        \"tiempo_ejecucion\": end_time - start_time,\n",
        "        \"hiperparametros\": grid_search.best_params_\n",
        "    }"
      ]
    },
    {
      "cell_type": "markdown",
      "metadata": {
        "id": "1G_VKaue11qm"
      },
      "source": [
        "### 7.2. Evaluación de resultados"
      ]
    },
    {
      "cell_type": "markdown",
      "metadata": {
        "id": "o8q3kfPv11qm"
      },
      "source": [
        "Podemos observar que los valores de los mejores hiperparámetros para KNN y árboles de decisión se mantiene igual que en apartados anteriores. No obstante, la puntuación y tiempo de ejecución obtenidos para el clasificador `RandomForest()` no mejoran los resultados.\n",
        "\n",
        "A continuación, se muestra un plot que resumirá la tarea:"
      ]
    },
    {
      "cell_type": "code",
      "execution_count": 93,
      "metadata": {
        "colab": {
          "base_uri": "https://localhost:8080/",
          "height": 479
        },
        "id": "y29wqpom11qm",
        "outputId": "6968d0dd-7625-475e-9130-706b88230bc0"
      },
      "outputs": [
        {
          "data": {
            "image/png": "[encoded data removed]",
            "text/plain": [
              "<Figure size 1200x500 with 2 Axes>"
            ]
          },
          "metadata": {},
          "output_type": "display_data"
        }
      ],
      "source": [
        "# Listamos los modelos creados\n",
        "modelos = list(resultados_extra.keys())\n",
        "\n",
        "# Extraemos las puntuaciones y tiempos de ejecución de cada modelo\n",
        "accuracies = [resultados_extra[modelo][\"puntuacion\"] for modelo in modelos]\n",
        "tiempos = [resultados_extra[modelo][\"tiempo_ejecucion\"] for modelo in modelos]\n",
        "\n",
        "# Creamos dos plots: uno para la accuracy y otro para el tiempo de ejecución\n",
        "fig, axes = plt.subplots(1, 2, figsize=(12, 5))\n",
        "\n",
        "# Plot de scores (accuracies)\n",
        "axes[0].bar(modelos, accuracies, color='turquoise')\n",
        "axes[0].set_title('Accuracy por modelo')\n",
        "axes[0].set_ylabel('Accuracy')\n",
        "axes[0].set_ylim(0, 1)\n",
        "\n",
        "# Plot de tiempo de ejecución\n",
        "axes[1].bar(modelos, tiempos, color='indigo')\n",
        "axes[1].set_title('Tiempo de ejecución por modelo')\n",
        "axes[1].set_ylabel('Tiempo (segundos)')\n",
        "\n",
        "# Ajustamos las etiquetas de los modelos\n",
        "for ax in axes:\n",
        "    ax.set_xticks(range(len(modelos)))\n",
        "    ax.set_xticklabels(ax.get_xticklabels(), rotation=45, ha='right')\n",
        "\n",
        "# Mostramos los plots\n",
        "plt.tight_layout()\n",
        "plt.show()"
      ]
    },
    {
      "cell_type": "markdown",
      "metadata": {
        "id": "mtiMZobD11qm"
      },
      "source": [
        "Como podemos observar, la tarea ha resultado ser ineficiente, ya que el modelo de clasificación RandomForest no mejora a los modelos de clasificación simple (y mucho menos mejorará al mejor modelo elegido). Por lo tanto, nuestra tarea adicional acaba aquí."
      ]
    },
    {
      "cell_type": "code",
      "execution_count": 94,
      "metadata": {
        "colab": {
          "base_uri": "https://localhost:8080/"
        },
        "id": "boAUJ_h_11qm",
        "outputId": "15323759-5a20-40d6-f2e6-6f6950fc46cf"
      },
      "outputs": [
        {
          "name": "stdout",
          "output_type": "stream",
          "text": [
            "Resultados de los modelos:\n",
            "\n",
            "Modelo: KNeighborsClassifier\n",
            "Puntuación: 0.6089429107479649\n",
            "Tiempo de ejecución: 0.19483304023742676 segundos\n",
            "\n",
            "Modelo: DecisionTreeClassifier\n",
            "Puntuación: 0.7513219652208821\n",
            "Tiempo de ejecución: 0.35257697105407715 segundos\n",
            "\n",
            "Modelo: RandomForestClassifier\n",
            "Puntuación: 0.7323232323232324\n",
            "Tiempo de ejecución: 1.773733139038086 segundos\n",
            "\n",
            "Modelo: KNeighborsClassifier_HPO\n",
            "Puntuación: 0.6636557299012172\n",
            "Tiempo de ejecución: 1.3632574081420898 segundos\n",
            "Hiperparámetros: {'classifier__metric': 'manhattan', 'classifier__n_neighbors': 3}\n",
            "\n",
            "Modelo: DecisionTreeClassifier_HPO\n",
            "Puntuación: 0.7970763510474702\n",
            "Tiempo de ejecución: 1.9752020835876465 segundos\n",
            "Hiperparámetros: {'classifier__criterion': 'entropy', 'classifier__max_depth': 10, 'classifier__min_samples_split': 10}\n",
            "\n",
            "Modelo: RandomForestClassifier_HPO\n",
            "Puntuación: 0.7771722658004245\n",
            "Tiempo de ejecución: 15.748819351196289 segundos\n",
            "Hiperparámetros: {'classifier__criterion': 'entropy', 'classifier__max_depth': 5, 'classifier__min_samples_split': 5}\n",
            "\n"
          ]
        }
      ],
      "source": [
        "print(\"Resultados de los modelos:\\n\")\n",
        "for nombre, resultado in resultados_extra.items():\n",
        "    print(f\"Modelo: {nombre}\")\n",
        "    print(f\"Puntuación: {resultado['puntuacion']}\")\n",
        "    print(f\"Tiempo de ejecución: {resultado['tiempo_ejecucion']} segundos\")\n",
        "    if resultado['hiperparametros']:\n",
        "        print(f\"Hiperparámetros: {resultado['hiperparametros']}\")\n",
        "    print()"
      ]
    },
    {
      "cell_type": "markdown",
      "metadata": {},
      "source": [
        "## 8. Conclusiones"
      ]
    },
    {
      "cell_type": "markdown",
      "metadata": {},
      "source": [
        "### 8.1. Declaración de uso de IA"
      ]
    },
    {
      "cell_type": "markdown",
      "metadata": {},
      "source": [
        "El uso de IA (principalmente __ChatGPT__ y __GitHub Copilot__) ha sido especialmente útil en ciertos aspectos del proyecto. Los casos donde se ha utilizado son los siguientes:\n",
        "\n",
        "- Ayuda inicial sobre lenguaje Markdown y sintaxis.\n",
        "- Depuración de errores de código relacionado con la librería `sklearn`.\n",
        "- Creación de gráficos, plots y tablas acerca de los resultados; y ajuste de escalas para mostrar los resultados de manera clara.\n",
        "\n",
        "Sin embargo, la [referencia de la API sklearn](https://scikit-learn.org/stable/api/index.html) ha resultado ser una guía espléndida para la realización de éste proyecto."
      ]
    },
    {
      "cell_type": "markdown",
      "metadata": {},
      "source": [
        "### 8.2. Valoración del trabajo realizado y conclusiones"
      ]
    },
    {
      "cell_type": "markdown",
      "metadata": {},
      "source": [
        "Los resultados obtenidos son gratificantes, y creemos que el trabajo realizado se ajusta a lo pedido por el enunciado de la práctica. Podemos concluir con que el trabajo ha sido efectivo, correcto e inspirador de cara a nuestros conocimientos sobre la asignatura.\n",
        "\n",
        "Gracias al trabajo realizado hemos conseguido comprender de otra manera cómo funciona el aprendizaje automático de una manera menos teórica; y gracias a ello nos hemos podido preparar para el examen parcial de la asignatura a la vez que trabajábamos para la práctica."
      ]
    }
  ],
  "metadata": {
    "colab": {
      "include_colab_link": true,
      "provenance": []
    },
    "kernelspec": {
      "display_name": "venv",
      "language": "python",
      "name": "python3"
    },
    "language_info": {
      "codemirror_mode": {
        "name": "ipython",
        "version": 3
      },
      "file_extension": ".py",
      "mimetype": "text/x-python",
      "name": "python",
      "nbconvert_exporter": "python",
      "pygments_lexer": "ipython3",
      "version": "3.10.7"
    }
  },
  "nbformat": 4,
  "nbformat_minor": 0
}

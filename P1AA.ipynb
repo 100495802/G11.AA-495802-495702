{
  "nbformat": 4,
  "nbformat_minor": 0,
  "metadata": {
    "colab": {
      "provenance": [],
      "toc_visible": true,
      "include_colab_link": true
    },
    "kernelspec": {
      "name": "python3",
      "display_name": "Python 3"
    },
    "language_info": {
      "name": "python"
    }
  },
  "cells": [
    {
      "cell_type": "markdown",
      "metadata": {
        "id": "view-in-github",
        "colab_type": "text"
      },
      "source": [
        "<a href=\"https://colab.research.google.com/github/100495802/G11.AA-495802-495702/blob/main/P1AA.ipynb\" target=\"_parent\"><img src=\"https://colab.research.google.com/assets/colab-badge.svg\" alt=\"Open In Colab\"/></a>"
      ]
    },
    {
      "cell_type": "markdown",
      "source": [
        "Este notebook contiene toda la parte de análisis y examinación de los datos, y se centra en la comprensión y resumen de éstos. En este notebook encontraremos todo el proceso de creacion del EDA, ajuste de hiperparámetros, selección del modelo, y resolución de las preguntas establecidas en el enunciado de la práctica."
      ],
      "metadata": {
        "id": "KkvWftzzAVYR"
      }
    },
    {
      "cell_type": "markdown",
      "source": [
        "# 1. Github y Carga de Datos"
      ],
      "metadata": {
        "id": "Iof2Swmq_WM9"
      }
    },
    {
      "cell_type": "markdown",
      "source": [
        "Primeramente, nos disponemos a realizar el [repositorio de Github](https://github.com/100495802/G11.AA-495802-495702.git) correspondiente al proyecto, el cual se puede consultar clickando en el enlace.\n",
        "\n",
        "Seguidamente, cargamos los datos elegidos según el estándar especificado para la práctica (suma de los dos últimos dígitos del NIA de un alumno: _100495702 -> 0+2=2_)."
      ],
      "metadata": {
        "id": "KO5XhOGfBxYZ"
      }
    },
    {
      "cell_type": "markdown",
      "source": [
        "## 1.1. Carga de datos"
      ],
      "metadata": {
        "id": "NmRpozGyBMlm"
      }
    },
    {
      "cell_type": "code",
      "execution_count": 4,
      "metadata": {
        "id": "SWvqYujY3lYu"
      },
      "outputs": [],
      "source": [
        "import pandas as pd\n",
        "datos = pd.read_csv(\"attrition_availabledata_02.csv.gz\", compression=\"gzip\", sep=\",\")"
      ]
    },
    {
      "cell_type": "markdown",
      "source": [
        "# 2. EDA Simplificado"
      ],
      "metadata": {
        "id": "0LYoIph_A4hU"
      }
    },
    {
      "cell_type": "markdown",
      "source": [
        "En esta sección vamos a comentar la descripción de los distintos datos que hay en nuestra base de datos. Diferenciaremos que variable son categóricas, ordinales o numéricas; cuáles tienen alta cardinalidad, cuáles tienen valores faltantes; si hay columnas de ID; y si es un problema de regresión o de evaluación."
      ],
      "metadata": {
        "id": "43xv2WeM6CnM"
      }
    },
    {
      "cell_type": "markdown",
      "source": [
        "Mediante el atributo info() vamos a obtener los tipos de datos que hay en nuestra base de datos y asi poder evaluar los datos."
      ],
      "metadata": {
        "id": "guK0vwFVBv9z"
      }
    },
    {
      "cell_type": "code",
      "source": [
        "datos.info()"
      ],
      "metadata": {
        "colab": {
          "base_uri": "https://localhost:8080/"
        },
        "id": "zGsKcVKh78gf",
        "outputId": "5526e3df-6f37-480b-b7be-df46e646d5a1"
      },
      "execution_count": 5,
      "outputs": [
        {
          "output_type": "stream",
          "name": "stdout",
          "text": [
            "<class 'pandas.core.frame.DataFrame'>\n",
            "RangeIndex: 2940 entries, 0 to 2939\n",
            "Data columns (total 31 columns):\n",
            " #   Column                   Non-Null Count  Dtype  \n",
            "---  ------                   --------------  -----  \n",
            " 0   hrs                      2940 non-null   float64\n",
            " 1   absences                 2940 non-null   int64  \n",
            " 2   JobInvolvement           2940 non-null   int64  \n",
            " 3   PerformanceRating        2940 non-null   int64  \n",
            " 4   EnvironmentSatisfaction  2927 non-null   float64\n",
            " 5   JobSatisfaction          2925 non-null   float64\n",
            " 6   WorkLifeBalance          2911 non-null   float64\n",
            " 7   Age                      2940 non-null   int64  \n",
            " 8   BusinessTravel           2940 non-null   object \n",
            " 9   Department               2940 non-null   object \n",
            " 10  DistanceFromHome         2940 non-null   int64  \n",
            " 11  Education                2940 non-null   int64  \n",
            " 12  EducationField           2940 non-null   object \n",
            " 13  EmployeeCount            2940 non-null   int64  \n",
            " 14  EmployeeID               2940 non-null   int64  \n",
            " 15  Gender                   2940 non-null   object \n",
            " 16  JobLevel                 2940 non-null   int64  \n",
            " 17  JobRole                  2940 non-null   object \n",
            " 18  MaritalStatus            2940 non-null   object \n",
            " 19  MonthlyIncome            2940 non-null   int64  \n",
            " 20  NumCompaniesWorked       2926 non-null   float64\n",
            " 21  Over18                   2940 non-null   object \n",
            " 22  PercentSalaryHike        2940 non-null   int64  \n",
            " 23  StandardHours            2940 non-null   int64  \n",
            " 24  StockOptionLevel         2940 non-null   int64  \n",
            " 25  TotalWorkingYears        2935 non-null   float64\n",
            " 26  TrainingTimesLastYear    2940 non-null   int64  \n",
            " 27  YearsAtCompany           2940 non-null   int64  \n",
            " 28  YearsSinceLastPromotion  2940 non-null   int64  \n",
            " 29  YearsWithCurrManager     2940 non-null   int64  \n",
            " 30  Attrition                2940 non-null   object \n",
            "dtypes: float64(6), int64(17), object(8)\n",
            "memory usage: 712.2+ KB\n"
          ]
        }
      ]
    },
    {
      "cell_type": "code",
      "source": [
        "datos.describe()"
      ],
      "metadata": {
        "colab": {
          "base_uri": "https://localhost:8080/",
          "height": 349
        },
        "id": "bj5Iv-POWqDw",
        "outputId": "e482dcdf-5de1-4fd0-a151-a11bf4c0a8fa"
      },
      "execution_count": 6,
      "outputs": [
        {
          "output_type": "execute_result",
          "data": {
            "text/plain": [
              "               hrs     absences  JobInvolvement  PerformanceRating  \\\n",
              "count  2940.000000  2940.000000     2940.000000        2940.000000   \n",
              "mean      7.322768    12.706803        2.728571           3.154422   \n",
              "std       1.335600     5.533199        0.716167           0.361414   \n",
              "min       5.416880     1.000000        1.000000           3.000000   \n",
              "25%       6.272786     8.000000        2.000000           3.000000   \n",
              "50%       7.032627    13.000000        3.000000           3.000000   \n",
              "75%       7.948416    17.000000        3.000000           3.000000   \n",
              "max      10.937261    24.000000        4.000000           4.000000   \n",
              "\n",
              "       EnvironmentSatisfaction  JobSatisfaction  WorkLifeBalance          Age  \\\n",
              "count              2927.000000      2925.000000      2911.000000  2940.000000   \n",
              "mean                  2.723266         2.746325         2.760907    36.861224   \n",
              "std                   1.096170         1.104612         0.713539     9.286733   \n",
              "min                   1.000000         1.000000         1.000000    18.000000   \n",
              "25%                   2.000000         2.000000         2.000000    30.000000   \n",
              "50%                   3.000000         3.000000         3.000000    35.000000   \n",
              "75%                   4.000000         4.000000         3.000000    43.000000   \n",
              "max                   4.000000         4.000000         4.000000    60.000000   \n",
              "\n",
              "       DistanceFromHome    Education  ...  MonthlyIncome  NumCompaniesWorked  \\\n",
              "count       2940.000000  2940.000000  ...    2940.000000         2926.000000   \n",
              "mean           9.305102     2.906463  ...   64379.826531            2.664388   \n",
              "std            8.201638     1.023254  ...   47021.197990            2.495153   \n",
              "min            1.000000     1.000000  ...   10090.000000            0.000000   \n",
              "25%            2.000000     2.000000  ...   28750.000000            1.000000   \n",
              "50%            7.000000     3.000000  ...   48340.000000            2.000000   \n",
              "75%           14.000000     4.000000  ...   80080.000000            4.000000   \n",
              "max           29.000000     5.000000  ...  199990.000000            9.000000   \n",
              "\n",
              "       PercentSalaryHike  StandardHours  StockOptionLevel  TotalWorkingYears  \\\n",
              "count        2940.000000         2940.0       2940.000000        2935.000000   \n",
              "mean           15.187075            8.0          0.785034          11.363884   \n",
              "std             3.661275            0.0          0.851343           7.897032   \n",
              "min            11.000000            8.0          0.000000           0.000000   \n",
              "25%            12.000000            8.0          0.000000           6.000000   \n",
              "50%            14.000000            8.0          1.000000          10.000000   \n",
              "75%            18.000000            8.0          1.000000          16.000000   \n",
              "max            25.000000            8.0          3.000000          40.000000   \n",
              "\n",
              "       TrainingTimesLastYear  YearsAtCompany  YearsSinceLastPromotion  \\\n",
              "count            2940.000000     2940.000000              2940.000000   \n",
              "mean                2.798639        7.095578                 2.227891   \n",
              "std                 1.304166        6.161878                 3.274101   \n",
              "min                 0.000000        0.000000                 0.000000   \n",
              "25%                 2.000000        3.000000                 0.000000   \n",
              "50%                 3.000000        5.000000                 1.000000   \n",
              "75%                 3.000000       10.000000                 3.000000   \n",
              "max                 6.000000       40.000000                15.000000   \n",
              "\n",
              "       YearsWithCurrManager  \n",
              "count           2940.000000  \n",
              "mean               4.191156  \n",
              "std                3.627734  \n",
              "min                0.000000  \n",
              "25%                2.000000  \n",
              "50%                3.000000  \n",
              "75%                7.000000  \n",
              "max               17.000000  \n",
              "\n",
              "[8 rows x 23 columns]"
            ],
            "text/html": [
              "\n",
              "  <div id=\"df-4696332d-55b5-4044-b342-087560c53ae9\" class=\"colab-df-container\">\n",
              "    <div>\n",
              "<style scoped>\n",
              "    .dataframe tbody tr th:only-of-type {\n",
              "        vertical-align: middle;\n",
              "    }\n",
              "\n",
              "    .dataframe tbody tr th {\n",
              "        vertical-align: top;\n",
              "    }\n",
              "\n",
              "    .dataframe thead th {\n",
              "        text-align: right;\n",
              "    }\n",
              "</style>\n",
              "<table border=\"1\" class=\"dataframe\">\n",
              "  <thead>\n",
              "    <tr style=\"text-align: right;\">\n",
              "      <th></th>\n",
              "      <th>hrs</th>\n",
              "      <th>absences</th>\n",
              "      <th>JobInvolvement</th>\n",
              "      <th>PerformanceRating</th>\n",
              "      <th>EnvironmentSatisfaction</th>\n",
              "      <th>JobSatisfaction</th>\n",
              "      <th>WorkLifeBalance</th>\n",
              "      <th>Age</th>\n",
              "      <th>DistanceFromHome</th>\n",
              "      <th>Education</th>\n",
              "      <th>...</th>\n",
              "      <th>MonthlyIncome</th>\n",
              "      <th>NumCompaniesWorked</th>\n",
              "      <th>PercentSalaryHike</th>\n",
              "      <th>StandardHours</th>\n",
              "      <th>StockOptionLevel</th>\n",
              "      <th>TotalWorkingYears</th>\n",
              "      <th>TrainingTimesLastYear</th>\n",
              "      <th>YearsAtCompany</th>\n",
              "      <th>YearsSinceLastPromotion</th>\n",
              "      <th>YearsWithCurrManager</th>\n",
              "    </tr>\n",
              "  </thead>\n",
              "  <tbody>\n",
              "    <tr>\n",
              "      <th>count</th>\n",
              "      <td>2940.000000</td>\n",
              "      <td>2940.000000</td>\n",
              "      <td>2940.000000</td>\n",
              "      <td>2940.000000</td>\n",
              "      <td>2927.000000</td>\n",
              "      <td>2925.000000</td>\n",
              "      <td>2911.000000</td>\n",
              "      <td>2940.000000</td>\n",
              "      <td>2940.000000</td>\n",
              "      <td>2940.000000</td>\n",
              "      <td>...</td>\n",
              "      <td>2940.000000</td>\n",
              "      <td>2926.000000</td>\n",
              "      <td>2940.000000</td>\n",
              "      <td>2940.0</td>\n",
              "      <td>2940.000000</td>\n",
              "      <td>2935.000000</td>\n",
              "      <td>2940.000000</td>\n",
              "      <td>2940.000000</td>\n",
              "      <td>2940.000000</td>\n",
              "      <td>2940.000000</td>\n",
              "    </tr>\n",
              "    <tr>\n",
              "      <th>mean</th>\n",
              "      <td>7.322768</td>\n",
              "      <td>12.706803</td>\n",
              "      <td>2.728571</td>\n",
              "      <td>3.154422</td>\n",
              "      <td>2.723266</td>\n",
              "      <td>2.746325</td>\n",
              "      <td>2.760907</td>\n",
              "      <td>36.861224</td>\n",
              "      <td>9.305102</td>\n",
              "      <td>2.906463</td>\n",
              "      <td>...</td>\n",
              "      <td>64379.826531</td>\n",
              "      <td>2.664388</td>\n",
              "      <td>15.187075</td>\n",
              "      <td>8.0</td>\n",
              "      <td>0.785034</td>\n",
              "      <td>11.363884</td>\n",
              "      <td>2.798639</td>\n",
              "      <td>7.095578</td>\n",
              "      <td>2.227891</td>\n",
              "      <td>4.191156</td>\n",
              "    </tr>\n",
              "    <tr>\n",
              "      <th>std</th>\n",
              "      <td>1.335600</td>\n",
              "      <td>5.533199</td>\n",
              "      <td>0.716167</td>\n",
              "      <td>0.361414</td>\n",
              "      <td>1.096170</td>\n",
              "      <td>1.104612</td>\n",
              "      <td>0.713539</td>\n",
              "      <td>9.286733</td>\n",
              "      <td>8.201638</td>\n",
              "      <td>1.023254</td>\n",
              "      <td>...</td>\n",
              "      <td>47021.197990</td>\n",
              "      <td>2.495153</td>\n",
              "      <td>3.661275</td>\n",
              "      <td>0.0</td>\n",
              "      <td>0.851343</td>\n",
              "      <td>7.897032</td>\n",
              "      <td>1.304166</td>\n",
              "      <td>6.161878</td>\n",
              "      <td>3.274101</td>\n",
              "      <td>3.627734</td>\n",
              "    </tr>\n",
              "    <tr>\n",
              "      <th>min</th>\n",
              "      <td>5.416880</td>\n",
              "      <td>1.000000</td>\n",
              "      <td>1.000000</td>\n",
              "      <td>3.000000</td>\n",
              "      <td>1.000000</td>\n",
              "      <td>1.000000</td>\n",
              "      <td>1.000000</td>\n",
              "      <td>18.000000</td>\n",
              "      <td>1.000000</td>\n",
              "      <td>1.000000</td>\n",
              "      <td>...</td>\n",
              "      <td>10090.000000</td>\n",
              "      <td>0.000000</td>\n",
              "      <td>11.000000</td>\n",
              "      <td>8.0</td>\n",
              "      <td>0.000000</td>\n",
              "      <td>0.000000</td>\n",
              "      <td>0.000000</td>\n",
              "      <td>0.000000</td>\n",
              "      <td>0.000000</td>\n",
              "      <td>0.000000</td>\n",
              "    </tr>\n",
              "    <tr>\n",
              "      <th>25%</th>\n",
              "      <td>6.272786</td>\n",
              "      <td>8.000000</td>\n",
              "      <td>2.000000</td>\n",
              "      <td>3.000000</td>\n",
              "      <td>2.000000</td>\n",
              "      <td>2.000000</td>\n",
              "      <td>2.000000</td>\n",
              "      <td>30.000000</td>\n",
              "      <td>2.000000</td>\n",
              "      <td>2.000000</td>\n",
              "      <td>...</td>\n",
              "      <td>28750.000000</td>\n",
              "      <td>1.000000</td>\n",
              "      <td>12.000000</td>\n",
              "      <td>8.0</td>\n",
              "      <td>0.000000</td>\n",
              "      <td>6.000000</td>\n",
              "      <td>2.000000</td>\n",
              "      <td>3.000000</td>\n",
              "      <td>0.000000</td>\n",
              "      <td>2.000000</td>\n",
              "    </tr>\n",
              "    <tr>\n",
              "      <th>50%</th>\n",
              "      <td>7.032627</td>\n",
              "      <td>13.000000</td>\n",
              "      <td>3.000000</td>\n",
              "      <td>3.000000</td>\n",
              "      <td>3.000000</td>\n",
              "      <td>3.000000</td>\n",
              "      <td>3.000000</td>\n",
              "      <td>35.000000</td>\n",
              "      <td>7.000000</td>\n",
              "      <td>3.000000</td>\n",
              "      <td>...</td>\n",
              "      <td>48340.000000</td>\n",
              "      <td>2.000000</td>\n",
              "      <td>14.000000</td>\n",
              "      <td>8.0</td>\n",
              "      <td>1.000000</td>\n",
              "      <td>10.000000</td>\n",
              "      <td>3.000000</td>\n",
              "      <td>5.000000</td>\n",
              "      <td>1.000000</td>\n",
              "      <td>3.000000</td>\n",
              "    </tr>\n",
              "    <tr>\n",
              "      <th>75%</th>\n",
              "      <td>7.948416</td>\n",
              "      <td>17.000000</td>\n",
              "      <td>3.000000</td>\n",
              "      <td>3.000000</td>\n",
              "      <td>4.000000</td>\n",
              "      <td>4.000000</td>\n",
              "      <td>3.000000</td>\n",
              "      <td>43.000000</td>\n",
              "      <td>14.000000</td>\n",
              "      <td>4.000000</td>\n",
              "      <td>...</td>\n",
              "      <td>80080.000000</td>\n",
              "      <td>4.000000</td>\n",
              "      <td>18.000000</td>\n",
              "      <td>8.0</td>\n",
              "      <td>1.000000</td>\n",
              "      <td>16.000000</td>\n",
              "      <td>3.000000</td>\n",
              "      <td>10.000000</td>\n",
              "      <td>3.000000</td>\n",
              "      <td>7.000000</td>\n",
              "    </tr>\n",
              "    <tr>\n",
              "      <th>max</th>\n",
              "      <td>10.937261</td>\n",
              "      <td>24.000000</td>\n",
              "      <td>4.000000</td>\n",
              "      <td>4.000000</td>\n",
              "      <td>4.000000</td>\n",
              "      <td>4.000000</td>\n",
              "      <td>4.000000</td>\n",
              "      <td>60.000000</td>\n",
              "      <td>29.000000</td>\n",
              "      <td>5.000000</td>\n",
              "      <td>...</td>\n",
              "      <td>199990.000000</td>\n",
              "      <td>9.000000</td>\n",
              "      <td>25.000000</td>\n",
              "      <td>8.0</td>\n",
              "      <td>3.000000</td>\n",
              "      <td>40.000000</td>\n",
              "      <td>6.000000</td>\n",
              "      <td>40.000000</td>\n",
              "      <td>15.000000</td>\n",
              "      <td>17.000000</td>\n",
              "    </tr>\n",
              "  </tbody>\n",
              "</table>\n",
              "<p>8 rows × 23 columns</p>\n",
              "</div>\n",
              "    <div class=\"colab-df-buttons\">\n",
              "\n",
              "  <div class=\"colab-df-container\">\n",
              "    <button class=\"colab-df-convert\" onclick=\"convertToInteractive('df-4696332d-55b5-4044-b342-087560c53ae9')\"\n",
              "            title=\"Convert this dataframe to an interactive table.\"\n",
              "            style=\"display:none;\">\n",
              "\n",
              "  <svg xmlns=\"http://www.w3.org/2000/svg\" height=\"24px\" viewBox=\"0 -960 960 960\">\n",
              "    <path d=\"M120-120v-720h720v720H120Zm60-500h600v-160H180v160Zm220 220h160v-160H400v160Zm0 220h160v-160H400v160ZM180-400h160v-160H180v160Zm440 0h160v-160H620v160ZM180-180h160v-160H180v160Zm440 0h160v-160H620v160Z\"/>\n",
              "  </svg>\n",
              "    </button>\n",
              "\n",
              "  <style>\n",
              "    .colab-df-container {\n",
              "      display:flex;\n",
              "      gap: 12px;\n",
              "    }\n",
              "\n",
              "    .colab-df-convert {\n",
              "      background-color: #E8F0FE;\n",
              "      border: none;\n",
              "      border-radius: 50%;\n",
              "      cursor: pointer;\n",
              "      display: none;\n",
              "      fill: #1967D2;\n",
              "      height: 32px;\n",
              "      padding: 0 0 0 0;\n",
              "      width: 32px;\n",
              "    }\n",
              "\n",
              "    .colab-df-convert:hover {\n",
              "      background-color: #E2EBFA;\n",
              "      box-shadow: 0px 1px 2px rgba(60, 64, 67, 0.3), 0px 1px 3px 1px rgba(60, 64, 67, 0.15);\n",
              "      fill: #174EA6;\n",
              "    }\n",
              "\n",
              "    .colab-df-buttons div {\n",
              "      margin-bottom: 4px;\n",
              "    }\n",
              "\n",
              "    [theme=dark] .colab-df-convert {\n",
              "      background-color: #3B4455;\n",
              "      fill: #D2E3FC;\n",
              "    }\n",
              "\n",
              "    [theme=dark] .colab-df-convert:hover {\n",
              "      background-color: #434B5C;\n",
              "      box-shadow: 0px 1px 3px 1px rgba(0, 0, 0, 0.15);\n",
              "      filter: drop-shadow(0px 1px 2px rgba(0, 0, 0, 0.3));\n",
              "      fill: #FFFFFF;\n",
              "    }\n",
              "  </style>\n",
              "\n",
              "    <script>\n",
              "      const buttonEl =\n",
              "        document.querySelector('#df-4696332d-55b5-4044-b342-087560c53ae9 button.colab-df-convert');\n",
              "      buttonEl.style.display =\n",
              "        google.colab.kernel.accessAllowed ? 'block' : 'none';\n",
              "\n",
              "      async function convertToInteractive(key) {\n",
              "        const element = document.querySelector('#df-4696332d-55b5-4044-b342-087560c53ae9');\n",
              "        const dataTable =\n",
              "          await google.colab.kernel.invokeFunction('convertToInteractive',\n",
              "                                                    [key], {});\n",
              "        if (!dataTable) return;\n",
              "\n",
              "        const docLinkHtml = 'Like what you see? Visit the ' +\n",
              "          '<a target=\"_blank\" href=https://colab.research.google.com/notebooks/data_table.ipynb>data table notebook</a>'\n",
              "          + ' to learn more about interactive tables.';\n",
              "        element.innerHTML = '';\n",
              "        dataTable['output_type'] = 'display_data';\n",
              "        await google.colab.output.renderOutput(dataTable, element);\n",
              "        const docLink = document.createElement('div');\n",
              "        docLink.innerHTML = docLinkHtml;\n",
              "        element.appendChild(docLink);\n",
              "      }\n",
              "    </script>\n",
              "  </div>\n",
              "\n",
              "\n",
              "<div id=\"df-8080a2d8-0be4-4d51-9ebb-e9c1f2febc50\">\n",
              "  <button class=\"colab-df-quickchart\" onclick=\"quickchart('df-8080a2d8-0be4-4d51-9ebb-e9c1f2febc50')\"\n",
              "            title=\"Suggest charts\"\n",
              "            style=\"display:none;\">\n",
              "\n",
              "<svg xmlns=\"http://www.w3.org/2000/svg\" height=\"24px\"viewBox=\"0 0 24 24\"\n",
              "     width=\"24px\">\n",
              "    <g>\n",
              "        <path d=\"M19 3H5c-1.1 0-2 .9-2 2v14c0 1.1.9 2 2 2h14c1.1 0 2-.9 2-2V5c0-1.1-.9-2-2-2zM9 17H7v-7h2v7zm4 0h-2V7h2v10zm4 0h-2v-4h2v4z\"/>\n",
              "    </g>\n",
              "</svg>\n",
              "  </button>\n",
              "\n",
              "<style>\n",
              "  .colab-df-quickchart {\n",
              "      --bg-color: #E8F0FE;\n",
              "      --fill-color: #1967D2;\n",
              "      --hover-bg-color: #E2EBFA;\n",
              "      --hover-fill-color: #174EA6;\n",
              "      --disabled-fill-color: #AAA;\n",
              "      --disabled-bg-color: #DDD;\n",
              "  }\n",
              "\n",
              "  [theme=dark] .colab-df-quickchart {\n",
              "      --bg-color: #3B4455;\n",
              "      --fill-color: #D2E3FC;\n",
              "      --hover-bg-color: #434B5C;\n",
              "      --hover-fill-color: #FFFFFF;\n",
              "      --disabled-bg-color: #3B4455;\n",
              "      --disabled-fill-color: #666;\n",
              "  }\n",
              "\n",
              "  .colab-df-quickchart {\n",
              "    background-color: var(--bg-color);\n",
              "    border: none;\n",
              "    border-radius: 50%;\n",
              "    cursor: pointer;\n",
              "    display: none;\n",
              "    fill: var(--fill-color);\n",
              "    height: 32px;\n",
              "    padding: 0;\n",
              "    width: 32px;\n",
              "  }\n",
              "\n",
              "  .colab-df-quickchart:hover {\n",
              "    background-color: var(--hover-bg-color);\n",
              "    box-shadow: 0 1px 2px rgba(60, 64, 67, 0.3), 0 1px 3px 1px rgba(60, 64, 67, 0.15);\n",
              "    fill: var(--button-hover-fill-color);\n",
              "  }\n",
              "\n",
              "  .colab-df-quickchart-complete:disabled,\n",
              "  .colab-df-quickchart-complete:disabled:hover {\n",
              "    background-color: var(--disabled-bg-color);\n",
              "    fill: var(--disabled-fill-color);\n",
              "    box-shadow: none;\n",
              "  }\n",
              "\n",
              "  .colab-df-spinner {\n",
              "    border: 2px solid var(--fill-color);\n",
              "    border-color: transparent;\n",
              "    border-bottom-color: var(--fill-color);\n",
              "    animation:\n",
              "      spin 1s steps(1) infinite;\n",
              "  }\n",
              "\n",
              "  @keyframes spin {\n",
              "    0% {\n",
              "      border-color: transparent;\n",
              "      border-bottom-color: var(--fill-color);\n",
              "      border-left-color: var(--fill-color);\n",
              "    }\n",
              "    20% {\n",
              "      border-color: transparent;\n",
              "      border-left-color: var(--fill-color);\n",
              "      border-top-color: var(--fill-color);\n",
              "    }\n",
              "    30% {\n",
              "      border-color: transparent;\n",
              "      border-left-color: var(--fill-color);\n",
              "      border-top-color: var(--fill-color);\n",
              "      border-right-color: var(--fill-color);\n",
              "    }\n",
              "    40% {\n",
              "      border-color: transparent;\n",
              "      border-right-color: var(--fill-color);\n",
              "      border-top-color: var(--fill-color);\n",
              "    }\n",
              "    60% {\n",
              "      border-color: transparent;\n",
              "      border-right-color: var(--fill-color);\n",
              "    }\n",
              "    80% {\n",
              "      border-color: transparent;\n",
              "      border-right-color: var(--fill-color);\n",
              "      border-bottom-color: var(--fill-color);\n",
              "    }\n",
              "    90% {\n",
              "      border-color: transparent;\n",
              "      border-bottom-color: var(--fill-color);\n",
              "    }\n",
              "  }\n",
              "</style>\n",
              "\n",
              "  <script>\n",
              "    async function quickchart(key) {\n",
              "      const quickchartButtonEl =\n",
              "        document.querySelector('#' + key + ' button');\n",
              "      quickchartButtonEl.disabled = true;  // To prevent multiple clicks.\n",
              "      quickchartButtonEl.classList.add('colab-df-spinner');\n",
              "      try {\n",
              "        const charts = await google.colab.kernel.invokeFunction(\n",
              "            'suggestCharts', [key], {});\n",
              "      } catch (error) {\n",
              "        console.error('Error during call to suggestCharts:', error);\n",
              "      }\n",
              "      quickchartButtonEl.classList.remove('colab-df-spinner');\n",
              "      quickchartButtonEl.classList.add('colab-df-quickchart-complete');\n",
              "    }\n",
              "    (() => {\n",
              "      let quickchartButtonEl =\n",
              "        document.querySelector('#df-8080a2d8-0be4-4d51-9ebb-e9c1f2febc50 button');\n",
              "      quickchartButtonEl.style.display =\n",
              "        google.colab.kernel.accessAllowed ? 'block' : 'none';\n",
              "    })();\n",
              "  </script>\n",
              "</div>\n",
              "\n",
              "    </div>\n",
              "  </div>\n"
            ],
            "application/vnd.google.colaboratory.intrinsic+json": {
              "type": "dataframe"
            }
          },
          "metadata": {},
          "execution_count": 6
        }
      ]
    },
    {
      "cell_type": "markdown",
      "source": [
        "## 2.1. Variables numéricas y categóricas"
      ],
      "metadata": {
        "id": "Yr3YTyMT6OBe"
      }
    },
    {
      "cell_type": "markdown",
      "source": [
        "Con los datos visualizados en el info, vamos a observar los valores de las variables más a fondo, haciendo hincapién en las distintas observaciones que se piden en la práctica, empezamos visualizando los valores de las variables númericas"
      ],
      "metadata": {
        "id": "FR7FgsXAD5F8"
      }
    },
    {
      "cell_type": "code",
      "source": [
        "numéricas = datos.select_dtypes(include=['int64', 'float64']).columns\n",
        "print(numéricas.tolist())"
      ],
      "metadata": {
        "colab": {
          "base_uri": "https://localhost:8080/"
        },
        "id": "PNnSTQQQbP0p",
        "outputId": "09c6a9af-ef46-4d54-d6e2-781289fcb2dc"
      },
      "execution_count": 9,
      "outputs": [
        {
          "output_type": "stream",
          "name": "stdout",
          "text": [
            "['hrs', 'absences', 'JobInvolvement', 'PerformanceRating', 'EnvironmentSatisfaction', 'JobSatisfaction', 'WorkLifeBalance', 'Age', 'DistanceFromHome', 'Education', 'EmployeeCount', 'EmployeeID', 'JobLevel', 'MonthlyIncome', 'NumCompaniesWorked', 'PercentSalaryHike', 'StandardHours', 'StockOptionLevel', 'TotalWorkingYears', 'TrainingTimesLastYear', 'YearsAtCompany', 'YearsSinceLastPromotion', 'YearsWithCurrManager']\n"
          ]
        }
      ]
    },
    {
      "cell_type": "markdown",
      "source": [
        "Ahora hacemos lo mismo pero con las variables cadenas de texto"
      ],
      "metadata": {
        "id": "3xLCsM6QH5aW"
      }
    },
    {
      "cell_type": "code",
      "source": [
        "categóricas = datos.select_dtypes(include=[\"object\"]).columns.drop(\"Attrition\")\n",
        "print(categóricas.tolist())"
      ],
      "metadata": {
        "colab": {
          "base_uri": "https://localhost:8080/"
        },
        "id": "SEdrwVfGGsWx",
        "outputId": "a4391510-7239-4c41-f464-4178eb62bc67"
      },
      "execution_count": 11,
      "outputs": [
        {
          "output_type": "stream",
          "name": "stdout",
          "text": [
            "['BusinessTravel', 'Department', 'EducationField', 'Gender', 'JobRole', 'MaritalStatus', 'Over18']\n"
          ]
        }
      ]
    },
    {
      "cell_type": "markdown",
      "source": [
        "## 2.2. Variables con alta cardinalidad"
      ],
      "metadata": {
        "id": "MrB0wuSW6dzQ"
      }
    },
    {
      "cell_type": "code",
      "source": [
        "for columna in datos.select_dtypes(include=[\"object\"]).columns:\n",
        "    print(columna)\n",
        "    print(datos[columna].unique())"
      ],
      "metadata": {
        "colab": {
          "base_uri": "https://localhost:8080/"
        },
        "id": "EBkwR4EyZAf3",
        "outputId": "2fb9232e-f47c-4a74-9db1-1b6228662483"
      },
      "execution_count": null,
      "outputs": [
        {
          "output_type": "stream",
          "name": "stdout",
          "text": [
            "BusinessTravel\n",
            "['Travel_Frequently' 'Non-Travel' 'Travel_Rarely']\n",
            "Department\n",
            "['Research & Development' 'Sales' 'Human Resources']\n",
            "EducationField\n",
            "['Life Sciences' 'Medical' 'Other' 'Technical Degree' 'Marketing'\n",
            " 'Human Resources']\n",
            "Gender\n",
            "['Male' 'Female']\n",
            "JobRole\n",
            "['Laboratory Technician' 'Healthcare Representative' 'Research Scientist'\n",
            " 'Sales Representative' 'Manufacturing Director' 'Sales Executive'\n",
            " 'Research Director' 'Human Resources' 'Manager']\n",
            "MaritalStatus\n",
            "['Married' 'Divorced' 'Single']\n",
            "Over18\n",
            "['Y']\n",
            "Attrition\n",
            "['Yes' 'No']\n"
          ]
        }
      ]
    },
    {
      "cell_type": "markdown",
      "source": [
        "Analizando el texto impreso podemos observar que variables categóricas presentan elevada cardinalidad. Consideraremos elevado un número de opciones mayor de 4, en este caso salen: EducationField y JobRole."
      ],
      "metadata": {
        "id": "UnAB60GjZXKI"
      }
    },
    {
      "cell_type": "markdown",
      "source": [
        "## 2.3. Variables nulas"
      ],
      "metadata": {
        "id": "0HTaOceZ6lFf"
      }
    },
    {
      "cell_type": "markdown",
      "source": [
        "A continuación podemos comprobar si existen valores nulos en las variables y cuantos hay en cada una de ellas."
      ],
      "metadata": {
        "id": "Fn53myfnIOG0"
      }
    },
    {
      "cell_type": "code",
      "source": [
        "nulos = datos.isnull().sum()\n",
        "nulos[nulos > 0]"
      ],
      "metadata": {
        "colab": {
          "base_uri": "https://localhost:8080/",
          "height": 241
        },
        "id": "lJo1LEBiHUn8",
        "outputId": "493e181f-1c17-4e2a-d39c-d38f47b4e45d"
      },
      "execution_count": null,
      "outputs": [
        {
          "output_type": "execute_result",
          "data": {
            "text/plain": [
              "EnvironmentSatisfaction    13\n",
              "JobSatisfaction            15\n",
              "WorkLifeBalance            29\n",
              "NumCompaniesWorked         14\n",
              "TotalWorkingYears           5\n",
              "dtype: int64"
            ],
            "text/html": [
              "<div>\n",
              "<style scoped>\n",
              "    .dataframe tbody tr th:only-of-type {\n",
              "        vertical-align: middle;\n",
              "    }\n",
              "\n",
              "    .dataframe tbody tr th {\n",
              "        vertical-align: top;\n",
              "    }\n",
              "\n",
              "    .dataframe thead th {\n",
              "        text-align: right;\n",
              "    }\n",
              "</style>\n",
              "<table border=\"1\" class=\"dataframe\">\n",
              "  <thead>\n",
              "    <tr style=\"text-align: right;\">\n",
              "      <th></th>\n",
              "      <th>0</th>\n",
              "    </tr>\n",
              "  </thead>\n",
              "  <tbody>\n",
              "    <tr>\n",
              "      <th>EnvironmentSatisfaction</th>\n",
              "      <td>13</td>\n",
              "    </tr>\n",
              "    <tr>\n",
              "      <th>JobSatisfaction</th>\n",
              "      <td>15</td>\n",
              "    </tr>\n",
              "    <tr>\n",
              "      <th>WorkLifeBalance</th>\n",
              "      <td>29</td>\n",
              "    </tr>\n",
              "    <tr>\n",
              "      <th>NumCompaniesWorked</th>\n",
              "      <td>14</td>\n",
              "    </tr>\n",
              "    <tr>\n",
              "      <th>TotalWorkingYears</th>\n",
              "      <td>5</td>\n",
              "    </tr>\n",
              "  </tbody>\n",
              "</table>\n",
              "</div><br><label><b>dtype:</b> int64</label>"
            ]
          },
          "metadata": {},
          "execution_count": 14
        }
      ]
    },
    {
      "cell_type": "markdown",
      "source": [
        "Como observamos tenemos 5 variables con valores nulos en sus filas. Teniendo en cuenta que en total hay 2900 filas en la tabla se pueden hacer fácilmente los cálculos de cuántas filas vacias hay por variable."
      ],
      "metadata": {
        "id": "bMO0HTDiXN0t"
      }
    },
    {
      "cell_type": "markdown",
      "source": [
        "Una vez analizado todo lo anterior podemos buscar que posibles columnas actúan como id en la base de datos. Observando los nombres de las variables una posible opción sería EmployeeID aunque queremos comprobar si actúa como ID alguna otra."
      ],
      "metadata": {
        "id": "y460ngmGcccN"
      }
    },
    {
      "cell_type": "markdown",
      "source": [
        "## 2.4. Variables de identificación ID"
      ],
      "metadata": {
        "id": "7Y9xFtEw69OR"
      }
    },
    {
      "cell_type": "code",
      "source": [
        "for columna in datos.columns:\n",
        "    if datos[columna].nunique() == len(datos):\n",
        "        print(f\"La columna '{columna}' es un posible identificador único.\")"
      ],
      "metadata": {
        "colab": {
          "base_uri": "https://localhost:8080/"
        },
        "id": "tLbSgDVZcUId",
        "outputId": "74d3ed9f-c1ef-45f0-c0e7-0f5d85911018"
      },
      "execution_count": null,
      "outputs": [
        {
          "output_type": "stream",
          "name": "stdout",
          "text": [
            "La columna 'EmployeeID' es un posible identificador único.\n"
          ]
        }
      ]
    },
    {
      "cell_type": "markdown",
      "source": [
        "Por último, el problema que se nos propone es de clasificación, pues contamos con la variable Attrition que determina si un empleado serñia propenso a abandonar la empresa en función del resto de datos asociados. Vamos a comprobar si se trata de un problema desbalanceado o no."
      ],
      "metadata": {
        "id": "wHUQhmlZdV1S"
      }
    },
    {
      "cell_type": "markdown",
      "source": [
        "## 2.5. ¿Problema desbalanceado?"
      ],
      "metadata": {
        "id": "PIokZ4fC7v9t"
      }
    },
    {
      "cell_type": "code",
      "source": [
        "datos[\"Attrition\"].value_counts()"
      ],
      "metadata": {
        "colab": {
          "base_uri": "https://localhost:8080/",
          "height": 178
        },
        "id": "_Q-zUraNevYv",
        "outputId": "5d0f26a6-ff68-4250-9734-4d545a4682ee"
      },
      "execution_count": null,
      "outputs": [
        {
          "output_type": "execute_result",
          "data": {
            "text/plain": [
              "Attrition\n",
              "No     2466\n",
              "Yes     474\n",
              "Name: count, dtype: int64"
            ],
            "text/html": [
              "<div>\n",
              "<style scoped>\n",
              "    .dataframe tbody tr th:only-of-type {\n",
              "        vertical-align: middle;\n",
              "    }\n",
              "\n",
              "    .dataframe tbody tr th {\n",
              "        vertical-align: top;\n",
              "    }\n",
              "\n",
              "    .dataframe thead th {\n",
              "        text-align: right;\n",
              "    }\n",
              "</style>\n",
              "<table border=\"1\" class=\"dataframe\">\n",
              "  <thead>\n",
              "    <tr style=\"text-align: right;\">\n",
              "      <th></th>\n",
              "      <th>count</th>\n",
              "    </tr>\n",
              "    <tr>\n",
              "      <th>Attrition</th>\n",
              "      <th></th>\n",
              "    </tr>\n",
              "  </thead>\n",
              "  <tbody>\n",
              "    <tr>\n",
              "      <th>No</th>\n",
              "      <td>2466</td>\n",
              "    </tr>\n",
              "    <tr>\n",
              "      <th>Yes</th>\n",
              "      <td>474</td>\n",
              "    </tr>\n",
              "  </tbody>\n",
              "</table>\n",
              "</div><br><label><b>dtype:</b> int64</label>"
            ]
          },
          "metadata": {},
          "execution_count": 16
        }
      ]
    },
    {
      "cell_type": "markdown",
      "source": [
        "Como observamos, el conteo de datos nos demuestra que es un problema desbalanceado hacia el no, siendo más del 80% de las clasificaciones de un tipo."
      ],
      "metadata": {
        "id": "iTaYmNfae8R8"
      }
    },
    {
      "cell_type": "markdown",
      "source": [
        "# 3. Decidir como se va a realizar la evaluación"
      ],
      "metadata": {
        "id": "JBDyJuoj74j_"
      }
    },
    {
      "cell_type": "markdown",
      "source": [
        "Con los datos ya analizados, vamos a continuar con la realización de la práctica y vamos a comentar como vamos a evaluar nuestro modelo."
      ],
      "metadata": {
        "id": "jIpvCD-z8s6i"
      }
    },
    {
      "cell_type": "markdown",
      "source": [
        "## 3.1. Planificación de la evaluación"
      ],
      "metadata": {
        "id": "akCIMtyuDCPx"
      }
    },
    {
      "cell_type": "markdown",
      "source": [
        "- **División de los datos:**\n",
        "\n",
        "  Para realizar la evaluación de nuestro modelo lo primero que tenemos que hacer es dividir el conjunto de datos en dos partes: train y test. Usaremos aproximadamente 2/3 de los datos para train y el tercio restante para los test.\n",
        "\n",
        "- **Preprocesado de datos:**\n",
        "\n",
        "  Con los datos del train crearemos el modelo con el que evaluar los test. Para ello primero usaremos KNN con los default HP. Modificaremos el escalado usando varios formatos como Standard, MinMax y Robust. También modificaremos el tratado de datos vacios (la imputación) usando la Media, la Mediana... Por último en todos los casos usaremos el modelo 3-Fold con crossvalidation. Con todo esto buscamos obtener el mejor Escaler-Imputer.\n",
        "\n",
        "- **Ajuste de hyperparametro HPO:**\n",
        "\n",
        "  Una vez hecho esto comenzamos la búsqueda del mejor modelo; construimos una serie de modelos basandonos en las metodologías de KNN y árboles de  decisión incluyendo HPO (ajuste de hiperparametros) o no. Una vez creados todos elegiremos el modelo que mejor se ajuste a los datos procurando evitar cualquier data leakage y sobreajuste.\n",
        "\n",
        "- **Evaluación del modelo:**\n",
        "\n",
        "  Cuando hayamos encontrado la mejor alternativa usaremos el conjunto de test para obtener una estimación y rendimiento futuro del modelo. Esto es lo que se conoce como la evaluación del modelo\n"
      ],
      "metadata": {
        "id": "cpYj_Bya9WLD"
      }
    },
    {
      "cell_type": "markdown",
      "source": [
        "## 3.2. Planificación de las predicciones"
      ],
      "metadata": {
        "id": "E2Zt93s-ERjL"
      }
    },
    {
      "cell_type": "markdown",
      "source": [
        "Todo esto en conjunto lleva el modelo final, con el cual realizaremos predicciones usando un conjunto de datos de competición (NoteBook 2)"
      ],
      "metadata": {
        "id": "dZJ-I8xCEYx7"
      }
    },
    {
      "cell_type": "markdown",
      "source": [
        "# Métodos Básicos: KNN y TREES"
      ],
      "metadata": {
        "id": "QkRHkombEjzd"
      }
    },
    {
      "cell_type": "code",
      "source": [
        "from sklearn.compose import ColumnTransformer\n",
        "from sklearn.feature_selection import SelectPercentile, chi2\n",
        "from sklearn.impute import SimpleImputer\n",
        "from sklearn.pipeline import Pipeline\n",
        "from sklearn.neighbors import KNeighborsClassifier\n",
        "from sklearn.model_selection import cross_val_score, train_test_split\n",
        "from sklearn.preprocessing import MinMaxScaler, OneHotEncoder, RobustScaler, StandardScaler\n",
        "import time"
      ],
      "metadata": {
        "id": "9nLBgZ27RFQP"
      },
      "execution_count": 35,
      "outputs": []
    },
    {
      "cell_type": "code",
      "source": [
        "X = datos.drop(\"Attrition\", axis=1)\n",
        "y = datos[\"Attrition\"]\n",
        "X_train, X_test, y_train, y_test = train_test_split(X, y, test_size=1/3, random_state=0)"
      ],
      "metadata": {
        "id": "e0jHHodYKV6h"
      },
      "execution_count": 23,
      "outputs": []
    },
    {
      "cell_type": "markdown",
      "source": [
        "## 4.1. Búsqueda de mejor método de escalado e imputación"
      ],
      "metadata": {
        "id": "Tzbu8uVQRQn3"
      }
    },
    {
      "cell_type": "markdown",
      "source": [
        "Comenzamos usando KNN con los distintos métodos de escalado y de imputación con el objetivo de obtener los más apropiados para el problema."
      ],
      "metadata": {
        "id": "7GYuhjIjBOjo"
      }
    },
    {
      "cell_type": "code",
      "source": [
        "Scalers = [StandardScaler(), MinMaxScaler(), RobustScaler()]\n",
        "Imputers = [SimpleImputer(strategy=\"mean\"), SimpleImputer(strategy=\"median\")]\n",
        "Mejor_Scaler = None\n",
        "Mejor_Imputer = None\n",
        "Mejor_Score = 0\n",
        "categorical_transformer = Pipeline(steps=[(\"encoder\", OneHotEncoder(handle_unknown=\"ignore\"))])\n",
        "for scaler in Scalers:\n",
        "    for imputer in Imputers:\n",
        "      numerical_transformer = Pipeline(steps=[(\"imputer\", imputer), (\"scaler\", scaler)])\n",
        "      preprocessor = ColumnTransformer(transformers=[(\"num\", numerical_transformer, numéricas), (\"cat\", categorical_transformer, categóricas)])\n",
        "      pipeline = Pipeline(steps=[(\"preprocessor\", preprocessor), (\"classifier\", KNeighborsClassifier())])\n",
        "      score = cross_val_score(pipeline, X_train, y_train, cv=3, scoring=\"balanced_accuracy\").mean()\n",
        "      if score.mean() > Mejor_Score:\n",
        "        Mejor_Score = score.mean()\n",
        "        Mejor_Scaler = scaler\n",
        "        Mejor_Imputer = imputer\n",
        "      print(f\"Scaler: {scaler}, Imputer: {imputer}, Score: {score}\")\n",
        "print(f\"Mejor Scaler: {Mejor_Scaler}, Mejor Imputer: {Mejor_Imputer}, Mejor Score: {Mejor_Score}\")"
      ],
      "metadata": {
        "id": "jo8pt_MWFQuR",
        "outputId": "6dd16201-af4a-4430-ecda-0b72b20c832d",
        "colab": {
          "base_uri": "https://localhost:8080/"
        }
      },
      "execution_count": 34,
      "outputs": [
        {
          "output_type": "stream",
          "name": "stdout",
          "text": [
            "Scaler: StandardScaler(), Imputer: SimpleImputer(), Score: 0.5886636535348084\n",
            "Scaler: StandardScaler(), Imputer: SimpleImputer(strategy='median'), Score: 0.5904985159201296\n",
            "Scaler: MinMaxScaler(), Imputer: SimpleImputer(), Score: 0.6066901645979493\n",
            "Scaler: MinMaxScaler(), Imputer: SimpleImputer(strategy='median'), Score: 0.6066901645979493\n",
            "Scaler: RobustScaler(), Imputer: SimpleImputer(), Score: 0.5975366522755892\n",
            "Scaler: RobustScaler(), Imputer: SimpleImputer(strategy='median'), Score: 0.5990657042633568\n",
            "Mejor Scaler: MinMaxScaler(), Mejor Imputer: SimpleImputer(), Mejor Score: 0.6066901645979493\n"
          ]
        }
      ]
    },
    {
      "cell_type": "markdown",
      "source": [
        "Observando los datos podemos decir que el mejor método de escalado es MINMAX, sin embargo, a la hora de obtener el método de imputación vemos que con las dos estrategias nos sale el mismo valor hemos decidido quedarnos con la media."
      ],
      "metadata": {
        "id": "xvPTlpAsQhw9"
      }
    },
    {
      "cell_type": "markdown",
      "source": [
        "## 4.2. Busqueda de hiperparámetros"
      ],
      "metadata": {
        "id": "VNkG3zPARJ7Q"
      }
    },
    {
      "cell_type": "markdown",
      "source": [
        "Una vez tenemos los métodos de escalado y de imputación seleccionados podemos pasar a la siguiente fase. Ahora buscaremos los hiperparametros que mejor se ajustan al problema"
      ],
      "metadata": {
        "id": "R5rVifzwP9Jb"
      }
    }
  ]
}